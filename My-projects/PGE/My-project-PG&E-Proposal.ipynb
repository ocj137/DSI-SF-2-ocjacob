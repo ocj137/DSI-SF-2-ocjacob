{
 "cells": [
  {
   "cell_type": "raw",
   "metadata": {},
   "source": [
    "1.Description of project\n",
    "\n",
    "Examine PG&E data + ZIP data, weather data + Solar install data to study effect of solar power on electricity usage in CA. Will look at data from Q1, Q2 of 2015, Q1, Q2 of 2016. \n",
    " \n",
    "2.Project goals\n",
    "\n",
    "See if there are any correlations between solar power installation  and reduction \n",
    "in electricity usage in CA, in PG&E install base.\n",
    "\n",
    "\n",
    "3.Hypothesis / Problem statement\n",
    "\n",
    "Comparison of data from 2015, 2016 might show some correlation and change between\n",
    "change in solar power installation and amount of electricity used. \n",
    "\n",
    "4. Literal dataset(s)\n",
    "\n",
    "Here are some of the data sets used: \n",
    "\n",
    "https://pge-energydatarequest.com/public_datasets/download?type=electric&file=PGE_2015_Q1_ElectricUsageByZip.zip\n",
    "\n",
    "http://www.energy.ca.gov/maps/renewable/building_climate_zones.html\n",
    "\n",
    "http://www.ncdc.noaa.gov/cag/time-series/us/4/0/tavg/12/8/2010-2016?base_prd=true&firstbaseyear=1901&lastbaseyear=2000\n",
    "\n",
    "http://www.calclim.dri.edu/\n",
    "\n",
    "http://www.energy.ca.gov/maps/renewable/BuildingClimateZonesByZIPCode.pdf\n",
    "\n",
    "http://www.eia.gov/electricity/data.cfm#summary\n",
    "\n",
    "http://www.zipcodestogo.com/California/\n",
    "\n",
    "\n",
    "http://www.ncdc.noaa.gov/rcsd/western\n",
    "\n",
    "https://www.californiasolarstatistics.ca.gov/reports/locale_stats/\n",
    "\n",
    "http://www.pge.com/includes/docs/pdfs/about/edusafety/training/pec/toolbox/arch/climate/california_climate_zones_01-16.pdf\n"
   ]
  },
  {
   "cell_type": "code",
   "execution_count": null,
   "metadata": {
    "collapsed": true
   },
   "outputs": [],
   "source": []
  }
 ],
 "metadata": {
  "kernelspec": {
   "display_name": "Python [dsi]",
   "language": "python",
   "name": "Python [dsi]"
  },
  "language_info": {
   "codemirror_mode": {
    "name": "ipython",
    "version": 2
   },
   "file_extension": ".py",
   "mimetype": "text/x-python",
   "name": "python",
   "nbconvert_exporter": "python",
   "pygments_lexer": "ipython2",
   "version": "2.7.12"
  }
 },
 "nbformat": 4,
 "nbformat_minor": 0
}

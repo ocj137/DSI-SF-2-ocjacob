{
 "cells": [
  {
   "cell_type": "code",
   "execution_count": 659,
   "metadata": {
    "collapsed": false
   },
   "outputs": [],
   "source": [
    "import numpy as np\n",
    "import pandas as pd\n",
    "import patsy\n",
    "import itertools\n",
    "\n",
    "from sklearn.linear_model import Ridge, Lasso, ElasticNet, LinearRegression, RidgeCV, \\\n",
    "                 LassoCV, ElasticNetCV\n",
    "from sklearn.cross_validation import cross_val_score\n",
    "from sklearn.metrics import mean_squared_error\n",
    "\n",
    "from sklearn import grid_search, datasets\n",
    "\n",
    "import matplotlib\n",
    "import matplotlib.pyplot as plt\n",
    "import seaborn as sns\n",
    "plt.style.use('fivethirtyeight')\n",
    "\n",
    "%config InlineBackend.figure_format = 'retina'\n",
    "%matplotlib inline"
   ]
  },
  {
   "cell_type": "markdown",
   "metadata": {},
   "source": [
    "We will look at data for Q1, Q2 of 2015 and then Q1, Q2 of 2016"
   ]
  },
  {
   "cell_type": "raw",
   "metadata": {},
   "source": [
    "Load in Q1, Q2 electric data from PG&E \n",
    "Maybe do a (MC)^2 w AveragekWh_by_Year"
   ]
  },
  {
   "cell_type": "code",
   "execution_count": 660,
   "metadata": {
    "collapsed": false
   },
   "outputs": [],
   "source": [
    "pge_q1 = pd.read_csv(\"PGE_2015_Q1_ElectricUsageByZip.csv\")\n",
    "pge_q2 = pd.read_csv(\"PGE_2015_Q2_ElectricUsageByZip.csv\")\n",
    "pge_q3 = pd.read_csv(\"PGE_2015_Q3_ElectricUsageByZip.csv\")\n",
    "pge_q4 = pd.read_csv(\"PGE_2015_Q4_ElectricUsageByZip.csv\")"
   ]
  },
  {
   "cell_type": "code",
   "execution_count": 661,
   "metadata": {
    "collapsed": false
   },
   "outputs": [
    {
     "data": {
      "text/html": [
       "<div>\n",
       "<table border=\"1\" class=\"dataframe\">\n",
       "  <thead>\n",
       "    <tr style=\"text-align: right;\">\n",
       "      <th></th>\n",
       "      <th>ZipCode</th>\n",
       "      <th>Month</th>\n",
       "      <th>Year</th>\n",
       "      <th>CustomerClass</th>\n",
       "      <th>Combined</th>\n",
       "      <th>TotalCustomers</th>\n",
       "      <th>TotalkWh</th>\n",
       "      <th>AveragekWh</th>\n",
       "    </tr>\n",
       "  </thead>\n",
       "  <tbody>\n",
       "    <tr>\n",
       "      <th>7686</th>\n",
       "      <td>96125</td>\n",
       "      <td>3</td>\n",
       "      <td>2015</td>\n",
       "      <td>Elec- Residential</td>\n",
       "      <td>N</td>\n",
       "      <td>365</td>\n",
       "      <td>77,890</td>\n",
       "      <td>213</td>\n",
       "    </tr>\n",
       "    <tr>\n",
       "      <th>7687</th>\n",
       "      <td>96137</td>\n",
       "      <td>3</td>\n",
       "      <td>2015</td>\n",
       "      <td>Elec- Commercial</td>\n",
       "      <td>Y</td>\n",
       "      <td>0</td>\n",
       "      <td>0</td>\n",
       "      <td>NaN</td>\n",
       "    </tr>\n",
       "    <tr>\n",
       "      <th>7688</th>\n",
       "      <td>96137</td>\n",
       "      <td>3</td>\n",
       "      <td>2015</td>\n",
       "      <td>Elec- Residential</td>\n",
       "      <td>N</td>\n",
       "      <td>2,687</td>\n",
       "      <td>761,436</td>\n",
       "      <td>283</td>\n",
       "    </tr>\n",
       "    <tr>\n",
       "      <th>7689</th>\n",
       "      <td>96161</td>\n",
       "      <td>3</td>\n",
       "      <td>2015</td>\n",
       "      <td>Elec- Commercial</td>\n",
       "      <td>Y</td>\n",
       "      <td>0</td>\n",
       "      <td>0</td>\n",
       "      <td>NaN</td>\n",
       "    </tr>\n",
       "    <tr>\n",
       "      <th>7690</th>\n",
       "      <td>96161</td>\n",
       "      <td>3</td>\n",
       "      <td>2015</td>\n",
       "      <td>Elec- Residential</td>\n",
       "      <td>Y</td>\n",
       "      <td>0</td>\n",
       "      <td>0</td>\n",
       "      <td>NaN</td>\n",
       "    </tr>\n",
       "  </tbody>\n",
       "</table>\n",
       "</div>"
      ],
      "text/plain": [
       "      ZipCode  Month  Year      CustomerClass Combined TotalCustomers  \\\n",
       "7686    96125      3  2015  Elec- Residential        N            365   \n",
       "7687    96137      3  2015   Elec- Commercial        Y              0   \n",
       "7688    96137      3  2015  Elec- Residential        N          2,687   \n",
       "7689    96161      3  2015   Elec- Commercial        Y              0   \n",
       "7690    96161      3  2015  Elec- Residential        Y              0   \n",
       "\n",
       "     TotalkWh AveragekWh  \n",
       "7686   77,890        213  \n",
       "7687        0        NaN  \n",
       "7688  761,436        283  \n",
       "7689        0        NaN  \n",
       "7690        0        NaN  "
      ]
     },
     "execution_count": 661,
     "metadata": {},
     "output_type": "execute_result"
    }
   ],
   "source": [
    "pge_q1.tail()"
   ]
  },
  {
   "cell_type": "code",
   "execution_count": 662,
   "metadata": {
    "collapsed": false
   },
   "outputs": [
    {
     "data": {
      "text/html": [
       "<div>\n",
       "<table border=\"1\" class=\"dataframe\">\n",
       "  <thead>\n",
       "    <tr style=\"text-align: right;\">\n",
       "      <th></th>\n",
       "      <th>ZipCode</th>\n",
       "      <th>Month</th>\n",
       "      <th>Year</th>\n",
       "      <th>CustomerClass</th>\n",
       "      <th>Combined</th>\n",
       "      <th>TotalCustomers</th>\n",
       "      <th>TotalkWh</th>\n",
       "      <th>AveragekWh</th>\n",
       "    </tr>\n",
       "  </thead>\n",
       "  <tbody>\n",
       "    <tr>\n",
       "      <th>7708</th>\n",
       "      <td>96125</td>\n",
       "      <td>6</td>\n",
       "      <td>2015</td>\n",
       "      <td>Elec- Residential</td>\n",
       "      <td>N</td>\n",
       "      <td>366</td>\n",
       "      <td>83,776</td>\n",
       "      <td>229</td>\n",
       "    </tr>\n",
       "    <tr>\n",
       "      <th>7709</th>\n",
       "      <td>96137</td>\n",
       "      <td>6</td>\n",
       "      <td>2015</td>\n",
       "      <td>Elec- Commercial</td>\n",
       "      <td>Y</td>\n",
       "      <td>0</td>\n",
       "      <td>0</td>\n",
       "      <td>NaN</td>\n",
       "    </tr>\n",
       "    <tr>\n",
       "      <th>7710</th>\n",
       "      <td>96137</td>\n",
       "      <td>6</td>\n",
       "      <td>2015</td>\n",
       "      <td>Elec- Residential</td>\n",
       "      <td>N</td>\n",
       "      <td>2,701</td>\n",
       "      <td>988,483</td>\n",
       "      <td>366</td>\n",
       "    </tr>\n",
       "    <tr>\n",
       "      <th>7711</th>\n",
       "      <td>96161</td>\n",
       "      <td>6</td>\n",
       "      <td>2015</td>\n",
       "      <td>Elec- Commercial</td>\n",
       "      <td>Y</td>\n",
       "      <td>0</td>\n",
       "      <td>0</td>\n",
       "      <td>NaN</td>\n",
       "    </tr>\n",
       "    <tr>\n",
       "      <th>7712</th>\n",
       "      <td>96161</td>\n",
       "      <td>6</td>\n",
       "      <td>2015</td>\n",
       "      <td>Elec- Residential</td>\n",
       "      <td>Y</td>\n",
       "      <td>0</td>\n",
       "      <td>0</td>\n",
       "      <td>NaN</td>\n",
       "    </tr>\n",
       "  </tbody>\n",
       "</table>\n",
       "</div>"
      ],
      "text/plain": [
       "      ZipCode  Month  Year      CustomerClass Combined TotalCustomers  \\\n",
       "7708    96125      6  2015  Elec- Residential        N            366   \n",
       "7709    96137      6  2015   Elec- Commercial        Y              0   \n",
       "7710    96137      6  2015  Elec- Residential        N          2,701   \n",
       "7711    96161      6  2015   Elec- Commercial        Y              0   \n",
       "7712    96161      6  2015  Elec- Residential        Y              0   \n",
       "\n",
       "     TotalkWh AveragekWh  \n",
       "7708   83,776        229  \n",
       "7709        0        NaN  \n",
       "7710  988,483        366  \n",
       "7711        0        NaN  \n",
       "7712        0        NaN  "
      ]
     },
     "execution_count": 662,
     "metadata": {},
     "output_type": "execute_result"
    }
   ],
   "source": [
    "pge_q2.tail()"
   ]
  },
  {
   "cell_type": "raw",
   "metadata": {},
   "source": [
    "Let's do some data cleanup & EDA"
   ]
  },
  {
   "cell_type": "code",
   "execution_count": 663,
   "metadata": {
    "collapsed": true
   },
   "outputs": [],
   "source": [
    "pge_q1_df = pd.DataFrame(pge_q1)\n",
    "pge_q2_df = pd.DataFrame(pge_q2)\n",
    "pge_q3_df = pd.DataFrame(pge_q3)\n",
    "pge_q4_df = pd.DataFrame(pge_q4)"
   ]
  },
  {
   "cell_type": "code",
   "execution_count": 664,
   "metadata": {
    "collapsed": false
   },
   "outputs": [
    {
     "data": {
      "text/plain": [
       "((7691, 8), (7713, 8), (7741, 8), (7733, 8))"
      ]
     },
     "execution_count": 664,
     "metadata": {},
     "output_type": "execute_result"
    }
   ],
   "source": [
    "pge_q1_df.shape, pge_q2_df.shape, pge_q3_df.shape, pge_q4_df.shape"
   ]
  },
  {
   "cell_type": "code",
   "execution_count": 665,
   "metadata": {
    "collapsed": true
   },
   "outputs": [],
   "source": [
    "pge_q = pd.concat([pge_q1_df, pge_q2_df, pge_q3_df, pge_q4_df])"
   ]
  },
  {
   "cell_type": "code",
   "execution_count": 666,
   "metadata": {
    "collapsed": false
   },
   "outputs": [
    {
     "data": {
      "text/plain": [
       "(30878, 8)"
      ]
     },
     "execution_count": 666,
     "metadata": {},
     "output_type": "execute_result"
    }
   ],
   "source": [
    "pge_q.shape"
   ]
  },
  {
   "cell_type": "code",
   "execution_count": 667,
   "metadata": {
    "collapsed": true
   },
   "outputs": [],
   "source": [
    "pge_q = pge_q.sample(frac=0.10)"
   ]
  },
  {
   "cell_type": "code",
   "execution_count": 654,
   "metadata": {
    "collapsed": false
   },
   "outputs": [
    {
     "data": {
      "text/plain": [
       "(3088, 8)"
      ]
     },
     "execution_count": 654,
     "metadata": {},
     "output_type": "execute_result"
    }
   ],
   "source": [
    "pge_q.shape"
   ]
  },
  {
   "cell_type": "code",
   "execution_count": 668,
   "metadata": {
    "collapsed": false
   },
   "outputs": [
    {
     "data": {
      "text/html": [
       "<div>\n",
       "<table border=\"1\" class=\"dataframe\">\n",
       "  <thead>\n",
       "    <tr style=\"text-align: right;\">\n",
       "      <th></th>\n",
       "      <th>ZipCode</th>\n",
       "      <th>Month</th>\n",
       "      <th>Year</th>\n",
       "      <th>CustomerClass</th>\n",
       "      <th>Combined</th>\n",
       "      <th>TotalCustomers</th>\n",
       "      <th>TotalkWh</th>\n",
       "      <th>AveragekWh</th>\n",
       "    </tr>\n",
       "  </thead>\n",
       "  <tbody>\n",
       "    <tr>\n",
       "      <th>1516</th>\n",
       "      <td>95251</td>\n",
       "      <td>1</td>\n",
       "      <td>2015</td>\n",
       "      <td>Elec- Residential</td>\n",
       "      <td>N</td>\n",
       "      <td>279</td>\n",
       "      <td>204,611</td>\n",
       "      <td>733</td>\n",
       "    </tr>\n",
       "    <tr>\n",
       "      <th>6612</th>\n",
       "      <td>95212</td>\n",
       "      <td>12</td>\n",
       "      <td>2015</td>\n",
       "      <td>Elec- Commercial</td>\n",
       "      <td>N</td>\n",
       "      <td>232</td>\n",
       "      <td>2,480,565</td>\n",
       "      <td>10,692</td>\n",
       "    </tr>\n",
       "    <tr>\n",
       "      <th>4229</th>\n",
       "      <td>95374</td>\n",
       "      <td>2</td>\n",
       "      <td>2015</td>\n",
       "      <td>Elec- Agricultural</td>\n",
       "      <td>Y</td>\n",
       "      <td>0</td>\n",
       "      <td>0</td>\n",
       "      <td>NaN</td>\n",
       "    </tr>\n",
       "  </tbody>\n",
       "</table>\n",
       "</div>"
      ],
      "text/plain": [
       "      ZipCode  Month  Year       CustomerClass Combined TotalCustomers  \\\n",
       "1516    95251      1  2015   Elec- Residential        N            279   \n",
       "6612    95212     12  2015    Elec- Commercial        N            232   \n",
       "4229    95374      2  2015  Elec- Agricultural        Y              0   \n",
       "\n",
       "       TotalkWh AveragekWh  \n",
       "1516    204,611        733  \n",
       "6612  2,480,565     10,692  \n",
       "4229          0        NaN  "
      ]
     },
     "execution_count": 668,
     "metadata": {},
     "output_type": "execute_result"
    }
   ],
   "source": [
    "pge_q.head(3)\n"
   ]
  },
  {
   "cell_type": "code",
   "execution_count": 669,
   "metadata": {
    "collapsed": false
   },
   "outputs": [],
   "source": [
    "pge_q.columns = [x.replace(',','') for x in pge_q.columns]"
   ]
  },
  {
   "cell_type": "code",
   "execution_count": 670,
   "metadata": {
    "collapsed": false
   },
   "outputs": [],
   "source": [
    "pge_q['AveragekWh']  = [ np.nan_to_num(x) for x in  pge_q['AveragekWh']]"
   ]
  },
  {
   "cell_type": "code",
   "execution_count": 671,
   "metadata": {
    "collapsed": false
   },
   "outputs": [
    {
     "data": {
      "text/html": [
       "<div>\n",
       "<table border=\"1\" class=\"dataframe\">\n",
       "  <thead>\n",
       "    <tr style=\"text-align: right;\">\n",
       "      <th></th>\n",
       "      <th>ZipCode</th>\n",
       "      <th>Month</th>\n",
       "      <th>Year</th>\n",
       "      <th>CustomerClass</th>\n",
       "      <th>Combined</th>\n",
       "      <th>TotalCustomers</th>\n",
       "      <th>TotalkWh</th>\n",
       "      <th>AveragekWh</th>\n",
       "    </tr>\n",
       "  </thead>\n",
       "  <tbody>\n",
       "    <tr>\n",
       "      <th>6812</th>\n",
       "      <td>95385</td>\n",
       "      <td>3</td>\n",
       "      <td>2015</td>\n",
       "      <td>Elec- Residential</td>\n",
       "      <td>N</td>\n",
       "      <td>93</td>\n",
       "      <td>57,318</td>\n",
       "      <td>616</td>\n",
       "    </tr>\n",
       "    <tr>\n",
       "      <th>3211</th>\n",
       "      <td>94030</td>\n",
       "      <td>11</td>\n",
       "      <td>2015</td>\n",
       "      <td>Elec- Commercial</td>\n",
       "      <td>N</td>\n",
       "      <td>425</td>\n",
       "      <td>3,215,464</td>\n",
       "      <td>7,566</td>\n",
       "    </tr>\n",
       "    <tr>\n",
       "      <th>3954</th>\n",
       "      <td>95125</td>\n",
       "      <td>8</td>\n",
       "      <td>2015</td>\n",
       "      <td>Elec- Agricultural</td>\n",
       "      <td>Y</td>\n",
       "      <td>0</td>\n",
       "      <td>0</td>\n",
       "      <td>0</td>\n",
       "    </tr>\n",
       "    <tr>\n",
       "      <th>3625</th>\n",
       "      <td>94607</td>\n",
       "      <td>5</td>\n",
       "      <td>2015</td>\n",
       "      <td>Elec- Industrial</td>\n",
       "      <td>Y</td>\n",
       "      <td>0</td>\n",
       "      <td>0</td>\n",
       "      <td>0</td>\n",
       "    </tr>\n",
       "    <tr>\n",
       "      <th>297</th>\n",
       "      <td>93607</td>\n",
       "      <td>7</td>\n",
       "      <td>2015</td>\n",
       "      <td>Elec- Agricultural</td>\n",
       "      <td>N</td>\n",
       "      <td>25</td>\n",
       "      <td>1,738,078</td>\n",
       "      <td>69,523</td>\n",
       "    </tr>\n",
       "  </tbody>\n",
       "</table>\n",
       "</div>"
      ],
      "text/plain": [
       "      ZipCode  Month  Year       CustomerClass Combined TotalCustomers  \\\n",
       "6812    95385      3  2015   Elec- Residential        N             93   \n",
       "3211    94030     11  2015    Elec- Commercial        N            425   \n",
       "3954    95125      8  2015  Elec- Agricultural        Y              0   \n",
       "3625    94607      5  2015    Elec- Industrial        Y              0   \n",
       "297     93607      7  2015  Elec- Agricultural        N             25   \n",
       "\n",
       "       TotalkWh AveragekWh  \n",
       "6812     57,318        616  \n",
       "3211  3,215,464      7,566  \n",
       "3954          0          0  \n",
       "3625          0          0  \n",
       "297   1,738,078     69,523  "
      ]
     },
     "execution_count": 671,
     "metadata": {},
     "output_type": "execute_result"
    }
   ],
   "source": [
    "pge_q.tail()"
   ]
  },
  {
   "cell_type": "code",
   "execution_count": 672,
   "metadata": {
    "collapsed": false
   },
   "outputs": [],
   "source": [
    "pge_q.TotalkWh = [(x.replace(',','')) for x in pge_q.TotalkWh]"
   ]
  },
  {
   "cell_type": "code",
   "execution_count": 673,
   "metadata": {
    "collapsed": true
   },
   "outputs": [],
   "source": [
    "pge_q.Combined = pge_q.Combined.map(lambda x: 1 if x == 'N' else 0)"
   ]
  },
  {
   "cell_type": "code",
   "execution_count": 674,
   "metadata": {
    "collapsed": false
   },
   "outputs": [
    {
     "data": {
      "text/html": [
       "<div>\n",
       "<table border=\"1\" class=\"dataframe\">\n",
       "  <thead>\n",
       "    <tr style=\"text-align: right;\">\n",
       "      <th></th>\n",
       "      <th>ZipCode</th>\n",
       "      <th>Month</th>\n",
       "      <th>Year</th>\n",
       "      <th>CustomerClass</th>\n",
       "      <th>Combined</th>\n",
       "      <th>TotalCustomers</th>\n",
       "      <th>TotalkWh</th>\n",
       "      <th>AveragekWh</th>\n",
       "    </tr>\n",
       "  </thead>\n",
       "  <tbody>\n",
       "    <tr>\n",
       "      <th>3954</th>\n",
       "      <td>95125</td>\n",
       "      <td>8</td>\n",
       "      <td>2015</td>\n",
       "      <td>Elec- Agricultural</td>\n",
       "      <td>0</td>\n",
       "      <td>0</td>\n",
       "      <td>0</td>\n",
       "      <td>0</td>\n",
       "    </tr>\n",
       "    <tr>\n",
       "      <th>3625</th>\n",
       "      <td>94607</td>\n",
       "      <td>5</td>\n",
       "      <td>2015</td>\n",
       "      <td>Elec- Industrial</td>\n",
       "      <td>0</td>\n",
       "      <td>0</td>\n",
       "      <td>0</td>\n",
       "      <td>0</td>\n",
       "    </tr>\n",
       "    <tr>\n",
       "      <th>297</th>\n",
       "      <td>93607</td>\n",
       "      <td>7</td>\n",
       "      <td>2015</td>\n",
       "      <td>Elec- Agricultural</td>\n",
       "      <td>1</td>\n",
       "      <td>25</td>\n",
       "      <td>1738078</td>\n",
       "      <td>69,523</td>\n",
       "    </tr>\n",
       "  </tbody>\n",
       "</table>\n",
       "</div>"
      ],
      "text/plain": [
       "      ZipCode  Month  Year       CustomerClass  Combined TotalCustomers  \\\n",
       "3954    95125      8  2015  Elec- Agricultural         0              0   \n",
       "3625    94607      5  2015    Elec- Industrial         0              0   \n",
       "297     93607      7  2015  Elec- Agricultural         1             25   \n",
       "\n",
       "     TotalkWh AveragekWh  \n",
       "3954        0          0  \n",
       "3625        0          0  \n",
       "297   1738078     69,523  "
      ]
     },
     "execution_count": 674,
     "metadata": {},
     "output_type": "execute_result"
    }
   ],
   "source": [
    "pge_q.tail(3)"
   ]
  },
  {
   "cell_type": "code",
   "execution_count": 675,
   "metadata": {
    "collapsed": false
   },
   "outputs": [
    {
     "data": {
      "text/plain": [
       "array(['Elec- Residential', 'Elec- Commercial', 'Elec- Agricultural',\n",
       "       'Elec- Industrial'], dtype=object)"
      ]
     },
     "execution_count": 675,
     "metadata": {},
     "output_type": "execute_result"
    }
   ],
   "source": [
    "pge_q.CustomerClass.unique()"
   ]
  },
  {
   "cell_type": "code",
   "execution_count": 676,
   "metadata": {
    "collapsed": false
   },
   "outputs": [],
   "source": [
    "def cust_clean(x):\n",
    "    \n",
    "    if x == 'Elec- Commercial':\n",
    "        x  = 1\n",
    "    elif x == 'Elec- Residential':\n",
    "         x = 2\n",
    "    elif x == 'Elec- Agricultural':\n",
    "         x = 3\n",
    "    elif x == 'Elec- Industrial':\n",
    "         x = 4\n",
    "\n",
    "    return x"
   ]
  },
  {
   "cell_type": "code",
   "execution_count": 677,
   "metadata": {
    "collapsed": true
   },
   "outputs": [],
   "source": [
    "pge_q.CustomerClass = pge_q.CustomerClass.apply(cust_clean)"
   ]
  },
  {
   "cell_type": "code",
   "execution_count": 678,
   "metadata": {
    "collapsed": false
   },
   "outputs": [
    {
     "data": {
      "text/plain": [
       "array([2, 1, 3, 4])"
      ]
     },
     "execution_count": 678,
     "metadata": {},
     "output_type": "execute_result"
    }
   ],
   "source": [
    "pge_q.CustomerClass.unique()"
   ]
  },
  {
   "cell_type": "code",
   "execution_count": 679,
   "metadata": {
    "collapsed": false
   },
   "outputs": [
    {
     "data": {
      "text/plain": [
       "1516       733\n",
       "6612    10,692\n",
       "4229         0\n",
       "126          0\n",
       "4526     1,544\n",
       "Name: AveragekWh, dtype: object"
      ]
     },
     "execution_count": 679,
     "metadata": {},
     "output_type": "execute_result"
    }
   ],
   "source": [
    "pge_q.AveragekWh.head()"
   ]
  },
  {
   "cell_type": "code",
   "execution_count": 680,
   "metadata": {
    "collapsed": false
   },
   "outputs": [
    {
     "data": {
      "text/plain": [
       "(3088, 8)"
      ]
     },
     "execution_count": 680,
     "metadata": {},
     "output_type": "execute_result"
    }
   ],
   "source": [
    "pge_q.shape"
   ]
  },
  {
   "cell_type": "code",
   "execution_count": 681,
   "metadata": {
    "collapsed": false
   },
   "outputs": [
    {
     "name": "stdout",
     "output_type": "stream",
     "text": [
      "<class 'pandas.core.frame.DataFrame'>\n",
      "Int64Index: 3088 entries, 1516 to 297\n",
      "Data columns (total 8 columns):\n",
      "ZipCode           3088 non-null int64\n",
      "Month             3088 non-null int64\n",
      "Year              3088 non-null int64\n",
      "CustomerClass     3088 non-null int64\n",
      "Combined          3088 non-null int64\n",
      "TotalCustomers    3088 non-null object\n",
      "TotalkWh          3088 non-null object\n",
      "AveragekWh        3088 non-null object\n",
      "dtypes: int64(5), object(3)\n",
      "memory usage: 217.1+ KB\n"
     ]
    }
   ],
   "source": [
    "pge_q.info()"
   ]
  },
  {
   "cell_type": "code",
   "execution_count": 682,
   "metadata": {
    "collapsed": false
   },
   "outputs": [
    {
     "data": {
      "text/plain": [
       "844"
      ]
     },
     "execution_count": 682,
     "metadata": {},
     "output_type": "execute_result"
    }
   ],
   "source": [
    "len(pge_q['ZipCode'].unique())"
   ]
  },
  {
   "cell_type": "code",
   "execution_count": 683,
   "metadata": {
    "collapsed": false
   },
   "outputs": [
    {
     "data": {
      "text/plain": [
       "1178"
      ]
     },
     "execution_count": 683,
     "metadata": {},
     "output_type": "execute_result"
    }
   ],
   "source": [
    "len(pge_q['TotalCustomers'].unique())"
   ]
  },
  {
   "cell_type": "code",
   "execution_count": 684,
   "metadata": {
    "collapsed": false
   },
   "outputs": [
    {
     "name": "stdout",
     "output_type": "stream",
     "text": [
      "['ZipCode', 'Month', 'CustomerClass', 'Combined', 'TotalCustomers', 'TotalkWh', 'AveragekWh']\n"
     ]
    }
   ],
   "source": [
    "pge_q_num_cols = [c for c in pge_q.columns if c != 'Year']\n",
    "print pge_q_num_cols\n",
    "pge_q_num = pge_q[pge_q_num_cols]"
   ]
  },
  {
   "cell_type": "code",
   "execution_count": 685,
   "metadata": {
    "collapsed": false
   },
   "outputs": [
    {
     "data": {
      "text/html": [
       "<div>\n",
       "<table border=\"1\" class=\"dataframe\">\n",
       "  <thead>\n",
       "    <tr style=\"text-align: right;\">\n",
       "      <th></th>\n",
       "      <th>ZipCode</th>\n",
       "      <th>Month</th>\n",
       "      <th>CustomerClass</th>\n",
       "      <th>Combined</th>\n",
       "      <th>TotalCustomers</th>\n",
       "      <th>TotalkWh</th>\n",
       "      <th>AveragekWh</th>\n",
       "    </tr>\n",
       "  </thead>\n",
       "  <tbody>\n",
       "    <tr>\n",
       "      <th>3954</th>\n",
       "      <td>95125</td>\n",
       "      <td>8</td>\n",
       "      <td>3</td>\n",
       "      <td>0</td>\n",
       "      <td>0</td>\n",
       "      <td>0</td>\n",
       "      <td>0</td>\n",
       "    </tr>\n",
       "    <tr>\n",
       "      <th>3625</th>\n",
       "      <td>94607</td>\n",
       "      <td>5</td>\n",
       "      <td>4</td>\n",
       "      <td>0</td>\n",
       "      <td>0</td>\n",
       "      <td>0</td>\n",
       "      <td>0</td>\n",
       "    </tr>\n",
       "    <tr>\n",
       "      <th>297</th>\n",
       "      <td>93607</td>\n",
       "      <td>7</td>\n",
       "      <td>3</td>\n",
       "      <td>1</td>\n",
       "      <td>25</td>\n",
       "      <td>1738078</td>\n",
       "      <td>69,523</td>\n",
       "    </tr>\n",
       "  </tbody>\n",
       "</table>\n",
       "</div>"
      ],
      "text/plain": [
       "      ZipCode  Month  CustomerClass  Combined TotalCustomers TotalkWh  \\\n",
       "3954    95125      8              3         0              0        0   \n",
       "3625    94607      5              4         0              0        0   \n",
       "297     93607      7              3         1             25  1738078   \n",
       "\n",
       "     AveragekWh  \n",
       "3954          0  \n",
       "3625          0  \n",
       "297      69,523  "
      ]
     },
     "execution_count": 685,
     "metadata": {},
     "output_type": "execute_result"
    }
   ],
   "source": [
    "pge_q_num.tail(3)"
   ]
  },
  {
   "cell_type": "code",
   "execution_count": 686,
   "metadata": {
    "collapsed": false,
    "scrolled": true
   },
   "outputs": [
    {
     "name": "stdout",
     "output_type": "stream",
     "text": [
      "<class 'pandas.core.frame.DataFrame'>\n",
      "Int64Index: 3088 entries, 1516 to 297\n",
      "Data columns (total 7 columns):\n",
      "ZipCode           3088 non-null int64\n",
      "Month             3088 non-null int64\n",
      "CustomerClass     3088 non-null int64\n",
      "Combined          3088 non-null int64\n",
      "TotalCustomers    3088 non-null object\n",
      "TotalkWh          3088 non-null object\n",
      "AveragekWh        3088 non-null object\n",
      "dtypes: int64(4), object(3)\n",
      "memory usage: 193.0+ KB\n"
     ]
    }
   ],
   "source": [
    "pge_q_num.info()"
   ]
  },
  {
   "cell_type": "code",
   "execution_count": 687,
   "metadata": {
    "collapsed": false
   },
   "outputs": [],
   "source": [
    "pge_q_num.TotalCustomers = [x.replace(',','') for x in pge_q_num.TotalCustomers]"
   ]
  },
  {
   "cell_type": "code",
   "execution_count": 688,
   "metadata": {
    "collapsed": false
   },
   "outputs": [],
   "source": [
    "pge_q_num['AveragekWh_22'] = pge_q_num['AveragekWh'].astype(str)"
   ]
  },
  {
   "cell_type": "code",
   "execution_count": 689,
   "metadata": {
    "collapsed": true
   },
   "outputs": [],
   "source": [
    "pge_q_num.AveragekWh_22 = [x.replace(',','') for x in pge_q_num.AveragekWh_22]"
   ]
  },
  {
   "cell_type": "raw",
   "metadata": {},
   "source": [
    "We will get rid of redundant columns with Combined = 1"
   ]
  },
  {
   "cell_type": "code",
   "execution_count": 690,
   "metadata": {
    "collapsed": true
   },
   "outputs": [],
   "source": [
    "pge_q_num = pge_q_num[pge_q_num.Combined != 0]"
   ]
  },
  {
   "cell_type": "code",
   "execution_count": 691,
   "metadata": {
    "collapsed": false
   },
   "outputs": [
    {
     "name": "stdout",
     "output_type": "stream",
     "text": [
      "<class 'pandas.core.frame.DataFrame'>\n",
      "Int64Index: 1195 entries, 1516 to 297\n",
      "Data columns (total 8 columns):\n",
      "ZipCode           1195 non-null int64\n",
      "Month             1195 non-null int64\n",
      "CustomerClass     1195 non-null int64\n",
      "Combined          1195 non-null int64\n",
      "TotalCustomers    1195 non-null object\n",
      "TotalkWh          1195 non-null object\n",
      "AveragekWh        1195 non-null object\n",
      "AveragekWh_22     1195 non-null object\n",
      "dtypes: int64(4), object(4)\n",
      "memory usage: 84.0+ KB\n"
     ]
    }
   ],
   "source": [
    "pge_q_num.info()"
   ]
  },
  {
   "cell_type": "code",
   "execution_count": 692,
   "metadata": {
    "collapsed": false
   },
   "outputs": [],
   "source": [
    "pge_q_num.TotalCustomers = pge_q_num.TotalCustomers.astype(float)\n",
    "pge_q_num.TotalkWh = pge_q_num.TotalkWh.astype(float)\n",
    "pge_q_num.AveragekWh_22 = pge_q_num.AveragekWh_22.astype(float)\n",
    "pge_q_num.AveragekWh = pge_q_num.AveragekWh_22"
   ]
  },
  {
   "cell_type": "code",
   "execution_count": 693,
   "metadata": {
    "collapsed": false
   },
   "outputs": [],
   "source": [
    "del pge_q_num['AveragekWh_22']"
   ]
  },
  {
   "cell_type": "code",
   "execution_count": 694,
   "metadata": {
    "collapsed": false
   },
   "outputs": [
    {
     "data": {
      "text/html": [
       "<div>\n",
       "<table border=\"1\" class=\"dataframe\">\n",
       "  <thead>\n",
       "    <tr style=\"text-align: right;\">\n",
       "      <th></th>\n",
       "      <th>ZipCode</th>\n",
       "      <th>Month</th>\n",
       "      <th>CustomerClass</th>\n",
       "      <th>Combined</th>\n",
       "      <th>TotalCustomers</th>\n",
       "      <th>TotalkWh</th>\n",
       "      <th>AveragekWh</th>\n",
       "    </tr>\n",
       "  </thead>\n",
       "  <tbody>\n",
       "    <tr>\n",
       "      <th>1516</th>\n",
       "      <td>95251</td>\n",
       "      <td>1</td>\n",
       "      <td>2</td>\n",
       "      <td>1</td>\n",
       "      <td>279.0</td>\n",
       "      <td>204611.0</td>\n",
       "      <td>733.0</td>\n",
       "    </tr>\n",
       "    <tr>\n",
       "      <th>6612</th>\n",
       "      <td>95212</td>\n",
       "      <td>12</td>\n",
       "      <td>1</td>\n",
       "      <td>1</td>\n",
       "      <td>232.0</td>\n",
       "      <td>2480565.0</td>\n",
       "      <td>10692.0</td>\n",
       "    </tr>\n",
       "    <tr>\n",
       "      <th>4526</th>\n",
       "      <td>95549</td>\n",
       "      <td>11</td>\n",
       "      <td>2</td>\n",
       "      <td>1</td>\n",
       "      <td>279.0</td>\n",
       "      <td>430862.0</td>\n",
       "      <td>1544.0</td>\n",
       "    </tr>\n",
       "  </tbody>\n",
       "</table>\n",
       "</div>"
      ],
      "text/plain": [
       "      ZipCode  Month  CustomerClass  Combined  TotalCustomers   TotalkWh  \\\n",
       "1516    95251      1              2         1           279.0   204611.0   \n",
       "6612    95212     12              1         1           232.0  2480565.0   \n",
       "4526    95549     11              2         1           279.0   430862.0   \n",
       "\n",
       "      AveragekWh  \n",
       "1516       733.0  \n",
       "6612     10692.0  \n",
       "4526      1544.0  "
      ]
     },
     "execution_count": 694,
     "metadata": {},
     "output_type": "execute_result"
    }
   ],
   "source": [
    "pge_q_num.head(3)"
   ]
  },
  {
   "cell_type": "code",
   "execution_count": 695,
   "metadata": {
    "collapsed": false
   },
   "outputs": [
    {
     "data": {
      "text/plain": [
       "(1195, 7)"
      ]
     },
     "execution_count": 695,
     "metadata": {},
     "output_type": "execute_result"
    }
   ],
   "source": [
    "pge_q_num.shape"
   ]
  },
  {
   "cell_type": "markdown",
   "metadata": {},
   "source": [
    "Looking just at PG&E consumption data, we see that there is strong anti-correlation\n",
    "between \"TotalKWh\" and \"Month\", and anti-corellation with \"CustomerClass\"."
   ]
  },
  {
   "cell_type": "raw",
   "metadata": {
    "collapsed": true
   },
   "source": [
    "Let's also check which of these zip codes are unique...."
   ]
  },
  {
   "cell_type": "code",
   "execution_count": 696,
   "metadata": {
    "collapsed": false
   },
   "outputs": [],
   "source": [
    "zip_to_zones_data = pd.read_csv('BuildingClimateZonesByZIPCode.csv')"
   ]
  },
  {
   "cell_type": "code",
   "execution_count": 697,
   "metadata": {
    "collapsed": true
   },
   "outputs": [],
   "source": [
    "zip_to_zones_df = pd.DataFrame(zip_to_zones_data)"
   ]
  },
  {
   "cell_type": "code",
   "execution_count": 698,
   "metadata": {
    "collapsed": false
   },
   "outputs": [
    {
     "data": {
      "text/plain": [
       "96162.0"
      ]
     },
     "execution_count": 698,
     "metadata": {},
     "output_type": "execute_result"
    }
   ],
   "source": [
    "zip_to_zones_df['ZIP Code'].max()"
   ]
  },
  {
   "cell_type": "code",
   "execution_count": 699,
   "metadata": {
    "collapsed": false
   },
   "outputs": [
    {
     "data": {
      "text/plain": [
       "(1724, 5)"
      ]
     },
     "execution_count": 699,
     "metadata": {},
     "output_type": "execute_result"
    }
   ],
   "source": [
    "zip_to_zones_df.shape"
   ]
  },
  {
   "cell_type": "code",
   "execution_count": 700,
   "metadata": {
    "collapsed": false
   },
   "outputs": [
    {
     "data": {
      "text/html": [
       "<div>\n",
       "<table border=\"1\" class=\"dataframe\">\n",
       "  <thead>\n",
       "    <tr style=\"text-align: right;\">\n",
       "      <th></th>\n",
       "      <th>ZIP Code</th>\n",
       "      <th>Building Climate Zone</th>\n",
       "      <th>Unnamed: 2</th>\n",
       "      <th>Unnamed: 3</th>\n",
       "      <th>Unnamed: 4</th>\n",
       "    </tr>\n",
       "  </thead>\n",
       "  <tbody>\n",
       "    <tr>\n",
       "      <th>1721</th>\n",
       "      <td>96161.0</td>\n",
       "      <td>16.0</td>\n",
       "      <td>NaN</td>\n",
       "      <td>NaN</td>\n",
       "      <td>NaN</td>\n",
       "    </tr>\n",
       "    <tr>\n",
       "      <th>1722</th>\n",
       "      <td>96162.0</td>\n",
       "      <td>16.0</td>\n",
       "      <td>NaN</td>\n",
       "      <td>NaN</td>\n",
       "      <td>NaN</td>\n",
       "    </tr>\n",
       "    <tr>\n",
       "      <th>1723</th>\n",
       "      <td>NaN</td>\n",
       "      <td>NaN</td>\n",
       "      <td>NaN</td>\n",
       "      <td>NaN</td>\n",
       "      <td>NaN</td>\n",
       "    </tr>\n",
       "  </tbody>\n",
       "</table>\n",
       "</div>"
      ],
      "text/plain": [
       "      ZIP Code  Building Climate Zone Unnamed: 2  Unnamed: 3  Unnamed: 4\n",
       "1721   96161.0                   16.0        NaN         NaN         NaN\n",
       "1722   96162.0                   16.0        NaN         NaN         NaN\n",
       "1723       NaN                    NaN        NaN         NaN         NaN"
      ]
     },
     "execution_count": 700,
     "metadata": {},
     "output_type": "execute_result"
    }
   ],
   "source": [
    "zip_to_zones_df.tail(3)"
   ]
  },
  {
   "cell_type": "code",
   "execution_count": 701,
   "metadata": {
    "collapsed": false
   },
   "outputs": [],
   "source": [
    "zip_to_zones_df.columns = [x.replace(' ','_') for x in zip_to_zones_df.columns]"
   ]
  },
  {
   "cell_type": "code",
   "execution_count": 702,
   "metadata": {
    "collapsed": false
   },
   "outputs": [
    {
     "data": {
      "text/plain": [
       "(1724, 5)"
      ]
     },
     "execution_count": 702,
     "metadata": {},
     "output_type": "execute_result"
    }
   ],
   "source": [
    "zip_to_zones_df.shape"
   ]
  },
  {
   "cell_type": "code",
   "execution_count": 703,
   "metadata": {
    "collapsed": false
   },
   "outputs": [
    {
     "data": {
      "text/html": [
       "<div>\n",
       "<table border=\"1\" class=\"dataframe\">\n",
       "  <thead>\n",
       "    <tr style=\"text-align: right;\">\n",
       "      <th></th>\n",
       "      <th>ZIP_Code</th>\n",
       "      <th>Building_Climate_Zone</th>\n",
       "      <th>Unnamed:_2</th>\n",
       "      <th>Unnamed:_3</th>\n",
       "      <th>Unnamed:_4</th>\n",
       "    </tr>\n",
       "  </thead>\n",
       "  <tbody>\n",
       "    <tr>\n",
       "      <th>1721</th>\n",
       "      <td>96161.0</td>\n",
       "      <td>16.0</td>\n",
       "      <td>NaN</td>\n",
       "      <td>NaN</td>\n",
       "      <td>NaN</td>\n",
       "    </tr>\n",
       "    <tr>\n",
       "      <th>1722</th>\n",
       "      <td>96162.0</td>\n",
       "      <td>16.0</td>\n",
       "      <td>NaN</td>\n",
       "      <td>NaN</td>\n",
       "      <td>NaN</td>\n",
       "    </tr>\n",
       "    <tr>\n",
       "      <th>1723</th>\n",
       "      <td>NaN</td>\n",
       "      <td>NaN</td>\n",
       "      <td>NaN</td>\n",
       "      <td>NaN</td>\n",
       "      <td>NaN</td>\n",
       "    </tr>\n",
       "  </tbody>\n",
       "</table>\n",
       "</div>"
      ],
      "text/plain": [
       "      ZIP_Code  Building_Climate_Zone Unnamed:_2  Unnamed:_3  Unnamed:_4\n",
       "1721   96161.0                   16.0        NaN         NaN         NaN\n",
       "1722   96162.0                   16.0        NaN         NaN         NaN\n",
       "1723       NaN                    NaN        NaN         NaN         NaN"
      ]
     },
     "execution_count": 703,
     "metadata": {},
     "output_type": "execute_result"
    }
   ],
   "source": [
    "zip_to_zones_df.tail(3)"
   ]
  },
  {
   "cell_type": "code",
   "execution_count": 704,
   "metadata": {
    "collapsed": false
   },
   "outputs": [
    {
     "data": {
      "text/plain": [
       "0    12.0\n",
       "1    16.0\n",
       "2    17.0\n",
       "Name: ZIP_Code, dtype: float64"
      ]
     },
     "execution_count": 704,
     "metadata": {},
     "output_type": "execute_result"
    }
   ],
   "source": [
    "zip_to_zones_df.ZIP_Code.head(3)"
   ]
  },
  {
   "cell_type": "code",
   "execution_count": 705,
   "metadata": {
    "collapsed": false
   },
   "outputs": [
    {
     "data": {
      "text/plain": [
       "13.0"
      ]
     },
     "execution_count": 705,
     "metadata": {},
     "output_type": "execute_result"
    }
   ],
   "source": [
    "zip_to_zones_dict = {}\n",
    "for zip in range(0,zip_to_zones_df.shape[0]):\n",
    "    zip_val = zip_to_zones_df.iloc[zip, 0]\n",
    "    zone_val = zip_to_zones_df.iloc[zip, 1]\n",
    "    zip_to_zones_dict[zip_val]  = zone_val\n",
    "\n",
    "    \n",
    "zip_to_zones_dict[float(93206)]"
   ]
  },
  {
   "cell_type": "code",
   "execution_count": 706,
   "metadata": {
    "collapsed": false
   },
   "outputs": [
    {
     "data": {
      "text/plain": [
       "(1195, 7)"
      ]
     },
     "execution_count": 706,
     "metadata": {},
     "output_type": "execute_result"
    }
   ],
   "source": [
    "pge_q_num.shape"
   ]
  },
  {
   "cell_type": "code",
   "execution_count": 707,
   "metadata": {
    "collapsed": false
   },
   "outputs": [
    {
     "data": {
      "text/plain": [
       "1516    95251\n",
       "6612    95212\n",
       "4526    95549\n",
       "1109    94803\n",
       "7380    95701\n",
       "Name: ZipCode, dtype: int64"
      ]
     },
     "execution_count": 707,
     "metadata": {},
     "output_type": "execute_result"
    }
   ],
   "source": [
    "\n",
    "pge_q_num.ZipCode.head()"
   ]
  },
  {
   "cell_type": "code",
   "execution_count": 708,
   "metadata": {
    "collapsed": false
   },
   "outputs": [
    {
     "data": {
      "text/plain": [
       "7"
      ]
     },
     "execution_count": 708,
     "metadata": {},
     "output_type": "execute_result"
    }
   ],
   "source": [
    "pge_q_num.shape[1]"
   ]
  },
  {
   "cell_type": "code",
   "execution_count": 709,
   "metadata": {
    "collapsed": false
   },
   "outputs": [],
   "source": [
    "pge_q_num['zone'] = pge_q_num['ZipCode'].map(zip_to_zones_dict)"
   ]
  },
  {
   "cell_type": "code",
   "execution_count": 710,
   "metadata": {
    "collapsed": true
   },
   "outputs": [],
   "source": [
    "pge_q_num.dropna(inplace=True)"
   ]
  },
  {
   "cell_type": "code",
   "execution_count": 711,
   "metadata": {
    "collapsed": false
   },
   "outputs": [
    {
     "data": {
      "text/html": [
       "<div>\n",
       "<table border=\"1\" class=\"dataframe\">\n",
       "  <thead>\n",
       "    <tr style=\"text-align: right;\">\n",
       "      <th></th>\n",
       "      <th>ZipCode</th>\n",
       "      <th>Month</th>\n",
       "      <th>CustomerClass</th>\n",
       "      <th>Combined</th>\n",
       "      <th>TotalCustomers</th>\n",
       "      <th>TotalkWh</th>\n",
       "      <th>AveragekWh</th>\n",
       "      <th>zone</th>\n",
       "    </tr>\n",
       "  </thead>\n",
       "  <tbody>\n",
       "    <tr>\n",
       "      <th>1516</th>\n",
       "      <td>95251</td>\n",
       "      <td>1</td>\n",
       "      <td>2</td>\n",
       "      <td>1</td>\n",
       "      <td>279.0</td>\n",
       "      <td>204611.0</td>\n",
       "      <td>733.0</td>\n",
       "      <td>12.0</td>\n",
       "    </tr>\n",
       "    <tr>\n",
       "      <th>6612</th>\n",
       "      <td>95212</td>\n",
       "      <td>12</td>\n",
       "      <td>1</td>\n",
       "      <td>1</td>\n",
       "      <td>232.0</td>\n",
       "      <td>2480565.0</td>\n",
       "      <td>10692.0</td>\n",
       "      <td>12.0</td>\n",
       "    </tr>\n",
       "  </tbody>\n",
       "</table>\n",
       "</div>"
      ],
      "text/plain": [
       "      ZipCode  Month  CustomerClass  Combined  TotalCustomers   TotalkWh  \\\n",
       "1516    95251      1              2         1           279.0   204611.0   \n",
       "6612    95212     12              1         1           232.0  2480565.0   \n",
       "\n",
       "      AveragekWh  zone  \n",
       "1516       733.0  12.0  \n",
       "6612     10692.0  12.0  "
      ]
     },
     "execution_count": 711,
     "metadata": {},
     "output_type": "execute_result"
    }
   ],
   "source": [
    "pge_q_num.head(2)"
   ]
  },
  {
   "cell_type": "code",
   "execution_count": 712,
   "metadata": {
    "collapsed": false
   },
   "outputs": [
    {
     "data": {
      "text/plain": [
       "array([ 12.,   1.,   3.,  16.,  11.,   2.,   4.,  13.,   5.])"
      ]
     },
     "execution_count": 712,
     "metadata": {},
     "output_type": "execute_result"
    }
   ],
   "source": [
    "pge_q_num.zone.unique()"
   ]
  },
  {
   "cell_type": "code",
   "execution_count": 713,
   "metadata": {
    "collapsed": true
   },
   "outputs": [],
   "source": [
    "# Variation in temperatures due  to global warming...\n",
    "\n",
    "ca_temp_diff = pd.read_csv('ca_av_temp.csv')"
   ]
  },
  {
   "cell_type": "code",
   "execution_count": 714,
   "metadata": {
    "collapsed": true
   },
   "outputs": [],
   "source": [
    "ca_temp_diff_df = pd.DataFrame(ca_temp_diff)"
   ]
  },
  {
   "cell_type": "code",
   "execution_count": 715,
   "metadata": {
    "collapsed": false
   },
   "outputs": [
    {
     "data": {
      "text/html": [
       "<div>\n",
       "<table border=\"1\" class=\"dataframe\">\n",
       "  <thead>\n",
       "    <tr style=\"text-align: right;\">\n",
       "      <th></th>\n",
       "      <th>Date</th>\n",
       "      <th>Value</th>\n",
       "      <th>Anomaly</th>\n",
       "    </tr>\n",
       "  </thead>\n",
       "  <tbody>\n",
       "    <tr>\n",
       "      <th>11</th>\n",
       "      <td>2011</td>\n",
       "      <td>57.7</td>\n",
       "      <td>0.3</td>\n",
       "    </tr>\n",
       "    <tr>\n",
       "      <th>12</th>\n",
       "      <td>2012</td>\n",
       "      <td>59.1</td>\n",
       "      <td>1.7</td>\n",
       "    </tr>\n",
       "    <tr>\n",
       "      <th>13</th>\n",
       "      <td>2013</td>\n",
       "      <td>59.3</td>\n",
       "      <td>1.9</td>\n",
       "    </tr>\n",
       "    <tr>\n",
       "      <th>14</th>\n",
       "      <td>2014</td>\n",
       "      <td>61.1</td>\n",
       "      <td>3.7</td>\n",
       "    </tr>\n",
       "    <tr>\n",
       "      <th>15</th>\n",
       "      <td>2015</td>\n",
       "      <td>61.6</td>\n",
       "      <td>4.2</td>\n",
       "    </tr>\n",
       "  </tbody>\n",
       "</table>\n",
       "</div>"
      ],
      "text/plain": [
       "    Date  Value  Anomaly\n",
       "11  2011   57.7      0.3\n",
       "12  2012   59.1      1.7\n",
       "13  2013   59.3      1.9\n",
       "14  2014   61.1      3.7\n",
       "15  2015   61.6      4.2"
      ]
     },
     "execution_count": 715,
     "metadata": {},
     "output_type": "execute_result"
    }
   ],
   "source": [
    "ca_temp_diff_df.tail()"
   ]
  },
  {
   "cell_type": "markdown",
   "metadata": {},
   "source": [
    "A regression analysis will tell us what the value would be for 2016"
   ]
  },
  {
   "cell_type": "code",
   "execution_count": 716,
   "metadata": {
    "collapsed": false
   },
   "outputs": [
    {
     "data": {
      "text/html": [
       "<div>\n",
       "<table border=\"1\" class=\"dataframe\">\n",
       "  <thead>\n",
       "    <tr style=\"text-align: right;\">\n",
       "      <th></th>\n",
       "      <th>Date</th>\n",
       "      <th>Value</th>\n",
       "      <th>Anomaly</th>\n",
       "    </tr>\n",
       "  </thead>\n",
       "  <tbody>\n",
       "    <tr>\n",
       "      <th>Date</th>\n",
       "      <td>1.000000</td>\n",
       "      <td>0.344607</td>\n",
       "      <td>0.344607</td>\n",
       "    </tr>\n",
       "    <tr>\n",
       "      <th>Value</th>\n",
       "      <td>0.344607</td>\n",
       "      <td>1.000000</td>\n",
       "      <td>1.000000</td>\n",
       "    </tr>\n",
       "    <tr>\n",
       "      <th>Anomaly</th>\n",
       "      <td>0.344607</td>\n",
       "      <td>1.000000</td>\n",
       "      <td>1.000000</td>\n",
       "    </tr>\n",
       "  </tbody>\n",
       "</table>\n",
       "</div>"
      ],
      "text/plain": [
       "             Date     Value   Anomaly\n",
       "Date     1.000000  0.344607  0.344607\n",
       "Value    0.344607  1.000000  1.000000\n",
       "Anomaly  0.344607  1.000000  1.000000"
      ]
     },
     "execution_count": 716,
     "metadata": {},
     "output_type": "execute_result"
    }
   ],
   "source": [
    "ca_temp_diff_df.corr()"
   ]
  },
  {
   "cell_type": "code",
   "execution_count": 717,
   "metadata": {
    "collapsed": false
   },
   "outputs": [],
   "source": [
    "ca_2015_zone_temp = pd.read_csv('ca_2015_zone_temp.csv')"
   ]
  },
  {
   "cell_type": "code",
   "execution_count": 718,
   "metadata": {
    "collapsed": false
   },
   "outputs": [],
   "source": [
    "ca_2015_zone_temp_df = pd.DataFrame(ca_2015_zone_temp)"
   ]
  },
  {
   "cell_type": "code",
   "execution_count": 719,
   "metadata": {
    "collapsed": true
   },
   "outputs": [],
   "source": [
    "ca_2015_zone_temp_df_num_cols = [c for c in ca_2015_zone_temp_df.columns if c != 'Year']"
   ]
  },
  {
   "cell_type": "code",
   "execution_count": 720,
   "metadata": {
    "collapsed": true
   },
   "outputs": [],
   "source": [
    "ca_2015_zone_temp_df_num = ca_2015_zone_temp_df[ca_2015_zone_temp_df_num_cols]"
   ]
  },
  {
   "cell_type": "code",
   "execution_count": 721,
   "metadata": {
    "collapsed": false
   },
   "outputs": [
    {
     "data": {
      "text/html": [
       "<div>\n",
       "<table border=\"1\" class=\"dataframe\">\n",
       "  <thead>\n",
       "    <tr style=\"text-align: right;\">\n",
       "      <th></th>\n",
       "      <th>Zone</th>\n",
       "      <th>Jan_Ave_Temp</th>\n",
       "      <th>Feb_Ave_Temp</th>\n",
       "      <th>Mar_Ave_Temp</th>\n",
       "      <th>Apr_Ave_Temp</th>\n",
       "      <th>May_Ave_Temp</th>\n",
       "      <th>Jun_Ave_Temp</th>\n",
       "      <th>Jul_Ave_Temp</th>\n",
       "      <th>Aug_Ave_Temp</th>\n",
       "      <th>Sep_Ave_Temp</th>\n",
       "      <th>Oct_Ave_Temp</th>\n",
       "      <th>Nov_Ave_Temp</th>\n",
       "      <th>Dec_Ave_Temp</th>\n",
       "    </tr>\n",
       "  </thead>\n",
       "  <tbody>\n",
       "    <tr>\n",
       "      <th>0</th>\n",
       "      <td>1</td>\n",
       "      <td>48</td>\n",
       "      <td>49</td>\n",
       "      <td>49</td>\n",
       "      <td>50</td>\n",
       "      <td>52</td>\n",
       "      <td>65</td>\n",
       "      <td>66</td>\n",
       "      <td>67</td>\n",
       "      <td>67</td>\n",
       "      <td>55.1</td>\n",
       "      <td>52</td>\n",
       "      <td>49.7</td>\n",
       "    </tr>\n",
       "    <tr>\n",
       "      <th>1</th>\n",
       "      <td>2</td>\n",
       "      <td>48</td>\n",
       "      <td>51</td>\n",
       "      <td>52</td>\n",
       "      <td>55</td>\n",
       "      <td>60</td>\n",
       "      <td>65</td>\n",
       "      <td>68</td>\n",
       "      <td>68</td>\n",
       "      <td>68</td>\n",
       "      <td>65.1</td>\n",
       "      <td>55</td>\n",
       "      <td>49.7</td>\n",
       "    </tr>\n",
       "    <tr>\n",
       "      <th>2</th>\n",
       "      <td>3</td>\n",
       "      <td>48</td>\n",
       "      <td>52</td>\n",
       "      <td>54</td>\n",
       "      <td>55</td>\n",
       "      <td>59</td>\n",
       "      <td>62</td>\n",
       "      <td>63</td>\n",
       "      <td>64</td>\n",
       "      <td>65</td>\n",
       "      <td>60.1</td>\n",
       "      <td>55</td>\n",
       "      <td>49.9</td>\n",
       "    </tr>\n",
       "  </tbody>\n",
       "</table>\n",
       "</div>"
      ],
      "text/plain": [
       "    Zone  Jan_Ave_Temp   Feb_Ave_Temp   Mar_Ave_Temp   Apr_Ave_Temp  \\\n",
       "0      1            48             49             49             50   \n",
       "1      2            48             51             52             55   \n",
       "2      3            48             52             54             55   \n",
       "\n",
       "    May_Ave_Temp   Jun_Ave_Temp   Jul_Ave_Temp   Aug_Ave_Temp   Sep_Ave_Temp  \\\n",
       "0             52             65             66             67             67   \n",
       "1             60             65             68             68             68   \n",
       "2             59             62             63             64             65   \n",
       "\n",
       "    Oct_Ave_Temp   Nov_Ave_Temp   Dec_Ave_Temp  \n",
       "0           55.1             52           49.7  \n",
       "1           65.1             55           49.7  \n",
       "2           60.1             55           49.9  "
      ]
     },
     "execution_count": 721,
     "metadata": {},
     "output_type": "execute_result"
    }
   ],
   "source": [
    "ca_2015_zone_temp_df_num.head(3)"
   ]
  },
  {
   "cell_type": "markdown",
   "metadata": {
    "collapsed": true
   },
   "source": [
    "Let's get now some solar install data"
   ]
  },
  {
   "cell_type": "code",
   "execution_count": 722,
   "metadata": {
    "collapsed": false
   },
   "outputs": [],
   "source": [
    "ca_solar = pd.read_csv('ca-solar-stats-figure-data-2016-09-08.csv')"
   ]
  },
  {
   "cell_type": "code",
   "execution_count": 723,
   "metadata": {
    "collapsed": true
   },
   "outputs": [],
   "source": [
    "ca_solar_df = pd.DataFrame(ca_solar)"
   ]
  },
  {
   "cell_type": "code",
   "execution_count": 724,
   "metadata": {
    "collapsed": false
   },
   "outputs": [
    {
     "data": {
      "text/plain": [
       "(59952, 123)"
      ]
     },
     "execution_count": 724,
     "metadata": {},
     "output_type": "execute_result"
    }
   ],
   "source": [
    "ca_solar_df.shape"
   ]
  },
  {
   "cell_type": "code",
   "execution_count": 725,
   "metadata": {
    "collapsed": true
   },
   "outputs": [],
   "source": [
    "ca_solar_df = ca_solar_df.sample(frac=0.10)"
   ]
  },
  {
   "cell_type": "code",
   "execution_count": 726,
   "metadata": {
    "collapsed": false
   },
   "outputs": [
    {
     "data": {
      "text/plain": [
       "(5995, 123)"
      ]
     },
     "execution_count": 726,
     "metadata": {},
     "output_type": "execute_result"
    }
   ],
   "source": [
    "ca_solar_df.shape"
   ]
  },
  {
   "cell_type": "code",
   "execution_count": 727,
   "metadata": {
    "collapsed": false
   },
   "outputs": [
    {
     "data": {
      "text/html": [
       "<div>\n",
       "<table border=\"1\" class=\"dataframe\">\n",
       "  <thead>\n",
       "    <tr style=\"text-align: right;\">\n",
       "      <th></th>\n",
       "      <th>Application Number</th>\n",
       "      <th>Program Administrator</th>\n",
       "      <th>Program</th>\n",
       "      <th>Incentive Design</th>\n",
       "      <th>Incentive Type</th>\n",
       "      <th>Incentive Step</th>\n",
       "      <th>Incentive Amount</th>\n",
       "      <th>Total Cost</th>\n",
       "      <th>Nameplate Rating</th>\n",
       "      <th>CEC PTC Rating</th>\n",
       "      <th>...</th>\n",
       "      <th>CEC PTC Rating Single-Axis Tracking</th>\n",
       "      <th>CEC PTC Rating Dual-Axis Tracking</th>\n",
       "      <th>CSI Rating Fixed</th>\n",
       "      <th>CSI Rating Single-Axis Tracking</th>\n",
       "      <th>CSI Rating Dual-Axis Tracking</th>\n",
       "      <th>MASH Track 1A Incentive Amount</th>\n",
       "      <th>MASH Track 1B Incentive Amount</th>\n",
       "      <th>MASH Track 2 Incentive Amount</th>\n",
       "      <th>MASH Track 1A % Capacity</th>\n",
       "      <th>MASH Track 1B % Capacity</th>\n",
       "    </tr>\n",
       "  </thead>\n",
       "  <tbody>\n",
       "    <tr>\n",
       "      <th>57439</th>\n",
       "      <td>PGE-CSI-49899</td>\n",
       "      <td>PG&amp;E</td>\n",
       "      <td>Small Commercial (&lt; 10 kW) and All Residential</td>\n",
       "      <td>$0.25 per Watt EPBB</td>\n",
       "      <td>EPBB</td>\n",
       "      <td>Step 9a</td>\n",
       "      <td>713.0</td>\n",
       "      <td>15252.0</td>\n",
       "      <td>3.38</td>\n",
       "      <td>2.991</td>\n",
       "      <td>...</td>\n",
       "      <td>0.0</td>\n",
       "      <td>0.0</td>\n",
       "      <td>2.854</td>\n",
       "      <td>0.0</td>\n",
       "      <td>0.0</td>\n",
       "      <td>NaN</td>\n",
       "      <td>NaN</td>\n",
       "      <td>NaN</td>\n",
       "      <td>NaN</td>\n",
       "      <td>NaN</td>\n",
       "    </tr>\n",
       "    <tr>\n",
       "      <th>14776</th>\n",
       "      <td>PGE-CSI-12558</td>\n",
       "      <td>PG&amp;E</td>\n",
       "      <td>Small Commercial (&lt; 10 kW) and All Residential</td>\n",
       "      <td>98.353% @ $1.55, 1.647% @ $1.10 per Watt EPBB</td>\n",
       "      <td>EPBB</td>\n",
       "      <td>98.353% @ Step 5, 1.647% @ Step 6</td>\n",
       "      <td>3526.0</td>\n",
       "      <td>31407.0</td>\n",
       "      <td>2.87</td>\n",
       "      <td>2.440</td>\n",
       "      <td>...</td>\n",
       "      <td>0.0</td>\n",
       "      <td>0.0</td>\n",
       "      <td>2.286</td>\n",
       "      <td>0.0</td>\n",
       "      <td>0.0</td>\n",
       "      <td>NaN</td>\n",
       "      <td>NaN</td>\n",
       "      <td>NaN</td>\n",
       "      <td>NaN</td>\n",
       "      <td>NaN</td>\n",
       "    </tr>\n",
       "    <tr>\n",
       "      <th>17331</th>\n",
       "      <td>PGE-CSI-63950</td>\n",
       "      <td>PG&amp;E</td>\n",
       "      <td>Small Commercial (&lt; 10 kW) and All Residential</td>\n",
       "      <td>$0.20 per Watt EPBB</td>\n",
       "      <td>EPBB</td>\n",
       "      <td>Step 10</td>\n",
       "      <td>418.0</td>\n",
       "      <td>20442.8</td>\n",
       "      <td>3.43</td>\n",
       "      <td>2.968</td>\n",
       "      <td>...</td>\n",
       "      <td>0.0</td>\n",
       "      <td>0.0</td>\n",
       "      <td>2.089</td>\n",
       "      <td>0.0</td>\n",
       "      <td>0.0</td>\n",
       "      <td>NaN</td>\n",
       "      <td>NaN</td>\n",
       "      <td>NaN</td>\n",
       "      <td>NaN</td>\n",
       "      <td>NaN</td>\n",
       "    </tr>\n",
       "  </tbody>\n",
       "</table>\n",
       "<p>3 rows × 123 columns</p>\n",
       "</div>"
      ],
      "text/plain": [
       "      Application Number Program Administrator  \\\n",
       "57439      PGE-CSI-49899                  PG&E   \n",
       "14776      PGE-CSI-12558                  PG&E   \n",
       "17331      PGE-CSI-63950                  PG&E   \n",
       "\n",
       "                                              Program  \\\n",
       "57439  Small Commercial (< 10 kW) and All Residential   \n",
       "14776  Small Commercial (< 10 kW) and All Residential   \n",
       "17331  Small Commercial (< 10 kW) and All Residential   \n",
       "\n",
       "                                    Incentive Design Incentive Type  \\\n",
       "57439                            $0.25 per Watt EPBB           EPBB   \n",
       "14776  98.353% @ $1.55, 1.647% @ $1.10 per Watt EPBB           EPBB   \n",
       "17331                            $0.20 per Watt EPBB           EPBB   \n",
       "\n",
       "                          Incentive Step  Incentive Amount  Total Cost  \\\n",
       "57439                            Step 9a             713.0     15252.0   \n",
       "14776  98.353% @ Step 5, 1.647% @ Step 6            3526.0     31407.0   \n",
       "17331                            Step 10             418.0     20442.8   \n",
       "\n",
       "       Nameplate Rating  CEC PTC Rating           ...             \\\n",
       "57439              3.38           2.991           ...              \n",
       "14776              2.87           2.440           ...              \n",
       "17331              3.43           2.968           ...              \n",
       "\n",
       "       CEC PTC Rating Single-Axis Tracking  CEC PTC Rating Dual-Axis Tracking  \\\n",
       "57439                                  0.0                                0.0   \n",
       "14776                                  0.0                                0.0   \n",
       "17331                                  0.0                                0.0   \n",
       "\n",
       "      CSI Rating Fixed CSI Rating Single-Axis Tracking  \\\n",
       "57439            2.854                             0.0   \n",
       "14776            2.286                             0.0   \n",
       "17331            2.089                             0.0   \n",
       "\n",
       "       CSI Rating Dual-Axis Tracking MASH Track 1A Incentive Amount  \\\n",
       "57439                            0.0                            NaN   \n",
       "14776                            0.0                            NaN   \n",
       "17331                            0.0                            NaN   \n",
       "\n",
       "       MASH Track 1B Incentive Amount MASH Track 2 Incentive Amount  \\\n",
       "57439                             NaN                           NaN   \n",
       "14776                             NaN                           NaN   \n",
       "17331                             NaN                           NaN   \n",
       "\n",
       "      MASH Track 1A % Capacity MASH Track 1B % Capacity  \n",
       "57439                      NaN                      NaN  \n",
       "14776                      NaN                      NaN  \n",
       "17331                      NaN                      NaN  \n",
       "\n",
       "[3 rows x 123 columns]"
      ]
     },
     "execution_count": 727,
     "metadata": {},
     "output_type": "execute_result"
    }
   ],
   "source": [
    "ca_solar_df.head(3)"
   ]
  },
  {
   "cell_type": "code",
   "execution_count": 728,
   "metadata": {
    "collapsed": false
   },
   "outputs": [
    {
     "name": "stdout",
     "output_type": "stream",
     "text": [
      "<class 'pandas.core.frame.DataFrame'>\n",
      "Int64Index: 5995 entries, 57439 to 3505\n",
      "Columns: 123 entries, Application Number to MASH Track 1B % Capacity\n",
      "dtypes: float64(54), int64(3), object(66)\n",
      "memory usage: 5.7+ MB\n"
     ]
    }
   ],
   "source": [
    "ca_solar_df.info()"
   ]
  },
  {
   "cell_type": "code",
   "execution_count": 729,
   "metadata": {
    "collapsed": false
   },
   "outputs": [
    {
     "name": "stdout",
     "output_type": "stream",
     "text": [
      "PV Module#1 Quantity\n",
      "PV Module#2 Quantity\n",
      "PV Module#3 Quantity\n",
      "PV Module#4 Quantity\n",
      "PV Module#5 Quantity\n",
      "PV Module#6 Quantity\n",
      "PV Module#7 Quantity\n",
      "PV Module#8 Quantity\n",
      "PV Module#9 Quantity\n",
      "Inverter#1 Quantity\n",
      "Inverter#2 Quantity\n",
      "Inverter#3 Quantity\n",
      "Inverter#4 Quantity\n",
      "Inverter#5 Quantity\n",
      "Inverter#6 Quantity\n",
      "Inverter#7 Quantity\n",
      "Inverter#8 Quantity\n",
      "Inverter#9 Quantity\n",
      "Inverter#10 Quantity\n"
     ]
    }
   ],
   "source": [
    "quantity_cols  = []\n",
    "for col in ca_solar_df.columns:\n",
    "    if col.endswith(\"Quantity\"):\n",
    "        print col\n",
    "        quantity_cols.append(col)"
   ]
  },
  {
   "cell_type": "code",
   "execution_count": 730,
   "metadata": {
    "collapsed": false
   },
   "outputs": [
    {
     "data": {
      "text/html": [
       "<div>\n",
       "<table border=\"1\" class=\"dataframe\">\n",
       "  <thead>\n",
       "    <tr style=\"text-align: right;\">\n",
       "      <th></th>\n",
       "      <th>PV Module#1 Quantity</th>\n",
       "      <th>PV Module#2 Quantity</th>\n",
       "      <th>PV Module#3 Quantity</th>\n",
       "      <th>PV Module#4 Quantity</th>\n",
       "      <th>PV Module#5 Quantity</th>\n",
       "      <th>PV Module#6 Quantity</th>\n",
       "      <th>PV Module#7 Quantity</th>\n",
       "      <th>PV Module#8 Quantity</th>\n",
       "      <th>PV Module#9 Quantity</th>\n",
       "      <th>Inverter#1 Quantity</th>\n",
       "      <th>Inverter#2 Quantity</th>\n",
       "      <th>Inverter#3 Quantity</th>\n",
       "      <th>Inverter#4 Quantity</th>\n",
       "      <th>Inverter#5 Quantity</th>\n",
       "      <th>Inverter#6 Quantity</th>\n",
       "      <th>Inverter#7 Quantity</th>\n",
       "      <th>Inverter#8 Quantity</th>\n",
       "      <th>Inverter#9 Quantity</th>\n",
       "      <th>Inverter#10 Quantity</th>\n",
       "    </tr>\n",
       "  </thead>\n",
       "  <tbody>\n",
       "    <tr>\n",
       "      <th>57439</th>\n",
       "      <td>13</td>\n",
       "      <td>NaN</td>\n",
       "      <td>NaN</td>\n",
       "      <td>NaN</td>\n",
       "      <td>NaN</td>\n",
       "      <td>NaN</td>\n",
       "      <td>NaN</td>\n",
       "      <td>NaN</td>\n",
       "      <td>NaN</td>\n",
       "      <td>1</td>\n",
       "      <td>NaN</td>\n",
       "      <td>NaN</td>\n",
       "      <td>NaN</td>\n",
       "      <td>NaN</td>\n",
       "      <td>NaN</td>\n",
       "      <td>NaN</td>\n",
       "      <td>NaN</td>\n",
       "      <td>NaN</td>\n",
       "      <td>NaN</td>\n",
       "    </tr>\n",
       "    <tr>\n",
       "      <th>14776</th>\n",
       "      <td>14</td>\n",
       "      <td>NaN</td>\n",
       "      <td>NaN</td>\n",
       "      <td>NaN</td>\n",
       "      <td>NaN</td>\n",
       "      <td>NaN</td>\n",
       "      <td>NaN</td>\n",
       "      <td>NaN</td>\n",
       "      <td>NaN</td>\n",
       "      <td>1</td>\n",
       "      <td>NaN</td>\n",
       "      <td>NaN</td>\n",
       "      <td>NaN</td>\n",
       "      <td>NaN</td>\n",
       "      <td>NaN</td>\n",
       "      <td>NaN</td>\n",
       "      <td>NaN</td>\n",
       "      <td>NaN</td>\n",
       "      <td>NaN</td>\n",
       "    </tr>\n",
       "    <tr>\n",
       "      <th>17331</th>\n",
       "      <td>14</td>\n",
       "      <td>NaN</td>\n",
       "      <td>NaN</td>\n",
       "      <td>NaN</td>\n",
       "      <td>NaN</td>\n",
       "      <td>NaN</td>\n",
       "      <td>NaN</td>\n",
       "      <td>NaN</td>\n",
       "      <td>NaN</td>\n",
       "      <td>1</td>\n",
       "      <td>NaN</td>\n",
       "      <td>NaN</td>\n",
       "      <td>NaN</td>\n",
       "      <td>NaN</td>\n",
       "      <td>NaN</td>\n",
       "      <td>NaN</td>\n",
       "      <td>NaN</td>\n",
       "      <td>NaN</td>\n",
       "      <td>NaN</td>\n",
       "    </tr>\n",
       "  </tbody>\n",
       "</table>\n",
       "</div>"
      ],
      "text/plain": [
       "       PV Module#1 Quantity  PV Module#2 Quantity  PV Module#3 Quantity  \\\n",
       "57439                    13                   NaN                   NaN   \n",
       "14776                    14                   NaN                   NaN   \n",
       "17331                    14                   NaN                   NaN   \n",
       "\n",
       "       PV Module#4 Quantity  PV Module#5 Quantity  PV Module#6 Quantity  \\\n",
       "57439                   NaN                   NaN                   NaN   \n",
       "14776                   NaN                   NaN                   NaN   \n",
       "17331                   NaN                   NaN                   NaN   \n",
       "\n",
       "       PV Module#7 Quantity  PV Module#8 Quantity  PV Module#9 Quantity  \\\n",
       "57439                   NaN                   NaN                   NaN   \n",
       "14776                   NaN                   NaN                   NaN   \n",
       "17331                   NaN                   NaN                   NaN   \n",
       "\n",
       "       Inverter#1 Quantity  Inverter#2 Quantity  Inverter#3 Quantity  \\\n",
       "57439                    1                  NaN                  NaN   \n",
       "14776                    1                  NaN                  NaN   \n",
       "17331                    1                  NaN                  NaN   \n",
       "\n",
       "       Inverter#4 Quantity  Inverter#5 Quantity  Inverter#6 Quantity  \\\n",
       "57439                  NaN                  NaN                  NaN   \n",
       "14776                  NaN                  NaN                  NaN   \n",
       "17331                  NaN                  NaN                  NaN   \n",
       "\n",
       "       Inverter#7 Quantity  Inverter#8 Quantity  Inverter#9 Quantity  \\\n",
       "57439                  NaN                  NaN                  NaN   \n",
       "14776                  NaN                  NaN                  NaN   \n",
       "17331                  NaN                  NaN                  NaN   \n",
       "\n",
       "       Inverter#10 Quantity  \n",
       "57439                   NaN  \n",
       "14776                   NaN  \n",
       "17331                   NaN  "
      ]
     },
     "execution_count": 730,
     "metadata": {},
     "output_type": "execute_result"
    }
   ],
   "source": [
    "ca_solar_df[quantity_cols].head(3)"
   ]
  },
  {
   "cell_type": "code",
   "execution_count": 731,
   "metadata": {
    "collapsed": false
   },
   "outputs": [
    {
     "name": "stdout",
     "output_type": "stream",
     "text": [
      "Host Customer Physical Zip Code\n"
     ]
    }
   ],
   "source": [
    "zipcode_cols  = []\n",
    "for col in ca_solar_df.columns:\n",
    "    if col.endswith(\"Zip Code\"):\n",
    "        print col\n",
    "        zipcode_cols.append(col)"
   ]
  },
  {
   "cell_type": "code",
   "execution_count": 732,
   "metadata": {
    "collapsed": false
   },
   "outputs": [],
   "source": [
    "zip_unique = ca_solar_df['Host Customer Physical Zip Code'].unique()"
   ]
  },
  {
   "cell_type": "code",
   "execution_count": 733,
   "metadata": {
    "collapsed": false
   },
   "outputs": [
    {
     "data": {
      "text/plain": [
       "(583,)"
      ]
     },
     "execution_count": 733,
     "metadata": {},
     "output_type": "execute_result"
    }
   ],
   "source": [
    "zip_unique.shape"
   ]
  },
  {
   "cell_type": "code",
   "execution_count": 734,
   "metadata": {
    "collapsed": false
   },
   "outputs": [
    {
     "data": {
      "text/plain": [
       "(559,)"
      ]
     },
     "execution_count": 734,
     "metadata": {},
     "output_type": "execute_result"
    }
   ],
   "source": [
    "pge_zip_unique = pge_q_num['ZipCode'].unique()\n",
    "pge_zip_unique.shape"
   ]
  },
  {
   "cell_type": "raw",
   "metadata": {
    "collapsed": true
   },
   "source": [
    "Total numbers ZIP codes PG&E data 890."
   ]
  },
  {
   "cell_type": "code",
   "execution_count": 735,
   "metadata": {
    "collapsed": false
   },
   "outputs": [
    {
     "data": {
      "text/plain": [
       "844"
      ]
     },
     "execution_count": 735,
     "metadata": {},
     "output_type": "execute_result"
    }
   ],
   "source": [
    "len(pge_q['ZipCode'].unique())"
   ]
  },
  {
   "cell_type": "raw",
   "metadata": {},
   "source": [
    "Total number of ZIP codes in solar installations is 818"
   ]
  },
  {
   "cell_type": "code",
   "execution_count": 736,
   "metadata": {
    "collapsed": false
   },
   "outputs": [
    {
     "data": {
      "text/plain": [
       "(583,)"
      ]
     },
     "execution_count": 736,
     "metadata": {},
     "output_type": "execute_result"
    }
   ],
   "source": [
    "zip_unique.shape"
   ]
  },
  {
   "cell_type": "raw",
   "metadata": {},
   "source": [
    "Total ZIP codes in CA is 2667"
   ]
  },
  {
   "cell_type": "raw",
   "metadata": {},
   "source": [
    "Got this from http://www.zipcodestogo.com/California/"
   ]
  },
  {
   "cell_type": "raw",
   "metadata": {},
   "source": [
    "So this means that only 818/2667  = 0.3067 ZIP codes have solar power in CA!"
   ]
  },
  {
   "cell_type": "raw",
   "metadata": {},
   "source": [
    "Let's look at Solar data and kWh generated."
   ]
  },
  {
   "cell_type": "code",
   "execution_count": 737,
   "metadata": {
    "collapsed": false
   },
   "outputs": [
    {
     "name": "stdout",
     "output_type": "stream",
     "text": [
      "Nameplate Rating\n",
      "CEC PTC Rating\n",
      "CSI Rating\n"
     ]
    }
   ],
   "source": [
    "calc_cols  = []\n",
    "for col in ca_solar_df.columns:\n",
    "    if col.endswith(\"Rating\"):\n",
    "        print col\n",
    "        calc_cols.append(col)"
   ]
  },
  {
   "cell_type": "code",
   "execution_count": 738,
   "metadata": {
    "collapsed": false
   },
   "outputs": [
    {
     "data": {
      "text/html": [
       "<div>\n",
       "<table border=\"1\" class=\"dataframe\">\n",
       "  <thead>\n",
       "    <tr style=\"text-align: right;\">\n",
       "      <th></th>\n",
       "      <th>Nameplate Rating</th>\n",
       "      <th>CEC PTC Rating</th>\n",
       "      <th>CSI Rating</th>\n",
       "    </tr>\n",
       "  </thead>\n",
       "  <tbody>\n",
       "    <tr>\n",
       "      <th>57439</th>\n",
       "      <td>3.380</td>\n",
       "      <td>2.991</td>\n",
       "      <td>2.853</td>\n",
       "    </tr>\n",
       "    <tr>\n",
       "      <th>14776</th>\n",
       "      <td>2.870</td>\n",
       "      <td>2.440</td>\n",
       "      <td>2.286</td>\n",
       "    </tr>\n",
       "    <tr>\n",
       "      <th>17331</th>\n",
       "      <td>3.430</td>\n",
       "      <td>2.968</td>\n",
       "      <td>2.089</td>\n",
       "    </tr>\n",
       "    <tr>\n",
       "      <th>47684</th>\n",
       "      <td>8.736</td>\n",
       "      <td>7.398</td>\n",
       "      <td>7.319</td>\n",
       "    </tr>\n",
       "  </tbody>\n",
       "</table>\n",
       "</div>"
      ],
      "text/plain": [
       "       Nameplate Rating  CEC PTC Rating  CSI Rating\n",
       "57439             3.380           2.991       2.853\n",
       "14776             2.870           2.440       2.286\n",
       "17331             3.430           2.968       2.089\n",
       "47684             8.736           7.398       7.319"
      ]
     },
     "execution_count": 738,
     "metadata": {},
     "output_type": "execute_result"
    }
   ],
   "source": [
    "ca_solar_df[calc_cols].head(4)"
   ]
  },
  {
   "cell_type": "code",
   "execution_count": 739,
   "metadata": {
    "collapsed": true
   },
   "outputs": [],
   "source": [
    "ca_solar_df_num  = ca_solar_df[calc_cols]"
   ]
  },
  {
   "cell_type": "code",
   "execution_count": 740,
   "metadata": {
    "collapsed": false
   },
   "outputs": [
    {
     "name": "stderr",
     "output_type": "stream",
     "text": [
      "/Users/Ovid/anaconda2/envs/dsi/lib/python2.7/site-packages/ipykernel/__main__.py:1: SettingWithCopyWarning: \n",
      "A value is trying to be set on a copy of a slice from a DataFrame.\n",
      "Try using .loc[row_indexer,col_indexer] = value instead\n",
      "\n",
      "See the caveats in the documentation: http://pandas.pydata.org/pandas-docs/stable/indexing.html#indexing-view-versus-copy\n",
      "  if __name__ == '__main__':\n"
     ]
    }
   ],
   "source": [
    "ca_solar_df_num['ZIP']  = ca_solar_df['Host Customer Physical Zip Code']"
   ]
  },
  {
   "cell_type": "code",
   "execution_count": 741,
   "metadata": {
    "collapsed": false
   },
   "outputs": [
    {
     "data": {
      "text/html": [
       "<div>\n",
       "<table border=\"1\" class=\"dataframe\">\n",
       "  <thead>\n",
       "    <tr style=\"text-align: right;\">\n",
       "      <th></th>\n",
       "      <th>Nameplate Rating</th>\n",
       "      <th>CEC PTC Rating</th>\n",
       "      <th>CSI Rating</th>\n",
       "      <th>ZIP</th>\n",
       "    </tr>\n",
       "  </thead>\n",
       "  <tbody>\n",
       "    <tr>\n",
       "      <th>57439</th>\n",
       "      <td>3.38</td>\n",
       "      <td>2.991</td>\n",
       "      <td>2.853</td>\n",
       "      <td>95946</td>\n",
       "    </tr>\n",
       "    <tr>\n",
       "      <th>14776</th>\n",
       "      <td>2.87</td>\n",
       "      <td>2.440</td>\n",
       "      <td>2.286</td>\n",
       "      <td>94044</td>\n",
       "    </tr>\n",
       "    <tr>\n",
       "      <th>17331</th>\n",
       "      <td>3.43</td>\n",
       "      <td>2.968</td>\n",
       "      <td>2.089</td>\n",
       "      <td>94114</td>\n",
       "    </tr>\n",
       "  </tbody>\n",
       "</table>\n",
       "</div>"
      ],
      "text/plain": [
       "       Nameplate Rating  CEC PTC Rating  CSI Rating    ZIP\n",
       "57439              3.38           2.991       2.853  95946\n",
       "14776              2.87           2.440       2.286  94044\n",
       "17331              3.43           2.968       2.089  94114"
      ]
     },
     "execution_count": 741,
     "metadata": {},
     "output_type": "execute_result"
    }
   ],
   "source": [
    "ca_solar_df_num.head(3)"
   ]
  },
  {
   "cell_type": "code",
   "execution_count": 742,
   "metadata": {
    "collapsed": false
   },
   "outputs": [
    {
     "name": "stderr",
     "output_type": "stream",
     "text": [
      "/Users/Ovid/anaconda2/envs/dsi/lib/python2.7/site-packages/ipykernel/__main__.py:1: SettingWithCopyWarning: \n",
      "A value is trying to be set on a copy of a slice from a DataFrame.\n",
      "Try using .loc[row_indexer,col_indexer] = value instead\n",
      "\n",
      "See the caveats in the documentation: http://pandas.pydata.org/pandas-docs/stable/indexing.html#indexing-view-versus-copy\n",
      "  if __name__ == '__main__':\n"
     ]
    }
   ],
   "source": [
    "ca_solar_df_num['zone'] = ca_solar_df_num['ZIP'].map(zip_to_zones_dict)"
   ]
  },
  {
   "cell_type": "code",
   "execution_count": 743,
   "metadata": {
    "collapsed": false
   },
   "outputs": [
    {
     "name": "stderr",
     "output_type": "stream",
     "text": [
      "/Users/Ovid/anaconda2/envs/dsi/lib/python2.7/site-packages/ipykernel/__main__.py:1: SettingWithCopyWarning: \n",
      "A value is trying to be set on a copy of a slice from a DataFrame\n",
      "\n",
      "See the caveats in the documentation: http://pandas.pydata.org/pandas-docs/stable/indexing.html#indexing-view-versus-copy\n",
      "  if __name__ == '__main__':\n"
     ]
    }
   ],
   "source": [
    "ca_solar_df_num.dropna(inplace=True)"
   ]
  },
  {
   "cell_type": "code",
   "execution_count": 744,
   "metadata": {
    "collapsed": false
   },
   "outputs": [
    {
     "data": {
      "text/html": [
       "<div>\n",
       "<table border=\"1\" class=\"dataframe\">\n",
       "  <thead>\n",
       "    <tr style=\"text-align: right;\">\n",
       "      <th></th>\n",
       "      <th>Nameplate Rating</th>\n",
       "      <th>CEC PTC Rating</th>\n",
       "      <th>CSI Rating</th>\n",
       "      <th>ZIP</th>\n",
       "      <th>zone</th>\n",
       "    </tr>\n",
       "  </thead>\n",
       "  <tbody>\n",
       "    <tr>\n",
       "      <th>57439</th>\n",
       "      <td>3.38</td>\n",
       "      <td>2.991</td>\n",
       "      <td>2.853</td>\n",
       "      <td>95946</td>\n",
       "      <td>11.0</td>\n",
       "    </tr>\n",
       "    <tr>\n",
       "      <th>14776</th>\n",
       "      <td>2.87</td>\n",
       "      <td>2.440</td>\n",
       "      <td>2.286</td>\n",
       "      <td>94044</td>\n",
       "      <td>3.0</td>\n",
       "    </tr>\n",
       "    <tr>\n",
       "      <th>17331</th>\n",
       "      <td>3.43</td>\n",
       "      <td>2.968</td>\n",
       "      <td>2.089</td>\n",
       "      <td>94114</td>\n",
       "      <td>3.0</td>\n",
       "    </tr>\n",
       "  </tbody>\n",
       "</table>\n",
       "</div>"
      ],
      "text/plain": [
       "       Nameplate Rating  CEC PTC Rating  CSI Rating    ZIP  zone\n",
       "57439              3.38           2.991       2.853  95946  11.0\n",
       "14776              2.87           2.440       2.286  94044   3.0\n",
       "17331              3.43           2.968       2.089  94114   3.0"
      ]
     },
     "execution_count": 744,
     "metadata": {},
     "output_type": "execute_result"
    }
   ],
   "source": [
    "ca_solar_df_num.head(3)"
   ]
  },
  {
   "cell_type": "code",
   "execution_count": 745,
   "metadata": {
    "collapsed": false
   },
   "outputs": [
    {
     "data": {
      "text/plain": [
       "1516    12.0\n",
       "6612    12.0\n",
       "4526     1.0\n",
       "Name: zone, dtype: float64"
      ]
     },
     "execution_count": 745,
     "metadata": {},
     "output_type": "execute_result"
    }
   ],
   "source": [
    "pge_q_num['zone'].head(3)"
   ]
  },
  {
   "cell_type": "code",
   "execution_count": 746,
   "metadata": {
    "collapsed": false
   },
   "outputs": [
    {
     "data": {
      "text/plain": [
       "5948"
      ]
     },
     "execution_count": 746,
     "metadata": {},
     "output_type": "execute_result"
    }
   ],
   "source": [
    "len(ca_solar_df_num.ZIP)"
   ]
  },
  {
   "cell_type": "code",
   "execution_count": 747,
   "metadata": {
    "collapsed": false
   },
   "outputs": [
    {
     "data": {
      "text/plain": [
       "1724"
      ]
     },
     "execution_count": 747,
     "metadata": {},
     "output_type": "execute_result"
    }
   ],
   "source": [
    "len(zip_to_zones_df.ZIP_Code)"
   ]
  },
  {
   "cell_type": "code",
   "execution_count": 748,
   "metadata": {
    "collapsed": false
   },
   "outputs": [
    {
     "data": {
      "text/html": [
       "<div>\n",
       "<table border=\"1\" class=\"dataframe\">\n",
       "  <thead>\n",
       "    <tr style=\"text-align: right;\">\n",
       "      <th></th>\n",
       "      <th>Nameplate Rating</th>\n",
       "      <th>CEC PTC Rating</th>\n",
       "      <th>CSI Rating</th>\n",
       "      <th>ZIP</th>\n",
       "      <th>zone</th>\n",
       "    </tr>\n",
       "  </thead>\n",
       "  <tbody>\n",
       "    <tr>\n",
       "      <th>57439</th>\n",
       "      <td>3.38</td>\n",
       "      <td>2.991</td>\n",
       "      <td>2.853</td>\n",
       "      <td>95946</td>\n",
       "      <td>11.0</td>\n",
       "    </tr>\n",
       "    <tr>\n",
       "      <th>14776</th>\n",
       "      <td>2.87</td>\n",
       "      <td>2.440</td>\n",
       "      <td>2.286</td>\n",
       "      <td>94044</td>\n",
       "      <td>3.0</td>\n",
       "    </tr>\n",
       "    <tr>\n",
       "      <th>17331</th>\n",
       "      <td>3.43</td>\n",
       "      <td>2.968</td>\n",
       "      <td>2.089</td>\n",
       "      <td>94114</td>\n",
       "      <td>3.0</td>\n",
       "    </tr>\n",
       "  </tbody>\n",
       "</table>\n",
       "</div>"
      ],
      "text/plain": [
       "       Nameplate Rating  CEC PTC Rating  CSI Rating    ZIP  zone\n",
       "57439              3.38           2.991       2.853  95946  11.0\n",
       "14776              2.87           2.440       2.286  94044   3.0\n",
       "17331              3.43           2.968       2.089  94114   3.0"
      ]
     },
     "execution_count": 748,
     "metadata": {},
     "output_type": "execute_result"
    }
   ],
   "source": [
    "ca_solar_df_num.head(3)"
   ]
  },
  {
   "cell_type": "markdown",
   "metadata": {},
   "source": [
    "Then compute temp ave. by zones for 1-6 months, whole year."
   ]
  },
  {
   "cell_type": "code",
   "execution_count": 751,
   "metadata": {
    "collapsed": false
   },
   "outputs": [
    {
     "data": {
      "text/html": [
       "<div>\n",
       "<table border=\"1\" class=\"dataframe\">\n",
       "  <thead>\n",
       "    <tr style=\"text-align: right;\">\n",
       "      <th></th>\n",
       "      <th>0</th>\n",
       "      <th>1</th>\n",
       "      <th>2</th>\n",
       "      <th>3</th>\n",
       "      <th>4</th>\n",
       "      <th>5</th>\n",
       "      <th>6</th>\n",
       "      <th>7</th>\n",
       "      <th>8</th>\n",
       "      <th>9</th>\n",
       "      <th>10</th>\n",
       "      <th>11</th>\n",
       "      <th>12</th>\n",
       "      <th>13</th>\n",
       "      <th>14</th>\n",
       "      <th>15</th>\n",
       "    </tr>\n",
       "  </thead>\n",
       "  <tbody>\n",
       "    <tr>\n",
       "      <th>Oct_Ave_Temp</th>\n",
       "      <td>55.1</td>\n",
       "      <td>65.1</td>\n",
       "      <td>60.1</td>\n",
       "      <td>65.1</td>\n",
       "      <td>60.1</td>\n",
       "      <td>65.1</td>\n",
       "      <td>55.1</td>\n",
       "      <td>65.1</td>\n",
       "      <td>68.1</td>\n",
       "      <td>65.1</td>\n",
       "      <td>65.1</td>\n",
       "      <td>65.1</td>\n",
       "      <td>65.1</td>\n",
       "      <td>65.1</td>\n",
       "      <td>65.1</td>\n",
       "      <td>55.1</td>\n",
       "    </tr>\n",
       "    <tr>\n",
       "      <th>Nov_Ave_Temp</th>\n",
       "      <td>52.0</td>\n",
       "      <td>55.0</td>\n",
       "      <td>55.0</td>\n",
       "      <td>55.0</td>\n",
       "      <td>55.0</td>\n",
       "      <td>60.0</td>\n",
       "      <td>52.0</td>\n",
       "      <td>60.0</td>\n",
       "      <td>62.0</td>\n",
       "      <td>58.0</td>\n",
       "      <td>55.0</td>\n",
       "      <td>55.0</td>\n",
       "      <td>55.0</td>\n",
       "      <td>55.0</td>\n",
       "      <td>55.0</td>\n",
       "      <td>45.0</td>\n",
       "    </tr>\n",
       "    <tr>\n",
       "      <th>Dec_Ave_Temp</th>\n",
       "      <td>49.7</td>\n",
       "      <td>49.7</td>\n",
       "      <td>49.9</td>\n",
       "      <td>49.9</td>\n",
       "      <td>51.9</td>\n",
       "      <td>54.9</td>\n",
       "      <td>48.7</td>\n",
       "      <td>54.7</td>\n",
       "      <td>58.7</td>\n",
       "      <td>55.7</td>\n",
       "      <td>45.7</td>\n",
       "      <td>45.7</td>\n",
       "      <td>45.7</td>\n",
       "      <td>45.7</td>\n",
       "      <td>45.7</td>\n",
       "      <td>39.0</td>\n",
       "    </tr>\n",
       "  </tbody>\n",
       "</table>\n",
       "</div>"
      ],
      "text/plain": [
       "                 0     1     2     3     4     5     6     7     8     9   \\\n",
       " Oct_Ave_Temp  55.1  65.1  60.1  65.1  60.1  65.1  55.1  65.1  68.1  65.1   \n",
       " Nov_Ave_Temp  52.0  55.0  55.0  55.0  55.0  60.0  52.0  60.0  62.0  58.0   \n",
       " Dec_Ave_Temp  49.7  49.7  49.9  49.9  51.9  54.9  48.7  54.7  58.7  55.7   \n",
       "\n",
       "                 10    11    12    13    14    15  \n",
       " Oct_Ave_Temp  65.1  65.1  65.1  65.1  65.1  55.1  \n",
       " Nov_Ave_Temp  55.0  55.0  55.0  55.0  55.0  45.0  \n",
       " Dec_Ave_Temp  45.7  45.7  45.7  45.7  45.7  39.0  "
      ]
     },
     "execution_count": 751,
     "metadata": {},
     "output_type": "execute_result"
    }
   ],
   "source": [
    "ca_2015_1_12 = ca_2015_zone_temp_df_num.T.iloc[1:,:]\n",
    "ca_2015_1_12.tail(3)"
   ]
  },
  {
   "cell_type": "code",
   "execution_count": 752,
   "metadata": {
    "collapsed": false
   },
   "outputs": [],
   "source": [
    "ca_2015_1_12_ave = ca_2015_1_12.mean()"
   ]
  },
  {
   "cell_type": "code",
   "execution_count": 753,
   "metadata": {
    "collapsed": false
   },
   "outputs": [
    {
     "data": {
      "text/plain": [
       "57.25"
      ]
     },
     "execution_count": 753,
     "metadata": {},
     "output_type": "execute_result"
    }
   ],
   "source": [
    "ca_2015_1_12_ave[2]"
   ]
  },
  {
   "cell_type": "code",
   "execution_count": 754,
   "metadata": {
    "collapsed": false
   },
   "outputs": [],
   "source": [
    "ca_2015_1_12_ave_dict = {}\n",
    "\n",
    "for zone in range(1,16):\n",
    "    ca_2015_1_12_ave_dict[zone] = ca_2015_1_12_ave[zone-1]\n"
   ]
  },
  {
   "cell_type": "raw",
   "metadata": {},
   "source": [
    "Add avg_temp to the PGE df"
   ]
  },
  {
   "cell_type": "code",
   "execution_count": 755,
   "metadata": {
    "collapsed": true
   },
   "outputs": [],
   "source": [
    "pge_q_num['avg_temp'] = pge_q_num['zone'].map(ca_2015_1_12_ave_dict)"
   ]
  },
  {
   "cell_type": "code",
   "execution_count": 756,
   "metadata": {
    "collapsed": true
   },
   "outputs": [],
   "source": [
    "pge_q_num.dropna(inplace=True)"
   ]
  },
  {
   "cell_type": "code",
   "execution_count": 757,
   "metadata": {
    "collapsed": false
   },
   "outputs": [
    {
     "data": {
      "text/html": [
       "<div>\n",
       "<table border=\"1\" class=\"dataframe\">\n",
       "  <thead>\n",
       "    <tr style=\"text-align: right;\">\n",
       "      <th></th>\n",
       "      <th>ZipCode</th>\n",
       "      <th>Month</th>\n",
       "      <th>CustomerClass</th>\n",
       "      <th>Combined</th>\n",
       "      <th>TotalCustomers</th>\n",
       "      <th>TotalkWh</th>\n",
       "      <th>AveragekWh</th>\n",
       "      <th>zone</th>\n",
       "      <th>avg_temp</th>\n",
       "    </tr>\n",
       "  </thead>\n",
       "  <tbody>\n",
       "    <tr>\n",
       "      <th>1516</th>\n",
       "      <td>95251</td>\n",
       "      <td>1</td>\n",
       "      <td>2</td>\n",
       "      <td>1</td>\n",
       "      <td>279.0</td>\n",
       "      <td>204611.0</td>\n",
       "      <td>733.0</td>\n",
       "      <td>12.0</td>\n",
       "      <td>60.816667</td>\n",
       "    </tr>\n",
       "    <tr>\n",
       "      <th>6612</th>\n",
       "      <td>95212</td>\n",
       "      <td>12</td>\n",
       "      <td>1</td>\n",
       "      <td>1</td>\n",
       "      <td>232.0</td>\n",
       "      <td>2480565.0</td>\n",
       "      <td>10692.0</td>\n",
       "      <td>12.0</td>\n",
       "      <td>60.816667</td>\n",
       "    </tr>\n",
       "    <tr>\n",
       "      <th>4526</th>\n",
       "      <td>95549</td>\n",
       "      <td>11</td>\n",
       "      <td>2</td>\n",
       "      <td>1</td>\n",
       "      <td>279.0</td>\n",
       "      <td>430862.0</td>\n",
       "      <td>1544.0</td>\n",
       "      <td>1.0</td>\n",
       "      <td>55.816667</td>\n",
       "    </tr>\n",
       "  </tbody>\n",
       "</table>\n",
       "</div>"
      ],
      "text/plain": [
       "      ZipCode  Month  CustomerClass  Combined  TotalCustomers   TotalkWh  \\\n",
       "1516    95251      1              2         1           279.0   204611.0   \n",
       "6612    95212     12              1         1           232.0  2480565.0   \n",
       "4526    95549     11              2         1           279.0   430862.0   \n",
       "\n",
       "      AveragekWh  zone   avg_temp  \n",
       "1516       733.0  12.0  60.816667  \n",
       "6612     10692.0  12.0  60.816667  \n",
       "4526      1544.0   1.0  55.816667  "
      ]
     },
     "execution_count": 757,
     "metadata": {},
     "output_type": "execute_result"
    }
   ],
   "source": [
    "pge_q_num.head(3)"
   ]
  },
  {
   "cell_type": "code",
   "execution_count": 758,
   "metadata": {
    "collapsed": false
   },
   "outputs": [
    {
     "data": {
      "text/plain": [
       "<matplotlib.axes._subplots.AxesSubplot at 0x13a10c3d0>"
      ]
     },
     "execution_count": 758,
     "metadata": {},
     "output_type": "execute_result"
    },
    {
     "data": {
      "image/png": "[encoded data removed]",
      "text/plain": [
       "<matplotlib.figure.Figure at 0x13a103050>"
      ]
     },
     "metadata": {
      "image/png": {
       "height": 258,
       "width": 427
      }
     },
     "output_type": "display_data"
    }
   ],
   "source": [
    "pge_q_num.ZipCode.hist()"
   ]
  },
  {
   "cell_type": "code",
   "execution_count": 759,
   "metadata": {
    "collapsed": false
   },
   "outputs": [
    {
     "data": {
      "text/plain": [
       "<matplotlib.axes._subplots.AxesSubplot at 0x139f757d0>"
      ]
     },
     "execution_count": 759,
     "metadata": {},
     "output_type": "execute_result"
    },
    {
     "data": {
      "image/png": "[encoded data removed]",
      "text/plain": [
       "<matplotlib.figure.Figure at 0x13a11f1d0>"
      ]
     },
     "metadata": {
      "image/png": {
       "height": 258,
       "width": 419
      }
     },
     "output_type": "display_data"
    }
   ],
   "source": [
    "pge_q_num.zone.hist()"
   ]
  },
  {
   "cell_type": "code",
   "execution_count": 760,
   "metadata": {
    "collapsed": false
   },
   "outputs": [
    {
     "data": {
      "text/html": [
       "<div>\n",
       "<table border=\"1\" class=\"dataframe\">\n",
       "  <thead>\n",
       "    <tr style=\"text-align: right;\">\n",
       "      <th></th>\n",
       "      <th>ZipCode</th>\n",
       "      <th>Month</th>\n",
       "      <th>CustomerClass</th>\n",
       "      <th>Combined</th>\n",
       "      <th>TotalCustomers</th>\n",
       "      <th>TotalkWh</th>\n",
       "      <th>AveragekWh</th>\n",
       "      <th>zone</th>\n",
       "      <th>avg_temp</th>\n",
       "    </tr>\n",
       "  </thead>\n",
       "  <tbody>\n",
       "    <tr>\n",
       "      <th>ZipCode</th>\n",
       "      <td>1.000000</td>\n",
       "      <td>-0.014851</td>\n",
       "      <td>0.116348</td>\n",
       "      <td>NaN</td>\n",
       "      <td>-0.135939</td>\n",
       "      <td>-0.144310</td>\n",
       "      <td>-0.062322</td>\n",
       "      <td>-0.023850</td>\n",
       "      <td>-0.084219</td>\n",
       "    </tr>\n",
       "    <tr>\n",
       "      <th>Month</th>\n",
       "      <td>-0.014851</td>\n",
       "      <td>1.000000</td>\n",
       "      <td>-0.036159</td>\n",
       "      <td>NaN</td>\n",
       "      <td>-0.020913</td>\n",
       "      <td>0.067610</td>\n",
       "      <td>0.049808</td>\n",
       "      <td>0.029109</td>\n",
       "      <td>0.030987</td>\n",
       "    </tr>\n",
       "    <tr>\n",
       "      <th>CustomerClass</th>\n",
       "      <td>0.116348</td>\n",
       "      <td>-0.036159</td>\n",
       "      <td>1.000000</td>\n",
       "      <td>NaN</td>\n",
       "      <td>0.298930</td>\n",
       "      <td>-0.247595</td>\n",
       "      <td>-0.639528</td>\n",
       "      <td>0.105491</td>\n",
       "      <td>0.083181</td>\n",
       "    </tr>\n",
       "    <tr>\n",
       "      <th>Combined</th>\n",
       "      <td>NaN</td>\n",
       "      <td>NaN</td>\n",
       "      <td>NaN</td>\n",
       "      <td>NaN</td>\n",
       "      <td>NaN</td>\n",
       "      <td>NaN</td>\n",
       "      <td>NaN</td>\n",
       "      <td>NaN</td>\n",
       "      <td>NaN</td>\n",
       "    </tr>\n",
       "    <tr>\n",
       "      <th>TotalCustomers</th>\n",
       "      <td>-0.135939</td>\n",
       "      <td>-0.020913</td>\n",
       "      <td>0.298930</td>\n",
       "      <td>NaN</td>\n",
       "      <td>1.000000</td>\n",
       "      <td>0.563867</td>\n",
       "      <td>-0.308075</td>\n",
       "      <td>-0.052430</td>\n",
       "      <td>-0.001672</td>\n",
       "    </tr>\n",
       "    <tr>\n",
       "      <th>TotalkWh</th>\n",
       "      <td>-0.144310</td>\n",
       "      <td>0.067610</td>\n",
       "      <td>-0.247595</td>\n",
       "      <td>NaN</td>\n",
       "      <td>0.563867</td>\n",
       "      <td>1.000000</td>\n",
       "      <td>0.377484</td>\n",
       "      <td>0.045366</td>\n",
       "      <td>0.105596</td>\n",
       "    </tr>\n",
       "    <tr>\n",
       "      <th>AveragekWh</th>\n",
       "      <td>-0.062322</td>\n",
       "      <td>0.049808</td>\n",
       "      <td>-0.639528</td>\n",
       "      <td>NaN</td>\n",
       "      <td>-0.308075</td>\n",
       "      <td>0.377484</td>\n",
       "      <td>1.000000</td>\n",
       "      <td>0.009984</td>\n",
       "      <td>0.035974</td>\n",
       "    </tr>\n",
       "    <tr>\n",
       "      <th>zone</th>\n",
       "      <td>-0.023850</td>\n",
       "      <td>0.029109</td>\n",
       "      <td>0.105491</td>\n",
       "      <td>NaN</td>\n",
       "      <td>-0.052430</td>\n",
       "      <td>0.045366</td>\n",
       "      <td>0.009984</td>\n",
       "      <td>1.000000</td>\n",
       "      <td>0.865388</td>\n",
       "    </tr>\n",
       "    <tr>\n",
       "      <th>avg_temp</th>\n",
       "      <td>-0.084219</td>\n",
       "      <td>0.030987</td>\n",
       "      <td>0.083181</td>\n",
       "      <td>NaN</td>\n",
       "      <td>-0.001672</td>\n",
       "      <td>0.105596</td>\n",
       "      <td>0.035974</td>\n",
       "      <td>0.865388</td>\n",
       "      <td>1.000000</td>\n",
       "    </tr>\n",
       "  </tbody>\n",
       "</table>\n",
       "</div>"
      ],
      "text/plain": [
       "                 ZipCode     Month  CustomerClass  Combined  TotalCustomers  \\\n",
       "ZipCode         1.000000 -0.014851       0.116348       NaN       -0.135939   \n",
       "Month          -0.014851  1.000000      -0.036159       NaN       -0.020913   \n",
       "CustomerClass   0.116348 -0.036159       1.000000       NaN        0.298930   \n",
       "Combined             NaN       NaN            NaN       NaN             NaN   \n",
       "TotalCustomers -0.135939 -0.020913       0.298930       NaN        1.000000   \n",
       "TotalkWh       -0.144310  0.067610      -0.247595       NaN        0.563867   \n",
       "AveragekWh     -0.062322  0.049808      -0.639528       NaN       -0.308075   \n",
       "zone           -0.023850  0.029109       0.105491       NaN       -0.052430   \n",
       "avg_temp       -0.084219  0.030987       0.083181       NaN       -0.001672   \n",
       "\n",
       "                TotalkWh  AveragekWh      zone  avg_temp  \n",
       "ZipCode        -0.144310   -0.062322 -0.023850 -0.084219  \n",
       "Month           0.067610    0.049808  0.029109  0.030987  \n",
       "CustomerClass  -0.247595   -0.639528  0.105491  0.083181  \n",
       "Combined             NaN         NaN       NaN       NaN  \n",
       "TotalCustomers  0.563867   -0.308075 -0.052430 -0.001672  \n",
       "TotalkWh        1.000000    0.377484  0.045366  0.105596  \n",
       "AveragekWh      0.377484    1.000000  0.009984  0.035974  \n",
       "zone            0.045366    0.009984  1.000000  0.865388  \n",
       "avg_temp        0.105596    0.035974  0.865388  1.000000  "
      ]
     },
     "execution_count": 760,
     "metadata": {},
     "output_type": "execute_result"
    }
   ],
   "source": [
    "pge_q_num_corr  =  pge_q_num.corr()\n",
    "pge_q_num_corr"
   ]
  },
  {
   "cell_type": "code",
   "execution_count": 761,
   "metadata": {
    "collapsed": false
   },
   "outputs": [
    {
     "data": {
      "image/png": "[encoded data removed]",
      "text/plain": [
       "<matplotlib.figure.Figure at 0x1432afb50>"
      ]
     },
     "metadata": {
      "image/png": {
       "height": 491,
       "width": 592
      }
     },
     "output_type": "display_data"
    }
   ],
   "source": [
    "mask = np.zeros_like(pge_q_num_corr, dtype=np.bool)\n",
    "mask[np.triu_indices_from(mask)] = True\n",
    "\n",
    "fig, ax = plt.subplots(figsize=(8,7))\n",
    "ax = sns.heatmap(pge_q_num_corr, mask=mask)\n",
    "\n",
    "ax.set_xticklabels(ax.xaxis.get_ticklabels(), fontsize=14, rotation=45)\n",
    "ax.set_yticklabels(ax.yaxis.get_ticklabels(), fontsize=14, rotation=0)\n",
    "\n",
    "plt.show()"
   ]
  },
  {
   "cell_type": "raw",
   "metadata": {},
   "source": [
    "So interesting vars are TotalCustomers, TotalkWh, zone, AveragekWh"
   ]
  },
  {
   "cell_type": "raw",
   "metadata": {},
   "source": [
    "Add avg_temp to the CA solar df"
   ]
  },
  {
   "cell_type": "code",
   "execution_count": 762,
   "metadata": {
    "collapsed": false
   },
   "outputs": [
    {
     "name": "stderr",
     "output_type": "stream",
     "text": [
      "/Users/Ovid/anaconda2/envs/dsi/lib/python2.7/site-packages/ipykernel/__main__.py:1: SettingWithCopyWarning: \n",
      "A value is trying to be set on a copy of a slice from a DataFrame.\n",
      "Try using .loc[row_indexer,col_indexer] = value instead\n",
      "\n",
      "See the caveats in the documentation: http://pandas.pydata.org/pandas-docs/stable/indexing.html#indexing-view-versus-copy\n",
      "  if __name__ == '__main__':\n"
     ]
    }
   ],
   "source": [
    "ca_solar_df_num['avg_temp'] = ca_solar_df_num['zone'].map(ca_2015_1_12_ave_dict)"
   ]
  },
  {
   "cell_type": "code",
   "execution_count": 763,
   "metadata": {
    "collapsed": false
   },
   "outputs": [
    {
     "name": "stderr",
     "output_type": "stream",
     "text": [
      "/Users/Ovid/anaconda2/envs/dsi/lib/python2.7/site-packages/ipykernel/__main__.py:1: SettingWithCopyWarning: \n",
      "A value is trying to be set on a copy of a slice from a DataFrame\n",
      "\n",
      "See the caveats in the documentation: http://pandas.pydata.org/pandas-docs/stable/indexing.html#indexing-view-versus-copy\n",
      "  if __name__ == '__main__':\n"
     ]
    }
   ],
   "source": [
    "ca_solar_df_num.dropna(inplace=True)"
   ]
  },
  {
   "cell_type": "code",
   "execution_count": 764,
   "metadata": {
    "collapsed": false
   },
   "outputs": [
    {
     "data": {
      "text/html": [
       "<div>\n",
       "<table border=\"1\" class=\"dataframe\">\n",
       "  <thead>\n",
       "    <tr style=\"text-align: right;\">\n",
       "      <th></th>\n",
       "      <th>Nameplate Rating</th>\n",
       "      <th>CEC PTC Rating</th>\n",
       "      <th>CSI Rating</th>\n",
       "      <th>ZIP</th>\n",
       "      <th>zone</th>\n",
       "      <th>avg_temp</th>\n",
       "    </tr>\n",
       "  </thead>\n",
       "  <tbody>\n",
       "    <tr>\n",
       "      <th>57439</th>\n",
       "      <td>3.38</td>\n",
       "      <td>2.991</td>\n",
       "      <td>2.853</td>\n",
       "      <td>95946</td>\n",
       "      <td>11.0</td>\n",
       "      <td>60.483333</td>\n",
       "    </tr>\n",
       "    <tr>\n",
       "      <th>14776</th>\n",
       "      <td>2.87</td>\n",
       "      <td>2.440</td>\n",
       "      <td>2.286</td>\n",
       "      <td>94044</td>\n",
       "      <td>3.0</td>\n",
       "      <td>57.250000</td>\n",
       "    </tr>\n",
       "    <tr>\n",
       "      <th>17331</th>\n",
       "      <td>3.43</td>\n",
       "      <td>2.968</td>\n",
       "      <td>2.089</td>\n",
       "      <td>94114</td>\n",
       "      <td>3.0</td>\n",
       "      <td>57.250000</td>\n",
       "    </tr>\n",
       "  </tbody>\n",
       "</table>\n",
       "</div>"
      ],
      "text/plain": [
       "       Nameplate Rating  CEC PTC Rating  CSI Rating    ZIP  zone   avg_temp\n",
       "57439              3.38           2.991       2.853  95946  11.0  60.483333\n",
       "14776              2.87           2.440       2.286  94044   3.0  57.250000\n",
       "17331              3.43           2.968       2.089  94114   3.0  57.250000"
      ]
     },
     "execution_count": 764,
     "metadata": {},
     "output_type": "execute_result"
    }
   ],
   "source": [
    "ca_solar_df_num.head(3)"
   ]
  },
  {
   "cell_type": "code",
   "execution_count": 765,
   "metadata": {
    "collapsed": false
   },
   "outputs": [
    {
     "data": {
      "text/plain": [
       "<matplotlib.axes._subplots.AxesSubplot at 0x13f4c1750>"
      ]
     },
     "execution_count": 765,
     "metadata": {},
     "output_type": "execute_result"
    },
    {
     "data": {
      "image/png": "[encoded data removed]",
      "text/plain": [
       "<matplotlib.figure.Figure at 0x13f4ace10>"
      ]
     },
     "metadata": {
      "image/png": {
       "height": 258,
       "width": 433
      }
     },
     "output_type": "display_data"
    }
   ],
   "source": [
    "ca_solar_df_num.ZIP.hist()"
   ]
  },
  {
   "cell_type": "code",
   "execution_count": 766,
   "metadata": {
    "collapsed": false
   },
   "outputs": [
    {
     "data": {
      "text/plain": [
       "<matplotlib.axes._subplots.AxesSubplot at 0x133bc0790>"
      ]
     },
     "execution_count": 766,
     "metadata": {},
     "output_type": "execute_result"
    },
    {
     "data": {
      "image/png": "[encoded data removed]",
      "text/plain": [
       "<matplotlib.figure.Figure at 0x12bd22810>"
      ]
     },
     "metadata": {
      "image/png": {
       "height": 258,
       "width": 425
      }
     },
     "output_type": "display_data"
    }
   ],
   "source": [
    "ca_solar_df_num.zone.hist()"
   ]
  },
  {
   "cell_type": "code",
   "execution_count": 767,
   "metadata": {
    "collapsed": false
   },
   "outputs": [
    {
     "data": {
      "text/html": [
       "<div>\n",
       "<table border=\"1\" class=\"dataframe\">\n",
       "  <thead>\n",
       "    <tr style=\"text-align: right;\">\n",
       "      <th></th>\n",
       "      <th>Nameplate Rating</th>\n",
       "      <th>CEC PTC Rating</th>\n",
       "      <th>CSI Rating</th>\n",
       "      <th>ZIP</th>\n",
       "      <th>zone</th>\n",
       "      <th>avg_temp</th>\n",
       "    </tr>\n",
       "  </thead>\n",
       "  <tbody>\n",
       "    <tr>\n",
       "      <th>Nameplate Rating</th>\n",
       "      <td>1.000000</td>\n",
       "      <td>0.999868</td>\n",
       "      <td>0.988478</td>\n",
       "      <td>-0.015240</td>\n",
       "      <td>0.031938</td>\n",
       "      <td>0.038332</td>\n",
       "    </tr>\n",
       "    <tr>\n",
       "      <th>CEC PTC Rating</th>\n",
       "      <td>0.999868</td>\n",
       "      <td>1.000000</td>\n",
       "      <td>0.988637</td>\n",
       "      <td>-0.015189</td>\n",
       "      <td>0.032492</td>\n",
       "      <td>0.038696</td>\n",
       "    </tr>\n",
       "    <tr>\n",
       "      <th>CSI Rating</th>\n",
       "      <td>0.988478</td>\n",
       "      <td>0.988637</td>\n",
       "      <td>1.000000</td>\n",
       "      <td>-0.020148</td>\n",
       "      <td>0.034308</td>\n",
       "      <td>0.040719</td>\n",
       "    </tr>\n",
       "    <tr>\n",
       "      <th>ZIP</th>\n",
       "      <td>-0.015240</td>\n",
       "      <td>-0.015189</td>\n",
       "      <td>-0.020148</td>\n",
       "      <td>1.000000</td>\n",
       "      <td>-0.073090</td>\n",
       "      <td>-0.114493</td>\n",
       "    </tr>\n",
       "    <tr>\n",
       "      <th>zone</th>\n",
       "      <td>0.031938</td>\n",
       "      <td>0.032492</td>\n",
       "      <td>0.034308</td>\n",
       "      <td>-0.073090</td>\n",
       "      <td>1.000000</td>\n",
       "      <td>0.844138</td>\n",
       "    </tr>\n",
       "    <tr>\n",
       "      <th>avg_temp</th>\n",
       "      <td>0.038332</td>\n",
       "      <td>0.038696</td>\n",
       "      <td>0.040719</td>\n",
       "      <td>-0.114493</td>\n",
       "      <td>0.844138</td>\n",
       "      <td>1.000000</td>\n",
       "    </tr>\n",
       "  </tbody>\n",
       "</table>\n",
       "</div>"
      ],
      "text/plain": [
       "                  Nameplate Rating  CEC PTC Rating  CSI Rating       ZIP  \\\n",
       "Nameplate Rating          1.000000        0.999868    0.988478 -0.015240   \n",
       "CEC PTC Rating            0.999868        1.000000    0.988637 -0.015189   \n",
       "CSI Rating                0.988478        0.988637    1.000000 -0.020148   \n",
       "ZIP                      -0.015240       -0.015189   -0.020148  1.000000   \n",
       "zone                      0.031938        0.032492    0.034308 -0.073090   \n",
       "avg_temp                  0.038332        0.038696    0.040719 -0.114493   \n",
       "\n",
       "                      zone  avg_temp  \n",
       "Nameplate Rating  0.031938  0.038332  \n",
       "CEC PTC Rating    0.032492  0.038696  \n",
       "CSI Rating        0.034308  0.040719  \n",
       "ZIP              -0.073090 -0.114493  \n",
       "zone              1.000000  0.844138  \n",
       "avg_temp          0.844138  1.000000  "
      ]
     },
     "execution_count": 767,
     "metadata": {},
     "output_type": "execute_result"
    }
   ],
   "source": [
    "ca_solar_df_num_corr  =  ca_solar_df_num.corr()\n",
    "ca_solar_df_num_corr"
   ]
  },
  {
   "cell_type": "code",
   "execution_count": 768,
   "metadata": {
    "collapsed": false
   },
   "outputs": [
    {
     "data": {
      "image/png": "[encoded data removed]",
      "text/plain": [
       "<matplotlib.figure.Figure at 0x133b9f890>"
      ]
     },
     "metadata": {
      "image/png": {
       "height": 500,
       "width": 605
      }
     },
     "output_type": "display_data"
    }
   ],
   "source": [
    "mask = np.zeros_like(ca_solar_df_num_corr, dtype=np.bool)\n",
    "mask[np.triu_indices_from(mask)] = True\n",
    "\n",
    "fig, ax = plt.subplots(figsize=(8,7))\n",
    "ax = sns.heatmap(ca_solar_df_num_corr, mask=mask)\n",
    "\n",
    "ax.set_xticklabels(ax.xaxis.get_ticklabels(), fontsize=14, rotation=45)\n",
    "ax.set_yticklabels(ax.yaxis.get_ticklabels(), fontsize=14, rotation=0)\n",
    "\n",
    "plt.show()"
   ]
  },
  {
   "cell_type": "raw",
   "metadata": {},
   "source": [
    "So interesting vars are Nameplate Rating, CEC PTC Rating, CSI Rating, zone, avg_temp"
   ]
  },
  {
   "cell_type": "code",
   "execution_count": null,
   "metadata": {
    "collapsed": true
   },
   "outputs": [],
   "source": []
  }
 ],
 "metadata": {
  "anaconda-cloud": {},
  "kernelspec": {
   "display_name": "Python [dsi]",
   "language": "python",
   "name": "Python [dsi]"
  },
  "language_info": {
   "codemirror_mode": {
    "name": "ipython",
    "version": 2
   },
   "file_extension": ".py",
   "mimetype": "text/x-python",
   "name": "python",
   "nbconvert_exporter": "python",
   "pygments_lexer": "ipython2",
   "version": "2.7.12"
  },
  "widgets": {
   "state": {
    "728ec6b3725a483aae69fdf2e31ef4a3": {
     "views": [
      {
       "cell_index": 64
      }
     ]
    }
   },
   "version": "1.2.0"
  }
 },
 "nbformat": 4,
 "nbformat_minor": 0
}

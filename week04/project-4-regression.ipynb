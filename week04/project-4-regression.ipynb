{
 "cells": [
  {
   "cell_type": "markdown",
   "metadata": {},
   "source": [
    "<img src=\"http://imgur.com/1ZcRyrc.png\" style=\"float: left; margin: 15px; height: 80px\">\n",
    "\n",
    "# Project 4\n",
    "\n",
    "## San Francisco Data\n",
    "\n",
    "---\n",
    "\n",
    "[San Francisco provides a wealth of data on the city to the public.](https://data.sfgov.org/) Project 4 is all about exploring this data and modeling interesting relationships with regression.\n",
    "\n",
    "Project 4 is also much more open-ended than the previous projects. You are more responsible for finding things about the data that interest you, coming up with your own hypothesis about it, and reporting on the analysis you carry out. That being said, there are still specific requirements and restrictions on the type of models you will be constructing.\n",
    "\n",
    "---\n",
    "\n",
    "## Notes on the data\n",
    "\n",
    "We have gone through the above website and pulled out a variety of different datasets that we think are particularly interesting. Some of the datasets are from external sources as well, but all are related to San Francisco. A high level overview of data folders is provided after the project requirements section.\n",
    "\n",
    "**There is a lot of different data. You are _NOT_ expected to explore all of it or include all of it in analyses.** The point of the project is to focus on aspects of San Francisco that are particularly interesting to you from a modeling point of view. \n",
    "\n",
    "**The uncompressed data is a large filesize.** Even the compressed data is pretty large. The data is compressed into a .7z format which has one of the smallest filesizes available. You will likely need a 3rd party app to extract it. \n",
    "\n",
    "### Recommended Utilities for .7z\n",
    "- For OSX [Keka](http://www.kekaosx.com/en/) or [The Unarchiver](http://wakaba.c3.cx/s/apps/unarchiver.html). \n",
    "- For Windows [7-zip](http://www.7-zip.org/) is the standard. \n",
    "- For Linux try the `p7zip` utility.  `sudo apt-get install p7zip`.\n",
    "\n",
    "---\n",
    "\n",
    "## Project requirements\n",
    "\n",
    "**You will be performing 4 different sections of analysis on the San Francisco data.**\n",
    "\n",
    "**Models must be regression. This means that your target variable needs to be numeric/continuous**\n",
    "\n",
    "Do not perform classification models – this will be the topic of week 4.\n"
   ]
  },
  {
   "cell_type": "markdown",
   "metadata": {},
   "source": [
    "<img src=\"http://imgur.com/l5NasQj.png\" style=\"float: left; margin: 25px 15px 0px 0px; height: 25px\">\n",
    "\n",
    "### 1. Choose a dataset or datasets of interest to you and perform EDA\n",
    "\n",
    "---\n",
    "\n",
    "1. Explain what the data is. This may include multiple csv files. Some of this data has hard to understand codes representing the variables. Nearly all data is pulled from https://data.sfgov.org/ so this is a very good resource for determining what the data is.\n",
    "- Clean the data.\n",
    "- Develop and state clearly a hypothesis about the data that you would want to test.\n",
    "- Create some initial visualizations on the portions of the data relevant to your hypothesis."
   ]
  },
  {
   "cell_type": "code",
   "execution_count": 60,
   "metadata": {
    "collapsed": true
   },
   "outputs": [],
   "source": [
    "import pandas as pd\n",
    "import numpy as np\n",
    "import seaborn as sns\n",
    "import matplotlib.pyplot as plt\n",
    "\n",
    "from ipywidgets import *\n",
    "from IPython.display import display\n",
    "\n",
    "%matplotlib inline"
   ]
  },
  {
   "cell_type": "code",
   "execution_count": 43,
   "metadata": {
    "collapsed": false
   },
   "outputs": [],
   "source": [
    "sf_data = pd.read_csv(\n",
    "        #'san_francisco_data/zillow_property_sales/zillow_mediansale_persqft_neighborhood.csv')\n",
    "        'san_francisco_data/assessor_office/assessor_data_2014_2015.csv')"
   ]
  },
  {
   "cell_type": "code",
   "execution_count": 44,
   "metadata": {
    "collapsed": false,
    "scrolled": true
   },
   "outputs": [
    {
     "name": "stdout",
     "output_type": "stream",
     "text": [
      "<class 'pandas.core.frame.DataFrame'>\n",
      "RangeIndex: 206816 entries, 0 to 206815\n",
      "Data columns (total 41 columns):\n",
      "PROPLOC       206816 non-null object\n",
      "RP1NBRCDE     206731 non-null object\n",
      "RP1PRCLID     206816 non-null object\n",
      "BASELOT       206816 non-null int64\n",
      "BASELOTSFX    45 non-null object\n",
      "RP1VOLUME     206816 non-null int64\n",
      "RP1CLACDE     206465 non-null object\n",
      "YRBLT         206816 non-null int64\n",
      "BATHS         206816 non-null int64\n",
      "BEDS          206816 non-null int64\n",
      "ROOMS         206816 non-null int64\n",
      "STOREYNO      206816 non-null int64\n",
      "UNITS         206816 non-null int64\n",
      "CHGDATE       206816 non-null int64\n",
      "REMARKFLA     2111 non-null object\n",
      "KITCHEN       28035 non-null object\n",
      "BUILTIN       206816 non-null int64\n",
      "ZONE          174762 non-null object\n",
      "CONSTTYPE     169753 non-null object\n",
      "DEPTH         206816 non-null float64\n",
      "FRONT         206816 non-null float64\n",
      "SQFT          206816 non-null int64\n",
      "FBA           206816 non-null int64\n",
      "LAREA         206816 non-null float64\n",
      "LOTCODE       71554 non-null object\n",
      "REPRISDATE    0 non-null float64\n",
      "RP1RECDAT1    206816 non-null int64\n",
      "RP1DOCNO1     94840 non-null object\n",
      "RP1DOCNO2     206816 non-null int64\n",
      "RP1TRACDE     206238 non-null float64\n",
      "OWNRPRCNT     206816 non-null float64\n",
      "EXEMPTYPE     93196 non-null object\n",
      "RP1STACDE     3644 non-null object\n",
      "RP1EXMVL2     206816 non-null int64\n",
      "RP1EXMVL1     206816 non-null int64\n",
      "ROLLYEAR      206816 non-null int64\n",
      "RECURRSALD    206816 non-null int64\n",
      "RP1FXTVAL     206816 non-null int64\n",
      "RP1IMPVAL     206816 non-null int64\n",
      "RP1LNDVAL     206816 non-null int64\n",
      "RP1PPTVAL     206816 non-null int64\n",
      "dtypes: float64(6), int64(22), object(13)\n",
      "memory usage: 64.7+ MB\n"
     ]
    }
   ],
   "source": [
    "sf_data.info()"
   ]
  },
  {
   "cell_type": "code",
   "execution_count": 45,
   "metadata": {
    "collapsed": false
   },
   "outputs": [
    {
     "data": {
      "text/html": [
       "<div>\n",
       "<table border=\"1\" class=\"dataframe\">\n",
       "  <thead>\n",
       "    <tr style=\"text-align: right;\">\n",
       "      <th></th>\n",
       "      <th>PROPLOC</th>\n",
       "      <th>RP1NBRCDE</th>\n",
       "      <th>RP1PRCLID</th>\n",
       "      <th>BASELOT</th>\n",
       "      <th>BASELOTSFX</th>\n",
       "      <th>RP1VOLUME</th>\n",
       "      <th>RP1CLACDE</th>\n",
       "      <th>YRBLT</th>\n",
       "      <th>BATHS</th>\n",
       "      <th>BEDS</th>\n",
       "      <th>...</th>\n",
       "      <th>EXEMPTYPE</th>\n",
       "      <th>RP1STACDE</th>\n",
       "      <th>RP1EXMVL2</th>\n",
       "      <th>RP1EXMVL1</th>\n",
       "      <th>ROLLYEAR</th>\n",
       "      <th>RECURRSALD</th>\n",
       "      <th>RP1FXTVAL</th>\n",
       "      <th>RP1IMPVAL</th>\n",
       "      <th>RP1LNDVAL</th>\n",
       "      <th>RP1PPTVAL</th>\n",
       "    </tr>\n",
       "  </thead>\n",
       "  <tbody>\n",
       "    <tr>\n",
       "      <th>206811</th>\n",
       "      <td>0000 0000                       0000</td>\n",
       "      <td>NaN</td>\n",
       "      <td>9999 192</td>\n",
       "      <td>0</td>\n",
       "      <td>NaN</td>\n",
       "      <td>45</td>\n",
       "      <td>NaN</td>\n",
       "      <td>0</td>\n",
       "      <td>0</td>\n",
       "      <td>0</td>\n",
       "      <td>...</td>\n",
       "      <td>NaN</td>\n",
       "      <td>S</td>\n",
       "      <td>0</td>\n",
       "      <td>0</td>\n",
       "      <td>14</td>\n",
       "      <td>140101</td>\n",
       "      <td>0</td>\n",
       "      <td>0</td>\n",
       "      <td>0</td>\n",
       "      <td>713362</td>\n",
       "    </tr>\n",
       "    <tr>\n",
       "      <th>206812</th>\n",
       "      <td>0000 0000                       0000</td>\n",
       "      <td>NaN</td>\n",
       "      <td>9999 193</td>\n",
       "      <td>0</td>\n",
       "      <td>NaN</td>\n",
       "      <td>45</td>\n",
       "      <td>NaN</td>\n",
       "      <td>0</td>\n",
       "      <td>0</td>\n",
       "      <td>0</td>\n",
       "      <td>...</td>\n",
       "      <td>NaN</td>\n",
       "      <td>S</td>\n",
       "      <td>0</td>\n",
       "      <td>0</td>\n",
       "      <td>14</td>\n",
       "      <td>140101</td>\n",
       "      <td>0</td>\n",
       "      <td>3074178</td>\n",
       "      <td>0</td>\n",
       "      <td>0</td>\n",
       "    </tr>\n",
       "    <tr>\n",
       "      <th>206813</th>\n",
       "      <td>0000 0000                       0000</td>\n",
       "      <td>NaN</td>\n",
       "      <td>9999 194</td>\n",
       "      <td>0</td>\n",
       "      <td>NaN</td>\n",
       "      <td>45</td>\n",
       "      <td>NaN</td>\n",
       "      <td>0</td>\n",
       "      <td>0</td>\n",
       "      <td>0</td>\n",
       "      <td>...</td>\n",
       "      <td>NaN</td>\n",
       "      <td>S</td>\n",
       "      <td>0</td>\n",
       "      <td>0</td>\n",
       "      <td>14</td>\n",
       "      <td>140101</td>\n",
       "      <td>0</td>\n",
       "      <td>0</td>\n",
       "      <td>0</td>\n",
       "      <td>6855</td>\n",
       "    </tr>\n",
       "    <tr>\n",
       "      <th>206814</th>\n",
       "      <td>0000 0000                       0000</td>\n",
       "      <td>NaN</td>\n",
       "      <td>9999 195</td>\n",
       "      <td>0</td>\n",
       "      <td>NaN</td>\n",
       "      <td>45</td>\n",
       "      <td>NaN</td>\n",
       "      <td>0</td>\n",
       "      <td>0</td>\n",
       "      <td>0</td>\n",
       "      <td>...</td>\n",
       "      <td>NaN</td>\n",
       "      <td>S</td>\n",
       "      <td>0</td>\n",
       "      <td>0</td>\n",
       "      <td>14</td>\n",
       "      <td>140101</td>\n",
       "      <td>0</td>\n",
       "      <td>0</td>\n",
       "      <td>0</td>\n",
       "      <td>37393</td>\n",
       "    </tr>\n",
       "    <tr>\n",
       "      <th>206815</th>\n",
       "      <td>0000 0000                       0000</td>\n",
       "      <td>NaN</td>\n",
       "      <td>9999 196</td>\n",
       "      <td>0</td>\n",
       "      <td>NaN</td>\n",
       "      <td>45</td>\n",
       "      <td>NaN</td>\n",
       "      <td>0</td>\n",
       "      <td>0</td>\n",
       "      <td>0</td>\n",
       "      <td>...</td>\n",
       "      <td>NaN</td>\n",
       "      <td>S</td>\n",
       "      <td>0</td>\n",
       "      <td>0</td>\n",
       "      <td>14</td>\n",
       "      <td>140101</td>\n",
       "      <td>0</td>\n",
       "      <td>0</td>\n",
       "      <td>0</td>\n",
       "      <td>17007</td>\n",
       "    </tr>\n",
       "  </tbody>\n",
       "</table>\n",
       "<p>5 rows × 41 columns</p>\n",
       "</div>"
      ],
      "text/plain": [
       "                                     PROPLOC RP1NBRCDE RP1PRCLID  BASELOT  \\\n",
       "206811  0000 0000                       0000       NaN  9999 192        0   \n",
       "206812  0000 0000                       0000       NaN  9999 193        0   \n",
       "206813  0000 0000                       0000       NaN  9999 194        0   \n",
       "206814  0000 0000                       0000       NaN  9999 195        0   \n",
       "206815  0000 0000                       0000       NaN  9999 196        0   \n",
       "\n",
       "       BASELOTSFX  RP1VOLUME RP1CLACDE  YRBLT  BATHS  BEDS    ...      \\\n",
       "206811        NaN         45       NaN      0      0     0    ...       \n",
       "206812        NaN         45       NaN      0      0     0    ...       \n",
       "206813        NaN         45       NaN      0      0     0    ...       \n",
       "206814        NaN         45       NaN      0      0     0    ...       \n",
       "206815        NaN         45       NaN      0      0     0    ...       \n",
       "\n",
       "        EXEMPTYPE  RP1STACDE  RP1EXMVL2  RP1EXMVL1 ROLLYEAR RECURRSALD  \\\n",
       "206811        NaN          S          0          0       14     140101   \n",
       "206812        NaN          S          0          0       14     140101   \n",
       "206813        NaN          S          0          0       14     140101   \n",
       "206814        NaN          S          0          0       14     140101   \n",
       "206815        NaN          S          0          0       14     140101   \n",
       "\n",
       "        RP1FXTVAL RP1IMPVAL RP1LNDVAL  RP1PPTVAL  \n",
       "206811          0         0         0     713362  \n",
       "206812          0   3074178         0          0  \n",
       "206813          0         0         0       6855  \n",
       "206814          0         0         0      37393  \n",
       "206815          0         0         0      17007  \n",
       "\n",
       "[5 rows x 41 columns]"
      ]
     },
     "execution_count": 45,
     "metadata": {},
     "output_type": "execute_result"
    }
   ],
   "source": [
    "sf_data.tail()"
   ]
  },
  {
   "cell_type": "code",
   "execution_count": 46,
   "metadata": {
    "collapsed": false
   },
   "outputs": [
    {
     "data": {
      "text/plain": [
       "Index([u'PROPLOC', u'RP1NBRCDE', u'RP1PRCLID', u'BASELOT', u'BASELOTSFX',\n",
       "       u'RP1VOLUME', u'RP1CLACDE', u'YRBLT', u'BATHS', u'BEDS', u'ROOMS',\n",
       "       u'STOREYNO', u'UNITS', u'CHGDATE', u'REMARKFLA', u'KITCHEN', u'BUILTIN',\n",
       "       u'ZONE', u'CONSTTYPE', u'DEPTH', u'FRONT', u'SQFT', u'FBA', u'LAREA',\n",
       "       u'LOTCODE', u'REPRISDATE', u'RP1RECDAT1', u'RP1DOCNO1', u'RP1DOCNO2',\n",
       "       u'RP1TRACDE', u'OWNRPRCNT', u'EXEMPTYPE', u'RP1STACDE', u'RP1EXMVL2',\n",
       "       u'RP1EXMVL1', u'ROLLYEAR', u'RECURRSALD', u'RP1FXTVAL', u'RP1IMPVAL',\n",
       "       u'RP1LNDVAL', u'RP1PPTVAL'],\n",
       "      dtype='object')"
      ]
     },
     "execution_count": 46,
     "metadata": {},
     "output_type": "execute_result"
    }
   ],
   "source": [
    "sf_data.columns"
   ]
  },
  {
   "cell_type": "code",
   "execution_count": 47,
   "metadata": {
    "collapsed": false
   },
   "outputs": [],
   "source": [
    "sf_data_num = sf_data[['BATHS', 'BEDS', 'ROOMS', 'SQFT', 'RP1IMPVAL', 'RP1PPTVAL']]"
   ]
  },
  {
   "cell_type": "code",
   "execution_count": 48,
   "metadata": {
    "collapsed": false
   },
   "outputs": [],
   "source": [
    "sf_data_corr = sf_data_num.corr()"
   ]
  },
  {
   "cell_type": "code",
   "execution_count": 29,
   "metadata": {
    "collapsed": true
   },
   "outputs": [],
   "source": [
    "# I will look at whether there is any correlation  between the columns present \n",
    "# in sf_data_num and RP1PPTVAL"
   ]
  },
  {
   "cell_type": "code",
   "execution_count": 49,
   "metadata": {
    "collapsed": false,
    "scrolled": true
   },
   "outputs": [
    {
     "data": {
      "text/plain": [
       "<matplotlib.axes._subplots.AxesSubplot at 0x117998e10>"
      ]
     },
     "execution_count": 49,
     "metadata": {},
     "output_type": "execute_result"
    },
    {
     "data": {
      "image/png": "[encoded data removed]",
      "text/plain": [
       "<matplotlib.figure.Figure at 0x11706c6d0>"
      ]
     },
     "metadata": {},
     "output_type": "display_data"
    }
   ],
   "source": [
    "sf_data_num['SQFT'].hist()"
   ]
  },
  {
   "cell_type": "code",
   "execution_count": 50,
   "metadata": {
    "collapsed": false
   },
   "outputs": [
    {
     "data": {
      "text/plain": [
       "<matplotlib.axes._subplots.AxesSubplot at 0x1179d0290>"
      ]
     },
     "execution_count": 50,
     "metadata": {},
     "output_type": "execute_result"
    },
    {
     "data": {
      "image/png": "[encoded data removed]",
      "text/plain": [
       "<matplotlib.figure.Figure at 0x118303e90>"
      ]
     },
     "metadata": {},
     "output_type": "display_data"
    }
   ],
   "source": [
    "sf_data_num['RP1PPTVAL'].hist()"
   ]
  },
  {
   "cell_type": "code",
   "execution_count": 51,
   "metadata": {
    "collapsed": false
   },
   "outputs": [
    {
     "data": {
      "image/png": "[encoded data removed]",
      "text/plain": [
       "<matplotlib.figure.Figure at 0x10a0e4b10>"
      ]
     },
     "metadata": {},
     "output_type": "display_data"
    }
   ],
   "source": [
    "plt.rcParams['figure.figsize']=(9,7)\n",
    "\n",
    "# Generate a mask for the upper triangle (taken from seaborn example gallery)\n",
    "mask = np.zeros_like(sf_data_corr, dtype=np.bool)\n",
    "mask[np.triu_indices_from(mask)] = True\n",
    "\n",
    "# Plot the heatmap with seaborn.\n",
    "# Assign the matplotlib axis the function returns. This will let us resize the labels.\n",
    "ax = sns.heatmap(sf_data_corr, mask=mask)\n",
    "\n",
    "# Resize the labels.\n",
    "ax.set_xticklabels(ax.xaxis.get_ticklabels(), fontsize=14)\n",
    "ax.set_yticklabels(ax.yaxis.get_ticklabels(), fontsize=14)\n",
    "\n",
    "# If you put plt.show() at the bottom, it prevents those useless printouts from matplotlib.\n",
    "plt.show()"
   ]
  },
  {
   "cell_type": "markdown",
   "metadata": {},
   "source": [
    "<img src=\"http://imgur.com/l5NasQj.png\" style=\"float: left; margin: 25px 15px 0px 0px; height: 25px\">\n",
    "\n",
    "### 2. Construct and evaluate a linear regression model on the data\n",
    "\n",
    "---\n",
    "\n",
    "1. State the variables that are predictors in your linear regression and the target variable.\n",
    "- Investigate and remove any outliers or other problems in your data. _This is a subjective process._\n",
    "- Construct a linear regression model.\n",
    "- Evaluate the model. How does the $R^2$ of the overall model compare to cross-validated $R^2$. What do the differences in $R^2$ mean?\n",
    "  - Use test / train split\n",
    "  - Use K-Folds\n",
    "  - Compare and explain your results with both\n",
    "- Visualize the evaluation metrics of your analysis in clear charts.\n",
    "- Summarize your results in the context of your hypothesis. Frame this as if you are presenting to non-technical readers.\n"
   ]
  },
  {
   "cell_type": "code",
   "execution_count": 52,
   "metadata": {
    "collapsed": true
   },
   "outputs": [],
   "source": [
    "target = 'RP1PPTVAL'"
   ]
  },
  {
   "cell_type": "code",
   "execution_count": 53,
   "metadata": {
    "collapsed": false
   },
   "outputs": [
    {
     "name": "stdout",
     "output_type": "stream",
     "text": [
      "RP1PPTVAL ~ BATHS + BEDS + ROOMS + SQFT + RP1IMPVAL -1\n"
     ]
    }
   ],
   "source": [
    "import patsy\n",
    "\n",
    "# Get the non-target cols with a simple list comprehension\n",
    "non_target_cols = [x for x in sf_data_num.columns if x != target]\n",
    "\n",
    "# Use some string adding and joining to make the simple model formula:\n",
    "# put in -1 to remove the intercept (which sklearn will add later on)\n",
    "formula_simple = target + ' ~ ' + ' + '.join(non_target_cols) + ' -1'\n",
    "print formula_simple\n",
    "\n",
    "# Create the X and Y pairs for our data\n",
    "Y, X = patsy.dmatrices(formula_simple, data=sf_data_num)"
   ]
  },
  {
   "cell_type": "code",
   "execution_count": 54,
   "metadata": {
    "collapsed": true
   },
   "outputs": [],
   "source": [
    "from sklearn.linear_model import Ridge"
   ]
  },
  {
   "cell_type": "code",
   "execution_count": 55,
   "metadata": {
    "collapsed": true
   },
   "outputs": [],
   "source": [
    "def ridge_coefs(X, Y, alphas):\n",
    "    \n",
    "    # set up the list to hold the different sets of coefficients:\n",
    "    coefs = []\n",
    "    \n",
    "    # Set up a ridge regression object\n",
    "    ridge_reg = Ridge()\n",
    "    \n",
    "    # Iterate through the alphas fed into the function:\n",
    "    for a in alphas:\n",
    "        \n",
    "        # On each alpha reset the ridge model's alpha to the current one:\n",
    "        ridge_reg.set_params(alpha=a)\n",
    "        \n",
    "        # fit or refit the model on the provided X, Y\n",
    "        ridge_reg.fit(X, Y)\n",
    "        \n",
    "        # Get out the coefficient list (first element of the .coef_ attribute)\n",
    "        coefs.append(ridge_reg.coef_[0])\n",
    "        \n",
    "    return coefs"
   ]
  },
  {
   "cell_type": "code",
   "execution_count": 56,
   "metadata": {
    "collapsed": true
   },
   "outputs": [],
   "source": [
    "r_alphas = np.logspace(0, 5, 200)\n",
    "\n",
    "# Get the coefficients for each alpha for the Ridge, using the function above\n",
    "r_coefs = ridge_coefs(X, Y, r_alphas)"
   ]
  },
  {
   "cell_type": "code",
   "execution_count": 57,
   "metadata": {
    "collapsed": false
   },
   "outputs": [],
   "source": [
    "# I'll use the plotting function we used  in class\n",
    "\n",
    "from cycler import cycler\n",
    "\n",
    "def coef_plotter(alphas, coefs, feature_names, to_alpha, regtype='ridge'):\n",
    "    \n",
    "    # Get the full range of alphas before subsetting to keep the plots from \n",
    "    # resetting axes each time. (We use these values to set static axes later).\n",
    "    amin = np.min(alphas)\n",
    "    amax = np.max(alphas)\n",
    "    \n",
    "    # Subset the alphas and coefficients to just the ones below the set limit\n",
    "    # from the interactive widget:\n",
    "    alphas = [a for a in alphas if a <= to_alpha]\n",
    "    coefs = coefs[0:len(alphas)]\n",
    "    \n",
    "    # Get some colors from seaborn:\n",
    "    colors = sns.color_palette(\"husl\", len(coefs[0]))\n",
    "    \n",
    "    # Get the figure and reset the size to be wider:\n",
    "    fig = plt.figure()\n",
    "    fig.set_size_inches(18,7)\n",
    "\n",
    "    # We have two axes this time on our figure. \n",
    "    # The fig.add_subplot adds axes to our figure. The number inside stands for:\n",
    "    #[figure_rows|figure_cols|position_of_current_axes]\n",
    "    ax1 = fig.add_subplot(121)\n",
    "    \n",
    "    # Give it the color cycler:\n",
    "    ax1.set_prop_cycle(cycler('color', colors))\n",
    "    \n",
    "    # Print a vertical line showing our current alpha threshold:\n",
    "    ax1.axvline(to_alpha, lw=2, ls='dashed', c='k', alpha=0.4)\n",
    "    \n",
    "    # Plot the lines of the alphas on x-axis and coefficients on y-axis\n",
    "    ax1.plot(alphas, coefs, lw=2)\n",
    "    \n",
    "    # set labels for axes:\n",
    "    ax1.set_xlabel('alpha', fontsize=20)\n",
    "    ax1.set_ylabel('coefficients', fontsize=20)\n",
    "    \n",
    "    # If this is for the ridge, set this to a log scale on the x-axis:\n",
    "    if regtype == 'ridge':\n",
    "        ax1.set_xscale('log')\n",
    "    \n",
    "    # Enforce the axis limits:\n",
    "    ax1.set_xlim([amin, amax])\n",
    "    \n",
    "    # Put a title on the axis\n",
    "    ax1.set_title(regtype+' coef paths\\n', fontsize=20)\n",
    "    \n",
    "    # Get the ymin and ymax for this axis to enforce it to be the same on the \n",
    "    # second chart:\n",
    "    ymin, ymax = ax1.get_ylim()\n",
    "\n",
    "    # Add our second axes for the barplot in position 2:\n",
    "    ax2 = fig.add_subplot(122)\n",
    "    \n",
    "    # Position the bars according to their index from the feature names variable:\n",
    "    ax2.bar(range(1, len(feature_names)+1), coefs[-1], align='center', color=colors)\n",
    "    ax2.set_xticks(range(1, len(feature_names)+1))\n",
    "    \n",
    "    # Reset the ticks from numbers to acutally be the names:\n",
    "    ax2.set_xticklabels(feature_names, rotation=65, fontsize=12)\n",
    "    \n",
    "    # enforce limits and add titles, labels\n",
    "    ax2.set_ylim([ymin, ymax])\n",
    "    ax2.set_title(regtype+' predictor coefs\\n', fontsize=20)\n",
    "    ax2.set_xlabel('coefficients', fontsize=20)\n",
    "    ax2.set_ylabel('alpha', fontsize=20)\n",
    "    \n",
    "    plt.show()"
   ]
  },
  {
   "cell_type": "code",
   "execution_count": 61,
   "metadata": {
    "collapsed": true
   },
   "outputs": [],
   "source": [
    "simple_feature_names = X.design_info.column_names"
   ]
  },
  {
   "cell_type": "code",
   "execution_count": 62,
   "metadata": {
    "collapsed": false
   },
   "outputs": [
    {
     "data": {
      "image/png": "[encoded data removed]",
      "text/plain": [
       "<matplotlib.figure.Figure at 0x119b53bd0>"
      ]
     },
     "metadata": {},
     "output_type": "display_data"
    },
    {
     "data": {
      "text/plain": [
       "<function __main__.ridge_plot_runner>"
      ]
     },
     "execution_count": 62,
     "metadata": {},
     "output_type": "execute_result"
    }
   ],
   "source": [
    "def ridge_plot_runner(log_of_alpha=7):\n",
    "    coef_plotter(r_alphas, r_coefs, simple_feature_names, 10**log_of_alpha, regtype='ridge')\n",
    "\n",
    "interact(ridge_plot_runner, log_of_alpha=(0.0,5.0,0.05))"
   ]
  },
  {
   "cell_type": "markdown",
   "metadata": {},
   "source": [
    "<img src=\"http://imgur.com/xDpSobf.png\" style=\"float: left; margin: 25px 15px 0px 0px; height: 25px\">\n",
    "\n",
    "### 2.2 Explain $R^2$ vs. mean squared error (MSE)\n",
    "\n",
    "---\n",
    "\n",
    "1. If you have negative $R^2$ values in cross-validation, what does this mean? \n",
    "2. Why can $R^2$ only be negative when the model is tested on new data?"
   ]
  },
  {
   "cell_type": "code",
   "execution_count": null,
   "metadata": {
    "collapsed": true
   },
   "outputs": [],
   "source": []
  },
  {
   "cell_type": "markdown",
   "metadata": {},
   "source": [
    "<img src=\"http://imgur.com/l5NasQj.png\" style=\"float: left; margin: 25px 15px 0px 0px; height: 25px\">\n",
    "\n",
    "### 3. Combine multiple sources of data and evaluate a model with regularized regression\n",
    "\n",
    "---\n",
    "\n",
    "**I recommend having many predictors to see benefits from regularization methods, but it's up to you.**\n",
    "\n",
    "1. Use _NEW_ sources of data for this section. It should not be related to your analysis/hypothesis from section 1.\n",
    "- Like in part 1, you should state a hypothesis and perform data cleaning and EDA _only_ on the relevant portions of your data. Don't waste time!\n",
    "- Construct and evaluate different models with cross-validated $R^2$. Compare LinearRegression, Lasso, Ridge, and ElasticNet. Find the optimal hyperparameters (alpha, l1_ratio) using gridsearch.\n",
    "- Report on which model is best, and why that might be the case (hint: does your data have multicollinearity? Irrelevant variables? Both?)\n",
    "- Plot visuals that compare the performance of the four models.\n"
   ]
  },
  {
   "cell_type": "code",
   "execution_count": 63,
   "metadata": {
    "collapsed": false
   },
   "outputs": [
    {
     "name": "stderr",
     "output_type": "stream",
     "text": [
      "/Users/Ovid/anaconda2/envs/dsi/lib/python2.7/site-packages/IPython/core/interactiveshell.py:2723: DtypeWarning: Columns (26) have mixed types. Specify dtype option on import or set low_memory=False.\n",
      "  interactivity=interactivity, compiler=compiler, result=result)\n"
     ]
    }
   ],
   "source": [
    "sf_data1 = pd.read_csv(\n",
    "    'san_francisco_data/assessor_office/assessor_data_2013_2014.csv')"
   ]
  },
  {
   "cell_type": "code",
   "execution_count": 64,
   "metadata": {
    "collapsed": false
   },
   "outputs": [
    {
     "data": {
      "text/html": [
       "<div>\n",
       "<table border=\"1\" class=\"dataframe\">\n",
       "  <thead>\n",
       "    <tr style=\"text-align: right;\">\n",
       "      <th></th>\n",
       "      <th>PROPLOC</th>\n",
       "      <th>RP1NBRCDE</th>\n",
       "      <th>RP1PRCLID</th>\n",
       "      <th>RP1VOLUME</th>\n",
       "      <th>RP1CLACDE</th>\n",
       "      <th>YRBLT</th>\n",
       "      <th>BATHS</th>\n",
       "      <th>BEDS</th>\n",
       "      <th>ROOMS</th>\n",
       "      <th>STOREYNO</th>\n",
       "      <th>...</th>\n",
       "      <th>EXEMPTYPE</th>\n",
       "      <th>RP1STACDE</th>\n",
       "      <th>RP1EXMVL2</th>\n",
       "      <th>RP1EXMVL1</th>\n",
       "      <th>ROLLYEAR</th>\n",
       "      <th>RECURRSALD</th>\n",
       "      <th>RP1FXTVAL</th>\n",
       "      <th>RP1IMPVAL</th>\n",
       "      <th>RP1LNDVAL</th>\n",
       "      <th>RP1PPTVAL</th>\n",
       "    </tr>\n",
       "  </thead>\n",
       "  <tbody>\n",
       "    <tr>\n",
       "      <th>0</th>\n",
       "      <td>0000 0000                       0000</td>\n",
       "      <td>08H</td>\n",
       "      <td>0001 001</td>\n",
       "      <td>1</td>\n",
       "      <td>G</td>\n",
       "      <td>1900</td>\n",
       "      <td>0</td>\n",
       "      <td>0</td>\n",
       "      <td>0</td>\n",
       "      <td>0</td>\n",
       "      <td>...</td>\n",
       "      <td>NaN</td>\n",
       "      <td>N</td>\n",
       "      <td>0</td>\n",
       "      <td>0</td>\n",
       "      <td>13</td>\n",
       "      <td>0</td>\n",
       "      <td>0</td>\n",
       "      <td>0</td>\n",
       "      <td>0</td>\n",
       "      <td>0</td>\n",
       "    </tr>\n",
       "    <tr>\n",
       "      <th>1</th>\n",
       "      <td>0000 0000                       0000</td>\n",
       "      <td>08H</td>\n",
       "      <td>0002 001</td>\n",
       "      <td>1</td>\n",
       "      <td>G</td>\n",
       "      <td>1900</td>\n",
       "      <td>0</td>\n",
       "      <td>0</td>\n",
       "      <td>0</td>\n",
       "      <td>0</td>\n",
       "      <td>...</td>\n",
       "      <td>NaN</td>\n",
       "      <td>N</td>\n",
       "      <td>0</td>\n",
       "      <td>0</td>\n",
       "      <td>13</td>\n",
       "      <td>0</td>\n",
       "      <td>0</td>\n",
       "      <td>0</td>\n",
       "      <td>0</td>\n",
       "      <td>0</td>\n",
       "    </tr>\n",
       "    <tr>\n",
       "      <th>2</th>\n",
       "      <td>0000 0000                       0000</td>\n",
       "      <td>08H</td>\n",
       "      <td>0004 002</td>\n",
       "      <td>1</td>\n",
       "      <td>V</td>\n",
       "      <td>0</td>\n",
       "      <td>0</td>\n",
       "      <td>0</td>\n",
       "      <td>0</td>\n",
       "      <td>0</td>\n",
       "      <td>...</td>\n",
       "      <td>NaN</td>\n",
       "      <td>N</td>\n",
       "      <td>0</td>\n",
       "      <td>0</td>\n",
       "      <td>13</td>\n",
       "      <td>0</td>\n",
       "      <td>0</td>\n",
       "      <td>0</td>\n",
       "      <td>0</td>\n",
       "      <td>0</td>\n",
       "    </tr>\n",
       "    <tr>\n",
       "      <th>3</th>\n",
       "      <td>0000 0000                       0000</td>\n",
       "      <td>08H</td>\n",
       "      <td>0005 001</td>\n",
       "      <td>1</td>\n",
       "      <td>G</td>\n",
       "      <td>1900</td>\n",
       "      <td>0</td>\n",
       "      <td>0</td>\n",
       "      <td>0</td>\n",
       "      <td>0</td>\n",
       "      <td>...</td>\n",
       "      <td>NaN</td>\n",
       "      <td>N</td>\n",
       "      <td>0</td>\n",
       "      <td>0</td>\n",
       "      <td>13</td>\n",
       "      <td>0</td>\n",
       "      <td>0</td>\n",
       "      <td>0</td>\n",
       "      <td>0</td>\n",
       "      <td>0</td>\n",
       "    </tr>\n",
       "    <tr>\n",
       "      <th>4</th>\n",
       "      <td>0000 0000                       0000</td>\n",
       "      <td>08H</td>\n",
       "      <td>0006 001</td>\n",
       "      <td>1</td>\n",
       "      <td>G</td>\n",
       "      <td>1900</td>\n",
       "      <td>0</td>\n",
       "      <td>0</td>\n",
       "      <td>0</td>\n",
       "      <td>0</td>\n",
       "      <td>...</td>\n",
       "      <td>NaN</td>\n",
       "      <td>N</td>\n",
       "      <td>0</td>\n",
       "      <td>0</td>\n",
       "      <td>13</td>\n",
       "      <td>0</td>\n",
       "      <td>0</td>\n",
       "      <td>0</td>\n",
       "      <td>0</td>\n",
       "      <td>0</td>\n",
       "    </tr>\n",
       "    <tr>\n",
       "      <th>5</th>\n",
       "      <td>0000 0000                       0000</td>\n",
       "      <td>08H</td>\n",
       "      <td>0007 001</td>\n",
       "      <td>1</td>\n",
       "      <td>G</td>\n",
       "      <td>1900</td>\n",
       "      <td>0</td>\n",
       "      <td>0</td>\n",
       "      <td>0</td>\n",
       "      <td>0</td>\n",
       "      <td>...</td>\n",
       "      <td>NaN</td>\n",
       "      <td>N</td>\n",
       "      <td>0</td>\n",
       "      <td>0</td>\n",
       "      <td>13</td>\n",
       "      <td>0</td>\n",
       "      <td>0</td>\n",
       "      <td>0</td>\n",
       "      <td>0</td>\n",
       "      <td>0</td>\n",
       "    </tr>\n",
       "    <tr>\n",
       "      <th>6</th>\n",
       "      <td>0000 2801 LEAVENWORTH         ST0000</td>\n",
       "      <td>08H</td>\n",
       "      <td>0010 001</td>\n",
       "      <td>1</td>\n",
       "      <td>C1</td>\n",
       "      <td>1907</td>\n",
       "      <td>0</td>\n",
       "      <td>0</td>\n",
       "      <td>0</td>\n",
       "      <td>3</td>\n",
       "      <td>...</td>\n",
       "      <td>NaN</td>\n",
       "      <td>NaN</td>\n",
       "      <td>0</td>\n",
       "      <td>0</td>\n",
       "      <td>13</td>\n",
       "      <td>110523</td>\n",
       "      <td>0</td>\n",
       "      <td>8564572</td>\n",
       "      <td>12846859</td>\n",
       "      <td>0</td>\n",
       "    </tr>\n",
       "    <tr>\n",
       "      <th>7</th>\n",
       "      <td>0495 0455 JEFFERSON           ST0000</td>\n",
       "      <td>08H</td>\n",
       "      <td>0010 002</td>\n",
       "      <td>1</td>\n",
       "      <td>H</td>\n",
       "      <td>1907</td>\n",
       "      <td>0</td>\n",
       "      <td>0</td>\n",
       "      <td>0</td>\n",
       "      <td>4</td>\n",
       "      <td>...</td>\n",
       "      <td>NaN</td>\n",
       "      <td>NaN</td>\n",
       "      <td>0</td>\n",
       "      <td>0</td>\n",
       "      <td>13</td>\n",
       "      <td>0</td>\n",
       "      <td>0</td>\n",
       "      <td>0</td>\n",
       "      <td>1</td>\n",
       "      <td>0</td>\n",
       "    </tr>\n",
       "    <tr>\n",
       "      <th>8</th>\n",
       "      <td>0000 2800 LEAVENWORTH         ST0000</td>\n",
       "      <td>08H</td>\n",
       "      <td>0011 007</td>\n",
       "      <td>1</td>\n",
       "      <td>HC</td>\n",
       "      <td>0</td>\n",
       "      <td>0</td>\n",
       "      <td>0</td>\n",
       "      <td>0</td>\n",
       "      <td>0</td>\n",
       "      <td>...</td>\n",
       "      <td>NaN</td>\n",
       "      <td>NaN</td>\n",
       "      <td>0</td>\n",
       "      <td>0</td>\n",
       "      <td>13</td>\n",
       "      <td>41001</td>\n",
       "      <td>3772351</td>\n",
       "      <td>30789127</td>\n",
       "      <td>30789127</td>\n",
       "      <td>100635</td>\n",
       "    </tr>\n",
       "    <tr>\n",
       "      <th>9</th>\n",
       "      <td>0000 0500 BEACH               ST0000</td>\n",
       "      <td>08H</td>\n",
       "      <td>0011 008</td>\n",
       "      <td>1</td>\n",
       "      <td>C1</td>\n",
       "      <td>1974</td>\n",
       "      <td>7</td>\n",
       "      <td>0</td>\n",
       "      <td>36</td>\n",
       "      <td>4</td>\n",
       "      <td>...</td>\n",
       "      <td>NaN</td>\n",
       "      <td>NaN</td>\n",
       "      <td>0</td>\n",
       "      <td>0</td>\n",
       "      <td>13</td>\n",
       "      <td>41001</td>\n",
       "      <td>0</td>\n",
       "      <td>15734148</td>\n",
       "      <td>30789127</td>\n",
       "      <td>0</td>\n",
       "    </tr>\n",
       "    <tr>\n",
       "      <th>10</th>\n",
       "      <td>2755 2739 TAYLOR              ST0000</td>\n",
       "      <td>08H</td>\n",
       "      <td>0012 001</td>\n",
       "      <td>1</td>\n",
       "      <td>C</td>\n",
       "      <td>1953</td>\n",
       "      <td>12</td>\n",
       "      <td>0</td>\n",
       "      <td>19</td>\n",
       "      <td>2</td>\n",
       "      <td>...</td>\n",
       "      <td>NaN</td>\n",
       "      <td>NaN</td>\n",
       "      <td>0</td>\n",
       "      <td>0</td>\n",
       "      <td>13</td>\n",
       "      <td>920131</td>\n",
       "      <td>0</td>\n",
       "      <td>5615305</td>\n",
       "      <td>11775586</td>\n",
       "      <td>0</td>\n",
       "    </tr>\n",
       "  </tbody>\n",
       "</table>\n",
       "<p>11 rows × 36 columns</p>\n",
       "</div>"
      ],
      "text/plain": [
       "                                 PROPLOC RP1NBRCDE RP1PRCLID  RP1VOLUME  \\\n",
       "0   0000 0000                       0000       08H  0001 001          1   \n",
       "1   0000 0000                       0000       08H  0002 001          1   \n",
       "2   0000 0000                       0000       08H  0004 002          1   \n",
       "3   0000 0000                       0000       08H  0005 001          1   \n",
       "4   0000 0000                       0000       08H  0006 001          1   \n",
       "5   0000 0000                       0000       08H  0007 001          1   \n",
       "6   0000 2801 LEAVENWORTH         ST0000       08H  0010 001          1   \n",
       "7   0495 0455 JEFFERSON           ST0000       08H  0010 002          1   \n",
       "8   0000 2800 LEAVENWORTH         ST0000       08H  0011 007          1   \n",
       "9   0000 0500 BEACH               ST0000       08H  0011 008          1   \n",
       "10  2755 2739 TAYLOR              ST0000       08H  0012 001          1   \n",
       "\n",
       "   RP1CLACDE  YRBLT  BATHS  BEDS  ROOMS  STOREYNO    ...     EXEMPTYPE  \\\n",
       "0          G   1900      0     0      0         0    ...           NaN   \n",
       "1          G   1900      0     0      0         0    ...           NaN   \n",
       "2          V      0      0     0      0         0    ...           NaN   \n",
       "3          G   1900      0     0      0         0    ...           NaN   \n",
       "4          G   1900      0     0      0         0    ...           NaN   \n",
       "5          G   1900      0     0      0         0    ...           NaN   \n",
       "6         C1   1907      0     0      0         3    ...           NaN   \n",
       "7          H   1907      0     0      0         4    ...           NaN   \n",
       "8         HC      0      0     0      0         0    ...           NaN   \n",
       "9         C1   1974      7     0     36         4    ...           NaN   \n",
       "10         C   1953     12     0     19         2    ...           NaN   \n",
       "\n",
       "    RP1STACDE RP1EXMVL2 RP1EXMVL1  ROLLYEAR  RECURRSALD  RP1FXTVAL  RP1IMPVAL  \\\n",
       "0           N         0         0        13           0          0          0   \n",
       "1           N         0         0        13           0          0          0   \n",
       "2           N         0         0        13           0          0          0   \n",
       "3           N         0         0        13           0          0          0   \n",
       "4           N         0         0        13           0          0          0   \n",
       "5           N         0         0        13           0          0          0   \n",
       "6         NaN         0         0        13      110523          0    8564572   \n",
       "7         NaN         0         0        13           0          0          0   \n",
       "8         NaN         0         0        13       41001    3772351   30789127   \n",
       "9         NaN         0         0        13       41001          0   15734148   \n",
       "10        NaN         0         0        13      920131          0    5615305   \n",
       "\n",
       "    RP1LNDVAL RP1PPTVAL  \n",
       "0           0         0  \n",
       "1           0         0  \n",
       "2           0         0  \n",
       "3           0         0  \n",
       "4           0         0  \n",
       "5           0         0  \n",
       "6    12846859         0  \n",
       "7           1         0  \n",
       "8    30789127    100635  \n",
       "9    30789127         0  \n",
       "10   11775586         0  \n",
       "\n",
       "[11 rows x 36 columns]"
      ]
     },
     "execution_count": 64,
     "metadata": {},
     "output_type": "execute_result"
    }
   ],
   "source": [
    "sf_data1.head(11)"
   ]
  },
  {
   "cell_type": "code",
   "execution_count": 65,
   "metadata": {
    "collapsed": false
   },
   "outputs": [
    {
     "data": {
      "text/plain": [
       "Index([u'PROPLOC', u'RP1NBRCDE', u'RP1PRCLID', u'RP1VOLUME', u'RP1CLACDE',\n",
       "       u'YRBLT', u'BATHS', u'BEDS', u'ROOMS', u'STOREYNO', u'UNITS',\n",
       "       u'CHGDATE', u'ZONE', u'CONSTTYPE', u'DEPTH', u'FRONT', u'SQFT', u'FBA',\n",
       "       u'LAREA', u'LOTCODE', u'REPRISDATE', u'RP1RECDAT1', u'RP1DOCNO1',\n",
       "       u'RP1DOCNO2', u'RP1TRACDE', u'OWNRPRCNT', u'EXEMPTYPE', u'RP1STACDE',\n",
       "       u'RP1EXMVL2', u'RP1EXMVL1', u'ROLLYEAR', u'RECURRSALD', u'RP1FXTVAL',\n",
       "       u'RP1IMPVAL', u'RP1LNDVAL', u'RP1PPTVAL'],\n",
       "      dtype='object')"
      ]
     },
     "execution_count": 65,
     "metadata": {},
     "output_type": "execute_result"
    }
   ],
   "source": [
    "sf_data1.columns"
   ]
  },
  {
   "cell_type": "code",
   "execution_count": 66,
   "metadata": {
    "collapsed": false
   },
   "outputs": [],
   "source": [
    "sf_data1_num = sf_data1[['BATHS', 'BEDS', 'ROOMS', 'SQFT', 'YRBLT', 'RP1PPTVAL','RP1IMPVAL']]"
   ]
  },
  {
   "cell_type": "code",
   "execution_count": 67,
   "metadata": {
    "collapsed": false
   },
   "outputs": [
    {
     "data": {
      "text/html": [
       "<div>\n",
       "<table border=\"1\" class=\"dataframe\">\n",
       "  <thead>\n",
       "    <tr style=\"text-align: right;\">\n",
       "      <th></th>\n",
       "      <th>BATHS</th>\n",
       "      <th>BEDS</th>\n",
       "      <th>ROOMS</th>\n",
       "      <th>SQFT</th>\n",
       "      <th>YRBLT</th>\n",
       "      <th>RP1PPTVAL</th>\n",
       "      <th>RP1IMPVAL</th>\n",
       "    </tr>\n",
       "  </thead>\n",
       "  <tbody>\n",
       "    <tr>\n",
       "      <th>BATHS</th>\n",
       "      <td>1.000000</td>\n",
       "      <td>0.103035</td>\n",
       "      <td>0.513579</td>\n",
       "      <td>0.314752</td>\n",
       "      <td>0.080859</td>\n",
       "      <td>0.066776</td>\n",
       "      <td>0.160099</td>\n",
       "    </tr>\n",
       "    <tr>\n",
       "      <th>BEDS</th>\n",
       "      <td>0.103035</td>\n",
       "      <td>1.000000</td>\n",
       "      <td>0.063830</td>\n",
       "      <td>0.051647</td>\n",
       "      <td>0.031605</td>\n",
       "      <td>0.003497</td>\n",
       "      <td>0.024179</td>\n",
       "    </tr>\n",
       "    <tr>\n",
       "      <th>ROOMS</th>\n",
       "      <td>0.513579</td>\n",
       "      <td>0.063830</td>\n",
       "      <td>1.000000</td>\n",
       "      <td>0.291875</td>\n",
       "      <td>0.085208</td>\n",
       "      <td>0.065892</td>\n",
       "      <td>0.160848</td>\n",
       "    </tr>\n",
       "    <tr>\n",
       "      <th>SQFT</th>\n",
       "      <td>0.314752</td>\n",
       "      <td>0.051647</td>\n",
       "      <td>0.291875</td>\n",
       "      <td>1.000000</td>\n",
       "      <td>0.051284</td>\n",
       "      <td>0.072678</td>\n",
       "      <td>0.658973</td>\n",
       "    </tr>\n",
       "    <tr>\n",
       "      <th>YRBLT</th>\n",
       "      <td>0.080859</td>\n",
       "      <td>0.031605</td>\n",
       "      <td>0.085208</td>\n",
       "      <td>0.051284</td>\n",
       "      <td>1.000000</td>\n",
       "      <td>-0.014117</td>\n",
       "      <td>0.014040</td>\n",
       "    </tr>\n",
       "    <tr>\n",
       "      <th>RP1PPTVAL</th>\n",
       "      <td>0.066776</td>\n",
       "      <td>0.003497</td>\n",
       "      <td>0.065892</td>\n",
       "      <td>0.072678</td>\n",
       "      <td>-0.014117</td>\n",
       "      <td>1.000000</td>\n",
       "      <td>0.210835</td>\n",
       "    </tr>\n",
       "    <tr>\n",
       "      <th>RP1IMPVAL</th>\n",
       "      <td>0.160099</td>\n",
       "      <td>0.024179</td>\n",
       "      <td>0.160848</td>\n",
       "      <td>0.658973</td>\n",
       "      <td>0.014040</td>\n",
       "      <td>0.210835</td>\n",
       "      <td>1.000000</td>\n",
       "    </tr>\n",
       "  </tbody>\n",
       "</table>\n",
       "</div>"
      ],
      "text/plain": [
       "              BATHS      BEDS     ROOMS      SQFT     YRBLT  RP1PPTVAL  \\\n",
       "BATHS      1.000000  0.103035  0.513579  0.314752  0.080859   0.066776   \n",
       "BEDS       0.103035  1.000000  0.063830  0.051647  0.031605   0.003497   \n",
       "ROOMS      0.513579  0.063830  1.000000  0.291875  0.085208   0.065892   \n",
       "SQFT       0.314752  0.051647  0.291875  1.000000  0.051284   0.072678   \n",
       "YRBLT      0.080859  0.031605  0.085208  0.051284  1.000000  -0.014117   \n",
       "RP1PPTVAL  0.066776  0.003497  0.065892  0.072678 -0.014117   1.000000   \n",
       "RP1IMPVAL  0.160099  0.024179  0.160848  0.658973  0.014040   0.210835   \n",
       "\n",
       "           RP1IMPVAL  \n",
       "BATHS       0.160099  \n",
       "BEDS        0.024179  \n",
       "ROOMS       0.160848  \n",
       "SQFT        0.658973  \n",
       "YRBLT       0.014040  \n",
       "RP1PPTVAL   0.210835  \n",
       "RP1IMPVAL   1.000000  "
      ]
     },
     "execution_count": 67,
     "metadata": {},
     "output_type": "execute_result"
    }
   ],
   "source": [
    "sf_data1_num.corr()"
   ]
  },
  {
   "cell_type": "code",
   "execution_count": 68,
   "metadata": {
    "collapsed": false
   },
   "outputs": [],
   "source": [
    "target = 'RP1PPTVAL' "
   ]
  },
  {
   "cell_type": "code",
   "execution_count": 69,
   "metadata": {
    "collapsed": false
   },
   "outputs": [
    {
     "name": "stdout",
     "output_type": "stream",
     "text": [
      "RP1PPTVAL ~ BATHS + BEDS + ROOMS + SQFT + YRBLT + RP1IMPVAL -1\n"
     ]
    }
   ],
   "source": [
    "non_target_cols = [x for x in sf_data1_num.columns if x != target]\n",
    "\n",
    "# Use some string adding and joining to make the simple model formula:\n",
    "# put in -1 to remove the intercept (which sklearn will add later on)\n",
    "formula_simple = target + ' ~ ' + ' + '.join(non_target_cols) + ' -1'\n",
    "print formula_simple\n",
    "\n",
    "# Create the X and Y pairs for our data\n",
    "Y, X = patsy.dmatrices(formula_simple, data=sf_data1_num)"
   ]
  },
  {
   "cell_type": "code",
   "execution_count": 70,
   "metadata": {
    "collapsed": true
   },
   "outputs": [],
   "source": [
    "from sklearn.cross_validation import KFold\n",
    "kfolds = KFold(sf_data1_num.shape[0], n_folds=5)"
   ]
  },
  {
   "cell_type": "code",
   "execution_count": 71,
   "metadata": {
    "collapsed": false
   },
   "outputs": [],
   "source": [
    "from sklearn.linear_model import Lasso,Ridge,ElasticNet"
   ]
  },
  {
   "cell_type": "code",
   "execution_count": 72,
   "metadata": {
    "collapsed": true
   },
   "outputs": [],
   "source": [
    "l_alphas = np.arange(0, 0.15, 0.0025)\n",
    "r_alphas = np.logspace(0, 5, 200)\n",
    "enet_alphas = np.arange(0, 1.0, 0.005)"
   ]
  },
  {
   "cell_type": "code",
   "execution_count": 162,
   "metadata": {
    "collapsed": false
   },
   "outputs": [
    {
     "name": "stdout",
     "output_type": "stream",
     "text": [
      "Lasso...\n"
     ]
    },
    {
     "name": "stderr",
     "output_type": "stream",
     "text": [
      "/Users/Ovid/anaconda2/envs/dsi/lib/python2.7/site-packages/ipykernel/__main__.py:30: UserWarning: With alpha=0, this algorithm does not converge well. You are advised to use the LinearRegression estimator\n"
     ]
    },
    {
     "name": "stdout",
     "output_type": "stream",
     "text": [
      "Ridge...\n",
      "ElasticNet...\n"
     ]
    },
    {
     "name": "stderr",
     "output_type": "stream",
     "text": [
      "/Users/Ovid/anaconda2/envs/dsi/lib/python2.7/site-packages/ipykernel/__main__.py:60: UserWarning: With alpha=0, this algorithm does not converge well. You are advised to use the LinearRegression estimator\n"
     ]
    }
   ],
   "source": [
    "def ridge_lasso_cv_rsq(X, Y, r_alphas, l_alphas, e_alphas, kfolds, verbose=False):\n",
    "    \n",
    "    # lists to track mean R2s per alpha\n",
    "    ridge_rsq = []\n",
    "    lasso_rsq = []\n",
    "    enet_rsq = []\n",
    "\n",
    "    # initialize models\n",
    "    lasso = Lasso()\n",
    "    ridge = Ridge()\n",
    "    enet = ElasticNet()\n",
    "\n",
    "    print 'Lasso...'\n",
    "    # iterate through Lasso alphas\n",
    "    for la in l_alphas:\n",
    "        \n",
    "        if verbose: print la\n",
    "        \n",
    "        # set the current alpha to the model\n",
    "        lasso.set_params(alpha=la)\n",
    "        \n",
    "        # keep track of fold R2s\n",
    "        rsqs = []\n",
    "        \n",
    "        # iterate through the folds. Each iteration returns the training and\n",
    "        # testing indices\n",
    "        for traini, testi in kfolds:\n",
    "            \n",
    "            # run the current model with the subset training X and Y\n",
    "            lasso.fit(X[traini], Y[traini])\n",
    "            \n",
    "            # append the R2 on the test set to the tracker\n",
    "            rsqs.append(lasso.score(X[testi], Y[testi]))\n",
    "            \n",
    "        # append the mean of the R2s for this alpha to the R2 by alpha list\n",
    "        lasso_rsq.append(np.mean(rsqs))\n",
    "\n",
    "    print 'Ridge...'\n",
    "    # Do the same process as above for ridge...\n",
    "    for ra in r_alphas:\n",
    "        \n",
    "        if verbose: print ra\n",
    "        \n",
    "        ridge.set_params(alpha=ra)\n",
    "        rsqs = []\n",
    "        for traini, testi in kfolds:\n",
    "            ridge.fit(X[traini], Y[traini])\n",
    "            rsqs.append(ridge.score(X[testi], Y[testi]))\n",
    "        ridge_rsq.append(np.mean(rsqs))\n",
    "        \n",
    "    print 'ElasticNet...'\n",
    "    # Do the same process as above for ridge...\n",
    "    for ea in e_alphas:\n",
    "        \n",
    "        if verbose: print ea\n",
    "        \n",
    "        enet.set_params(alpha=ea, l1_ratio=0.5)\n",
    "        rsqs = []\n",
    "        for traini, testi in kfolds:\n",
    "            enet.fit(X[traini], Y[traini])\n",
    "            rsqs.append(enet.score(X[testi], Y[testi]))\n",
    "        enet_rsq.append(np.mean(rsqs))\n",
    "        \n",
    "    from sklearn.linear_model import LinearRegression\n",
    "    \n",
    "    linreg_rsq = []\n",
    "    linreg = LinearRegression()\n",
    "    for traini, testi in kfolds:\n",
    "        linreg.fit(X[traini], Y[traini])\n",
    "        linreg_rsq.append(linreg.score(X[testi], Y[[testi]]))\n",
    "        \n",
    "    linreg_rsq = np.mean(linreg_rsq)\n",
    "        \n",
    "    return ridge_rsq, lasso_rsq, enet_rsq, linreg_rsq\n",
    "    \n",
    "# Get the ridge and lasso cross-validated R2s:\n",
    "\n",
    "ridge_rsq, lasso_rsq, enet_rsq, linreg_rsq = ridge_lasso_cv_rsq(X, Y, r_alphas, l_alphas, \n",
    "                                                                enet_alphas, kfolds)"
   ]
  },
  {
   "cell_type": "code",
   "execution_count": 163,
   "metadata": {
    "collapsed": false
   },
   "outputs": [],
   "source": [
    "def rsq_plotter(ridge_alphas, ridge_to_alpha, ridge_rsq,\n",
    "                lasso_alphas, lasso_to_alpha, lasso_rsq,\n",
    "                enet_alphas, enet_to_alpha, enet_rsq,\n",
    "                linreg_rsq):\n",
    "    \n",
    "    \n",
    "    # Find the overall minimum and maximum alpha values for\n",
    "    # the Ridge and Lasso to fix the plot axes:\n",
    "    ridge_amin = np.min(ridge_alphas)\n",
    "    ridge_amax = np.max(ridge_alphas)\n",
    "    \n",
    "    lasso_amin = np.min(lasso_alphas)\n",
    "    lasso_amax = np.max(lasso_alphas)\n",
    "    \n",
    "    enet_amin = np.min(enet_alphas)\n",
    "    enet_amax = np.max(enet_alphas)\n",
    "    \n",
    "    # Subet the models' alphas and rsqs according to the currently set\n",
    "    # alpha limits for each (passed in from the interactive sliders)\n",
    "    ridge_alphas = [a for a in ridge_alphas if a <= ridge_to_alpha]\n",
    "    ridge_rsq = ridge_rsq[0:len(ridge_alphas)]\n",
    "    \n",
    "    lasso_alphas = [a for a in lasso_alphas if a <= lasso_to_alpha]\n",
    "    lasso_rsq = lasso_rsq[0:len(lasso_alphas)]\n",
    "    \n",
    "    enet_alphas = [a for a in enet_alphas if a <= enet_to_alpha]\n",
    "    enet_rsq = enet_rsq[0:len(enet_alphas)]\n",
    "    \n",
    "    # Get some unique colors out for the Ridge R2 line, Lasso R2 line,\n",
    "    # Enet R2, and the 'max R2 achieved' line.\n",
    "    colors = sns.xkcd_palette(['windows blue', 'amber', 'dark red', 'faded green'])\n",
    "\n",
    "    # We will again be plotting two axes on the same figure:\n",
    "    fig = plt.figure()\n",
    "    fig.set_size_inches(18,7)\n",
    "\n",
    "    # The first subplot axes is for the ridge\n",
    "    ax1 = fig.add_subplot(131)\n",
    "    \n",
    "    # Plot a vertical line indicating the current alpha selected\n",
    "    ax1.axvline(ridge_to_alpha, lw=2, ls='dashed', c='k', alpha=0.4)\n",
    "    \n",
    "    # Plot a horizontal line for the vanilla linear regression R^2\n",
    "    ax1.axhline(linreg_rsq, lw=2, c=colors[2], alpha=0.8)\n",
    "    \n",
    "    # Plot the line tracking R2s by alpha values\n",
    "    ax1.plot(ridge_alphas, ridge_rsq, lw=3, c=colors[0])\n",
    "    \n",
    "    # Add the axis labels\n",
    "    ax1.set_xlabel('ridge alpha', fontsize=20)\n",
    "    ax1.set_ylabel('ridge CV R2', fontsize=20)\n",
    "    \n",
    "    # Set x-axis to logarithmic scale\n",
    "    ax1.set_xscale('log')\n",
    "    \n",
    "    # Fix the axes in place\n",
    "    ax1.set_xlim([ridge_amin, ridge_amax])\n",
    "    ax1.set_ylim([-0.05, 1])\n",
    "    \n",
    "    # set the title for the axes;\n",
    "    ax1.set_title('ridge cross-val performance\\n', fontsize=20)\n",
    "    \n",
    "    \n",
    "    # Now do all of this as above for the Lasso!\n",
    "    ax2 = fig.add_subplot(132)\n",
    "    ax2.axvline(lasso_to_alpha, lw=2, ls='dashed', c='k', alpha=0.4)\n",
    "    ax2.axhline(linreg_rsq, lw=2, c=colors[2], alpha=0.8)\n",
    "    \n",
    "    ax2.plot(lasso_alphas, lasso_rsq, lw=3, c=colors[0])\n",
    "    \n",
    "    ax2.set_xlabel('lasso alpha', fontsize=20)\n",
    "    ax2.set_ylabel('lasso CV R2', fontsize=20)\n",
    "    ax2.set_xlim([lasso_amin, lasso_amax])\n",
    "    ax2.set_ylim([-0.05, 1])\n",
    "        \n",
    "    ax2.set_title('lasso cross-val performance\\n', fontsize=20)\n",
    "    \n",
    "    \n",
    "    # And ElasticNet:\n",
    "    ax3 = fig.add_subplot(133)\n",
    "    ax3.axvline(enet_to_alpha, lw=2, ls='dashed', c='k', alpha=0.4)\n",
    "    ax3.axhline(linreg_rsq, lw=2, c=colors[3], alpha=0.8)\n",
    "    \n",
    "    ax3.plot(enet_alphas, enet_rsq, lw=3, c=colors[0])\n",
    "    \n",
    "    ax3.set_xlabel('enet alpha', fontsize=20)\n",
    "    ax3.set_ylabel('enet CV R2', fontsize=20)\n",
    "    ax3.set_xlim([enet_amin, enet_amax])\n",
    "    ax3.set_ylim([-0.05, 1])\n",
    "        \n",
    "    ax3.set_title('enet cross-val performance\\n', fontsize=20)\n",
    "    \n",
    "    plt.show()"
   ]
  },
  {
   "cell_type": "code",
   "execution_count": 164,
   "metadata": {
    "collapsed": false
   },
   "outputs": [
    {
     "data": {
      "image/png": "[encoded data removed]",
      "text/plain": [
       "<matplotlib.figure.Figure at 0x13a3fff50>"
      ]
     },
     "metadata": {},
     "output_type": "display_data"
    }
   ],
   "source": [
    "def rsq_plot_pipe(ra, la, ea):\n",
    "    rsq_plotter(r_alphas, 10**ra, ridge_rsq, l_alphas, la, lasso_rsq, enet_alphas, ea, enet_rsq, linreg_rsq)\n",
    "    \n",
    "w = widgets.interactive(rsq_plot_pipe, \n",
    "                        ra=widgets.FloatSlider(value=0, min=0., max=5., step=0.05, description='Ridge log10(alpha):'),\n",
    "                        la=widgets.FloatSlider(value=0, min=0., max=0.2, step=0.0025, description='Lasso alpha:'),\n",
    "                        ea=widgets.FloatSlider(value=0, min=0., max=1.0, step=0.005, description='Enet alpha:')\n",
    ")\n",
    "\n",
    "display(w)"
   ]
  },
  {
   "cell_type": "code",
   "execution_count": 165,
   "metadata": {
    "collapsed": false
   },
   "outputs": [
    {
     "name": "stdout",
     "output_type": "stream",
     "text": [
      "Linear Regression R^2: -0.754356794736\n",
      "Ridge best R^2: -0.754356795037\n",
      "Lasso best R^2: -0.754356784467\n",
      "ElasticNet best R^2: -0.754356794736\n"
     ]
    }
   ],
   "source": [
    "print 'Linear Regression R^2:', linreg_rsq\n",
    "print 'Ridge best R^2:', np.max(ridge_rsq)\n",
    "print 'Lasso best R^2:', np.max(lasso_rsq)\n",
    "print 'ElasticNet best R^2:', np.max(enet_rsq)"
   ]
  },
  {
   "cell_type": "markdown",
   "metadata": {},
   "source": [
    "<img src=\"http://imgur.com/l5NasQj.png\" style=\"float: left; margin: 25px 15px 0px 0px; height: 25px\">\n",
    "\n",
    "### 4. Conduct another, different analysis and report on it\n",
    "\n",
    "---\n",
    "\n",
    "1. Combining multiple sources of data (csv files) is required.\n",
    "- Perform EDA and cleaning on relevant data.\n",
    "- Construct and compare different regression models with cross-validation.\n",
    "- Plot descriptive visuals you think are useful for understanding the data.\n",
    "- Report on your findings.\n",
    "\n",
    "This section is just another analysis like the first sections, but is more open-ended in what models you decide to build and why. Don't feel obligated to try every out every regularized regression model (though it doesn't hurt). \n"
   ]
  },
  {
   "cell_type": "code",
   "execution_count": 89,
   "metadata": {
    "collapsed": false
   },
   "outputs": [
    {
     "name": "stderr",
     "output_type": "stream",
     "text": [
      "/Users/Ovid/anaconda2/envs/dsi/lib/python2.7/site-packages/IPython/core/interactiveshell.py:2723: DtypeWarning: Columns (15) have mixed types. Specify dtype option on import or set low_memory=False.\n",
      "  interactivity=interactivity, compiler=compiler, result=result)\n"
     ]
    }
   ],
   "source": [
    "# I did not find a good set of multiple .csv files\n",
    "\n",
    "sf_data44 = pd.read_csv(\n",
    "                'san_francisco_data/311_case_records/311_records.csv')"
   ]
  },
  {
   "cell_type": "code",
   "execution_count": 166,
   "metadata": {
    "collapsed": false,
    "scrolled": true
   },
   "outputs": [
    {
     "data": {
      "text/html": [
       "<div>\n",
       "<table border=\"1\" class=\"dataframe\">\n",
       "  <thead>\n",
       "    <tr style=\"text-align: right;\">\n",
       "      <th></th>\n",
       "      <th>CaseID</th>\n",
       "      <th>Opened</th>\n",
       "      <th>Closed</th>\n",
       "      <th>Updated</th>\n",
       "      <th>Status</th>\n",
       "      <th>Status Notes</th>\n",
       "      <th>Responsible Agency</th>\n",
       "      <th>Category</th>\n",
       "      <th>Request Type</th>\n",
       "      <th>Request Details</th>\n",
       "      <th>Address</th>\n",
       "      <th>Supervisor_District</th>\n",
       "      <th>Neighborhood</th>\n",
       "      <th>Point</th>\n",
       "      <th>Source</th>\n",
       "      <th>Media URL</th>\n",
       "      <th>Newcol</th>\n",
       "    </tr>\n",
       "  </thead>\n",
       "  <tbody>\n",
       "    <tr>\n",
       "      <th>0</th>\n",
       "      <td>322571</td>\n",
       "      <td>11/30/2008 11:53:00 PM</td>\n",
       "      <td>12/01/2008 03:19:00 PM</td>\n",
       "      <td>12/01/2008 03:19:00 PM</td>\n",
       "      <td>0</td>\n",
       "      <td>NaN</td>\n",
       "      <td>PUC - Electric/Power - G</td>\n",
       "      <td>General Requests</td>\n",
       "      <td>puc - electric - request_for_service</td>\n",
       "      <td>puc - electric - request_for_service</td>\n",
       "      <td>Intersection of 21ST ST and CAPP ST</td>\n",
       "      <td>9</td>\n",
       "      <td>Mission</td>\n",
       "      <td>(37.7571008516766, -122.417811874214)</td>\n",
       "      <td>1</td>\n",
       "      <td>NaN</td>\n",
       "      <td>1</td>\n",
       "    </tr>\n",
       "    <tr>\n",
       "      <th>1</th>\n",
       "      <td>322568</td>\n",
       "      <td>11/30/2008 11:13:00 PM</td>\n",
       "      <td>07/21/2009 04:24:00 PM</td>\n",
       "      <td>07/21/2009 04:24:00 PM</td>\n",
       "      <td>0</td>\n",
       "      <td>NaN</td>\n",
       "      <td>DPW Ops Queue</td>\n",
       "      <td>Illegal Postings</td>\n",
       "      <td>Illegal Postings - Posting_Too_Large_in_Size</td>\n",
       "      <td>Posting_Too_Large_in_Size on Sidewalk</td>\n",
       "      <td>Intersection of BUSH ST and VAN NESS AVE</td>\n",
       "      <td>3</td>\n",
       "      <td>Nob Hill</td>\n",
       "      <td>(37.7884895281133, -122.421948485141)</td>\n",
       "      <td>1</td>\n",
       "      <td>NaN</td>\n",
       "      <td>1</td>\n",
       "    </tr>\n",
       "    <tr>\n",
       "      <th>2</th>\n",
       "      <td>322567</td>\n",
       "      <td>11/30/2008 11:07:00 PM</td>\n",
       "      <td>12/27/2008 06:07:00 AM</td>\n",
       "      <td>12/27/2008 06:07:00 AM</td>\n",
       "      <td>0</td>\n",
       "      <td>NaN</td>\n",
       "      <td>DPW Ops Queue</td>\n",
       "      <td>Illegal Postings</td>\n",
       "      <td>Illegal Postings - Affixed_Improperly</td>\n",
       "      <td>Affixed_Improperly on Sidewalk</td>\n",
       "      <td>Intersection of EUCLID AVE and MASONIC AVE</td>\n",
       "      <td>2</td>\n",
       "      <td>Western Addition</td>\n",
       "      <td>(37.7850837365507, -122.447620029034)</td>\n",
       "      <td>1</td>\n",
       "      <td>NaN</td>\n",
       "      <td>1</td>\n",
       "    </tr>\n",
       "  </tbody>\n",
       "</table>\n",
       "</div>"
      ],
      "text/plain": [
       "   CaseID                  Opened                  Closed  \\\n",
       "0  322571  11/30/2008 11:53:00 PM  12/01/2008 03:19:00 PM   \n",
       "1  322568  11/30/2008 11:13:00 PM  07/21/2009 04:24:00 PM   \n",
       "2  322567  11/30/2008 11:07:00 PM  12/27/2008 06:07:00 AM   \n",
       "\n",
       "                  Updated  Status Status Notes        Responsible Agency  \\\n",
       "0  12/01/2008 03:19:00 PM       0          NaN  PUC - Electric/Power - G   \n",
       "1  07/21/2009 04:24:00 PM       0          NaN             DPW Ops Queue   \n",
       "2  12/27/2008 06:07:00 AM       0          NaN             DPW Ops Queue   \n",
       "\n",
       "           Category                                  Request Type  \\\n",
       "0  General Requests          puc - electric - request_for_service   \n",
       "1  Illegal Postings  Illegal Postings - Posting_Too_Large_in_Size   \n",
       "2  Illegal Postings         Illegal Postings - Affixed_Improperly   \n",
       "\n",
       "                         Request Details  \\\n",
       "0   puc - electric - request_for_service   \n",
       "1  Posting_Too_Large_in_Size on Sidewalk   \n",
       "2         Affixed_Improperly on Sidewalk   \n",
       "\n",
       "                                      Address  Supervisor_District  \\\n",
       "0         Intersection of 21ST ST and CAPP ST                    9   \n",
       "1    Intersection of BUSH ST and VAN NESS AVE                    3   \n",
       "2  Intersection of EUCLID AVE and MASONIC AVE                    2   \n",
       "\n",
       "       Neighborhood                                  Point Source Media URL  \\\n",
       "0           Mission  (37.7571008516766, -122.417811874214)      1       NaN   \n",
       "1          Nob Hill  (37.7884895281133, -122.421948485141)      1       NaN   \n",
       "2  Western Addition  (37.7850837365507, -122.447620029034)      1       NaN   \n",
       "\n",
       "  Newcol  \n",
       "0      1  \n",
       "1      1  \n",
       "2      1  "
      ]
     },
     "execution_count": 166,
     "metadata": {},
     "output_type": "execute_result"
    }
   ],
   "source": [
    "sf_data44.head(3)"
   ]
  },
  {
   "cell_type": "code",
   "execution_count": 167,
   "metadata": {
    "collapsed": true
   },
   "outputs": [],
   "source": [
    "sf_data44.Status = sf_data44.Status.map(lambda x: 1 if x == 'Open' else 0)"
   ]
  },
  {
   "cell_type": "code",
   "execution_count": 168,
   "metadata": {
    "collapsed": false
   },
   "outputs": [
    {
     "data": {
      "text/html": [
       "<div>\n",
       "<table border=\"1\" class=\"dataframe\">\n",
       "  <thead>\n",
       "    <tr style=\"text-align: right;\">\n",
       "      <th></th>\n",
       "      <th>CaseID</th>\n",
       "      <th>Opened</th>\n",
       "      <th>Closed</th>\n",
       "      <th>Updated</th>\n",
       "      <th>Status</th>\n",
       "      <th>Status Notes</th>\n",
       "      <th>Responsible Agency</th>\n",
       "      <th>Category</th>\n",
       "      <th>Request Type</th>\n",
       "      <th>Request Details</th>\n",
       "      <th>Address</th>\n",
       "      <th>Supervisor_District</th>\n",
       "      <th>Neighborhood</th>\n",
       "      <th>Point</th>\n",
       "      <th>Source</th>\n",
       "      <th>Media URL</th>\n",
       "      <th>Newcol</th>\n",
       "    </tr>\n",
       "  </thead>\n",
       "  <tbody>\n",
       "    <tr>\n",
       "      <th>0</th>\n",
       "      <td>322571</td>\n",
       "      <td>11/30/2008 11:53:00 PM</td>\n",
       "      <td>12/01/2008 03:19:00 PM</td>\n",
       "      <td>12/01/2008 03:19:00 PM</td>\n",
       "      <td>0</td>\n",
       "      <td>NaN</td>\n",
       "      <td>PUC - Electric/Power - G</td>\n",
       "      <td>General Requests</td>\n",
       "      <td>puc - electric - request_for_service</td>\n",
       "      <td>puc - electric - request_for_service</td>\n",
       "      <td>Intersection of 21ST ST and CAPP ST</td>\n",
       "      <td>9</td>\n",
       "      <td>Mission</td>\n",
       "      <td>(37.7571008516766, -122.417811874214)</td>\n",
       "      <td>1</td>\n",
       "      <td>NaN</td>\n",
       "      <td>1</td>\n",
       "    </tr>\n",
       "    <tr>\n",
       "      <th>1</th>\n",
       "      <td>322568</td>\n",
       "      <td>11/30/2008 11:13:00 PM</td>\n",
       "      <td>07/21/2009 04:24:00 PM</td>\n",
       "      <td>07/21/2009 04:24:00 PM</td>\n",
       "      <td>0</td>\n",
       "      <td>NaN</td>\n",
       "      <td>DPW Ops Queue</td>\n",
       "      <td>Illegal Postings</td>\n",
       "      <td>Illegal Postings - Posting_Too_Large_in_Size</td>\n",
       "      <td>Posting_Too_Large_in_Size on Sidewalk</td>\n",
       "      <td>Intersection of BUSH ST and VAN NESS AVE</td>\n",
       "      <td>3</td>\n",
       "      <td>Nob Hill</td>\n",
       "      <td>(37.7884895281133, -122.421948485141)</td>\n",
       "      <td>1</td>\n",
       "      <td>NaN</td>\n",
       "      <td>1</td>\n",
       "    </tr>\n",
       "    <tr>\n",
       "      <th>2</th>\n",
       "      <td>322567</td>\n",
       "      <td>11/30/2008 11:07:00 PM</td>\n",
       "      <td>12/27/2008 06:07:00 AM</td>\n",
       "      <td>12/27/2008 06:07:00 AM</td>\n",
       "      <td>0</td>\n",
       "      <td>NaN</td>\n",
       "      <td>DPW Ops Queue</td>\n",
       "      <td>Illegal Postings</td>\n",
       "      <td>Illegal Postings - Affixed_Improperly</td>\n",
       "      <td>Affixed_Improperly on Sidewalk</td>\n",
       "      <td>Intersection of EUCLID AVE and MASONIC AVE</td>\n",
       "      <td>2</td>\n",
       "      <td>Western Addition</td>\n",
       "      <td>(37.7850837365507, -122.447620029034)</td>\n",
       "      <td>1</td>\n",
       "      <td>NaN</td>\n",
       "      <td>1</td>\n",
       "    </tr>\n",
       "  </tbody>\n",
       "</table>\n",
       "</div>"
      ],
      "text/plain": [
       "   CaseID                  Opened                  Closed  \\\n",
       "0  322571  11/30/2008 11:53:00 PM  12/01/2008 03:19:00 PM   \n",
       "1  322568  11/30/2008 11:13:00 PM  07/21/2009 04:24:00 PM   \n",
       "2  322567  11/30/2008 11:07:00 PM  12/27/2008 06:07:00 AM   \n",
       "\n",
       "                  Updated  Status Status Notes        Responsible Agency  \\\n",
       "0  12/01/2008 03:19:00 PM       0          NaN  PUC - Electric/Power - G   \n",
       "1  07/21/2009 04:24:00 PM       0          NaN             DPW Ops Queue   \n",
       "2  12/27/2008 06:07:00 AM       0          NaN             DPW Ops Queue   \n",
       "\n",
       "           Category                                  Request Type  \\\n",
       "0  General Requests          puc - electric - request_for_service   \n",
       "1  Illegal Postings  Illegal Postings - Posting_Too_Large_in_Size   \n",
       "2  Illegal Postings         Illegal Postings - Affixed_Improperly   \n",
       "\n",
       "                         Request Details  \\\n",
       "0   puc - electric - request_for_service   \n",
       "1  Posting_Too_Large_in_Size on Sidewalk   \n",
       "2         Affixed_Improperly on Sidewalk   \n",
       "\n",
       "                                      Address  Supervisor_District  \\\n",
       "0         Intersection of 21ST ST and CAPP ST                    9   \n",
       "1    Intersection of BUSH ST and VAN NESS AVE                    3   \n",
       "2  Intersection of EUCLID AVE and MASONIC AVE                    2   \n",
       "\n",
       "       Neighborhood                                  Point Source Media URL  \\\n",
       "0           Mission  (37.7571008516766, -122.417811874214)      1       NaN   \n",
       "1          Nob Hill  (37.7884895281133, -122.421948485141)      1       NaN   \n",
       "2  Western Addition  (37.7850837365507, -122.447620029034)      1       NaN   \n",
       "\n",
       "  Newcol  \n",
       "0      1  \n",
       "1      1  \n",
       "2      1  "
      ]
     },
     "execution_count": 168,
     "metadata": {},
     "output_type": "execute_result"
    }
   ],
   "source": [
    "sf_data44.head(3)"
   ]
  },
  {
   "cell_type": "code",
   "execution_count": 169,
   "metadata": {
    "collapsed": false
   },
   "outputs": [],
   "source": [
    "col = 'Source'\n",
    "sf_data44['Newcol']= sf_data44[col].astype(str)"
   ]
  },
  {
   "cell_type": "code",
   "execution_count": 170,
   "metadata": {
    "collapsed": true
   },
   "outputs": [],
   "source": [
    "sf_data44.Newcol= [x.replace(' ','_') for x in sf_data44.Newcol]"
   ]
  },
  {
   "cell_type": "code",
   "execution_count": 171,
   "metadata": {
    "collapsed": false
   },
   "outputs": [
    {
     "data": {
      "text/plain": [
       "array(['1', '2', 'e-3', '4', '5', '6', '7', '8', 'nan'], dtype=object)"
      ]
     },
     "execution_count": 171,
     "metadata": {},
     "output_type": "execute_result"
    }
   ],
   "source": [
    "sf_data44.Newcol.unique()"
   ]
  },
  {
   "cell_type": "code",
   "execution_count": 132,
   "metadata": {
    "collapsed": true
   },
   "outputs": [],
   "source": [
    "sf_data44.Newcol= [x.replace(\"Voice_In\",\"1\") for x in sf_data44.Newcol]"
   ]
  },
  {
   "cell_type": "code",
   "execution_count": 134,
   "metadata": {
    "collapsed": true
   },
   "outputs": [],
   "source": [
    "sf_data44.Newcol= [x.replace('Web_Self_Service','2') for x in sf_data44.Newcol]"
   ]
  },
  {
   "cell_type": "code",
   "execution_count": 135,
   "metadata": {
    "collapsed": true
   },
   "outputs": [],
   "source": [
    "sf_data44.Newcol= [x.replace('mail_In','3') for x in sf_data44.Newcol]"
   ]
  },
  {
   "cell_type": "code",
   "execution_count": 136,
   "metadata": {
    "collapsed": true
   },
   "outputs": [],
   "source": [
    "sf_data44.Newcol= [x.replace('Open311','4') for x in sf_data44.Newcol]"
   ]
  },
  {
   "cell_type": "code",
   "execution_count": 137,
   "metadata": {
    "collapsed": true
   },
   "outputs": [],
   "source": [
    "sf_data44.Newcol= [x.replace('Integrated_Agency','5') for x in sf_data44.Newcol]"
   ]
  },
  {
   "cell_type": "code",
   "execution_count": 138,
   "metadata": {
    "collapsed": true
   },
   "outputs": [],
   "source": [
    "sf_data44.Newcol= [x.replace('Twitter','6') for x in sf_data44.Newcol]"
   ]
  },
  {
   "cell_type": "code",
   "execution_count": 139,
   "metadata": {
    "collapsed": true
   },
   "outputs": [],
   "source": [
    "sf_data44.Newcol= [x.replace('Other_Department','7') for x in sf_data44.Newcol]"
   ]
  },
  {
   "cell_type": "code",
   "execution_count": 140,
   "metadata": {
    "collapsed": true
   },
   "outputs": [],
   "source": [
    "sf_data44.Newcol= [x.replace('Mail_In','8') for x in sf_data44.Newcol]"
   ]
  },
  {
   "cell_type": "code",
   "execution_count": 142,
   "metadata": {
    "collapsed": false
   },
   "outputs": [],
   "source": [
    "sf_data44.Source = sf_data44.Newcol"
   ]
  },
  {
   "cell_type": "code",
   "execution_count": 146,
   "metadata": {
    "collapsed": true
   },
   "outputs": [],
   "source": [
    "sf_data44.rename(columns={'Supervisor District':'Supervisor_District'}, inplace=True)"
   ]
  },
  {
   "cell_type": "code",
   "execution_count": 149,
   "metadata": {
    "collapsed": false
   },
   "outputs": [],
   "source": [
    "sf_data_subset = sf_data44[['Status', 'Supervisor_District', 'Source']]"
   ]
  },
  {
   "cell_type": "code",
   "execution_count": 152,
   "metadata": {
    "collapsed": false
   },
   "outputs": [
    {
     "name": "stdout",
     "output_type": "stream",
     "text": [
      "Status ~ Supervisor_District + Source -1\n"
     ]
    }
   ],
   "source": [
    "formula_simple = 'Status ~ Supervisor_District + Source -1'\n",
    "print formula_simple\n",
    "\n",
    "# Create the X and Y pairs for our data\n",
    "Y1, X1 = patsy.dmatrices(formula_simple, data=sf_data_subset)"
   ]
  },
  {
   "cell_type": "code",
   "execution_count": 153,
   "metadata": {
    "collapsed": true
   },
   "outputs": [],
   "source": [
    "r_alphas1 = np.logspace(0, 5, 200)\n",
    "r_coefs1 = ridge_coefs(X1, Y1, r_alphas1)"
   ]
  },
  {
   "cell_type": "code",
   "execution_count": 157,
   "metadata": {
    "collapsed": true
   },
   "outputs": [],
   "source": [
    "simple_feature_names1 = X1.design_info.column_names"
   ]
  },
  {
   "cell_type": "code",
   "execution_count": 172,
   "metadata": {
    "collapsed": false
   },
   "outputs": [
    {
     "data": {
      "image/png": "[encoded data removed]",
      "text/plain": [
       "<matplotlib.figure.Figure at 0x137717510>"
      ]
     },
     "metadata": {},
     "output_type": "display_data"
    },
    {
     "data": {
      "text/plain": [
       "<function __main__.ridge_plot_runner>"
      ]
     },
     "execution_count": 172,
     "metadata": {},
     "output_type": "execute_result"
    }
   ],
   "source": [
    "def ridge_plot_runner(log_of_alpha=5):\n",
    "    coef_plotter(r_alphas1, r_coefs1, simple_feature_names1, 10**log_of_alpha, regtype='ridge')\n",
    "\n",
    "interact(ridge_plot_runner, log_of_alpha=(0.0,5.0,0.05))"
   ]
  },
  {
   "cell_type": "code",
   "execution_count": null,
   "metadata": {
    "collapsed": true
   },
   "outputs": [],
   "source": []
  },
  {
   "cell_type": "markdown",
   "metadata": {},
   "source": [
    "<img src=\"http://imgur.com/xDpSobf.png\" style=\"float: left; margin: 25px 15px 0px 0px; height: 25px\">\n",
    "\n",
    "### 4.2 Ploting GridSearch with Lasso, Ridge, or Elasticnet\n",
    "---\n",
    "1. Using the gridsearch results, plot your score in relation to your parameters.\n",
    "1. Plot the effect on your coefficients given alpha.\n",
    "1. Plot any other parameter change to visualize the impact of any other hyperparameter.\n",
    "\n",
    "It's helpful to understand the impact of parameters used in Gridsearch, and that you are comfortable working with the data that is generated for reporting to explore the results visually."
   ]
  },
  {
   "cell_type": "code",
   "execution_count": null,
   "metadata": {
    "collapsed": false
   },
   "outputs": [],
   "source": []
  },
  {
   "cell_type": "code",
   "execution_count": null,
   "metadata": {
    "collapsed": true
   },
   "outputs": [],
   "source": []
  },
  {
   "cell_type": "markdown",
   "metadata": {},
   "source": [
    "<img src=\"http://imgur.com/GCAf1UX.png\" style=\"float: left; margin: 25px 15px 0px 0px; height: 25px\">\n",
    "\n",
    "## 5. Bias-variance tradeoff\n",
    "\n",
    "---\n",
    "\n",
    "1. Select San Francisco data of your choice and construct a regularized regression model (this can be data from an earlier analysis if you like). Ideally the model should actually improve across regularization strengths...\n",
    "- Gridsearch the regularization parameters to find the optimal.\n",
    "- Plot the regularization parameter against the cross-validated $R^2$.\n",
    "- Explain how regularization and regularization strength is related to the bias-variance tradeoff.\n"
   ]
  },
  {
   "cell_type": "code",
   "execution_count": null,
   "metadata": {
    "collapsed": true
   },
   "outputs": [],
   "source": []
  },
  {
   "cell_type": "markdown",
   "metadata": {},
   "source": [
    "<img src=\"http://imgur.com/xDpSobf.png\" style=\"float: left; margin: 25px 15px 0px 0px; height: 25px\">\n",
    "\n",
    "### 5.1 Calculate the approximated $\\text{bias}^2$ and variance across regularization strengths.\n",
    "\n",
    "---\n",
    "\n",
    "You can obviously use my code from the bias-variance lab to do this. \n",
    "\n",
    "Plot the bias and variance change _with_ the cross-validated $R^2$. \n",
    "\n",
    "You'll need to scale these values somehow to put them on the same chart (I recommend (MinMaxScaler)[http://scikit-learn.org/stable/modules/generated/sklearn.preprocessing.MinMaxScaler.html] to put $\\text{bias}^2$ and variance on the same scale as cross-validated $R^2$."
   ]
  },
  {
   "cell_type": "code",
   "execution_count": null,
   "metadata": {
    "collapsed": true
   },
   "outputs": [],
   "source": []
  },
  {
   "cell_type": "markdown",
   "metadata": {},
   "source": [
    "<img src=\"http://imgur.com/HNPKfE8.png\" style=\"float: left; margin: 25px 15px 0px 0px; height: 25px\">\n",
    "\n",
    "## 6. Custom regularized regression penalties\n",
    "\n",
    "---\n",
    "\n",
    "The $\\lambda1$ and $\\lambda2$ norm regularization penalties (Lasso and Ridge) are the most commonly used regularization penalties. They have a solid foundation in statistics and evidence of effectiveness. However, these are not the only possible penalties for regression – sometimes new, customized penalties give additional performance and predictive power to models depending on the context.\n",
    "\n",
    "For example, when I worked in neuroscience [we created an effective penalized regression dubbed \"GraphNet\"](http://arxiv.org/abs/1110.4139) that combined the Lasso and Ridge penalties like in Elastic net with a third penalty that rewarded clustering of coefficients according to physical distance in FMRI brain activation data.\n",
    "\n",
    "**Devise of and implement a penalized regression for San Francisco data.** What is your rationale – why would this be useful? How does it perform compared to the standard Ridge, Lasso, and Elastic Net penalties?"
   ]
  },
  {
   "cell_type": "code",
   "execution_count": null,
   "metadata": {
    "collapsed": true
   },
   "outputs": [],
   "source": []
  }
 ],
 "metadata": {
  "anaconda-cloud": {},
  "kernelspec": {
   "display_name": "Python [dsi]",
   "language": "python",
   "name": "Python [dsi]"
  },
  "language_info": {
   "codemirror_mode": {
    "name": "ipython",
    "version": 2
   },
   "file_extension": ".py",
   "mimetype": "text/x-python",
   "name": "python",
   "nbconvert_exporter": "python",
   "pygments_lexer": "ipython2",
   "version": "2.7.12"
  }
 },
 "nbformat": 4,
 "nbformat_minor": 0
}

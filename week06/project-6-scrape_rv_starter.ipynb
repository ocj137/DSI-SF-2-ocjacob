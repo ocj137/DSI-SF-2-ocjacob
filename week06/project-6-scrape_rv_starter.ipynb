{
 "cells": [
  {
   "cell_type": "markdown",
   "metadata": {},
   "source": [
    "<img src=\"http://imgur.com/1ZcRyrc.png\" style=\"float: left; margin: 15px; height: 80px\">\n",
    "\n",
    "# Project 6:  Web Scraping\n",
    "### Finding Underpriced RVs on Craigslist\n",
    "\n",
    "![](https://snag.gy/WrdUMx.jpg)"
   ]
  },
  {
   "cell_type": "markdown",
   "metadata": {},
   "source": [
    "In this project we will be practicing our web scraping skills.  You can use Scrapy or Python requests in order to complete this project.  It may be helpful to write some prototype code in this notebook to test your assumptions, then move it into a Python file that can be run from the command line.\n",
    "\n",
    "> In order to run code from the command line, instead of the notebook, you just need to save your code to a file (with a .py extension), and run it using the Python interpreter:<br><br>\n",
    "> `python my_file.py`\n",
    "\n",
    "You will be building a process to scrape a single category of search results on Craigslist, that can easily be applied to other categories by changing the search terms.  The main goal is to be able to target and scrape a single page given a set of parameters.\n",
    "\n",
    "**If you use Scrapy, provide your code in a folder.**"
   ]
  },
  {
   "cell_type": "markdown",
   "metadata": {},
   "source": [
    "## Import your libraries for scrapy / requests / pandas / numpy / etc\n",
    "Setup whichever libraries you need. Review past material for reference."
   ]
  },
  {
   "cell_type": "code",
   "execution_count": 184,
   "metadata": {
    "collapsed": false
   },
   "outputs": [],
   "source": [
    "# PREPARE REQUIRED LIBRARIES\n",
    "import pandas as pd\n",
    "import numpy as np\n",
    "#import pandas.Serie as pd_series\n",
    "\n",
    "\n",
    "from scrapy.selector import Selector\n",
    "from scrapy.http import HtmlResponse\n",
    "\n",
    "import requests"
   ]
  },
  {
   "cell_type": "markdown",
   "metadata": {},
   "source": [
    "<img src=\"http://imgur.com/l5NasQj.png\" style=\"float: left; margin: 25px 15px 0px 0px; height: 25px\">\n",
    "\n",
    "## 1.  Scrape for the largest US cities (non-exhaustive list)\n",
    "Search, research, and scrape Wikipedia for a list of the largest US cities.  There are a few sources but find one that is in a nice table.  We don't want all cities, just signifficant cities.  Examine your source.  Look for what can be differentiable.\n",
    "\n",
    "- Use requests\n",
    "- Build XPath query(ies)\n",
    "- Extract to a list\n",
    "- Clean your list"
   ]
  },
  {
   "cell_type": "code",
   "execution_count": 28,
   "metadata": {
    "collapsed": false
   },
   "outputs": [
    {
     "data": {
      "text/plain": [
       "u'<!DOCTYPE html>\\n<html>\\n<head>\\n\\n<link rel=\"icon\" href=\"http://i.infopls.com/favicon.ico\" type=\"image/x-icon\"/>\\n<link rel=\"shortcut icon\" href=\"http://i'"
      ]
     },
     "execution_count": 28,
     "metadata": {},
     "output_type": "execute_result"
    }
   ],
   "source": [
    "# SCRAPE WIKIPEDIA FOR LARGEST US CITIES (NON-EXHAUSTIVE LIST)\n",
    "# Found this site instead w the top ten cities. \n",
    "response = requests.get(\"http://www.infoplease.com/toptens/largestcities.html\")\n",
    "HTML = response.text  \n",
    "HTML[0:150]"
   ]
  },
  {
   "cell_type": "code",
   "execution_count": 34,
   "metadata": {
    "collapsed": false
   },
   "outputs": [
    {
     "data": {
      "text/html": [
       "<div>\n",
       "<table border=\"1\" class=\"dataframe\">\n",
       "  <thead>\n",
       "    <tr style=\"text-align: right;\">\n",
       "      <th></th>\n",
       "      <th>0</th>\n",
       "    </tr>\n",
       "  </thead>\n",
       "  <tbody>\n",
       "    <tr>\n",
       "      <th>0</th>\n",
       "      <td>New York, N.Y.</td>\n",
       "    </tr>\n",
       "    <tr>\n",
       "      <th>1</th>\n",
       "      <td>Los Angeles, Calif.</td>\n",
       "    </tr>\n",
       "    <tr>\n",
       "      <th>2</th>\n",
       "      <td>Chicago, Ill.</td>\n",
       "    </tr>\n",
       "    <tr>\n",
       "      <th>3</th>\n",
       "      <td>Houston, Tex.</td>\n",
       "    </tr>\n",
       "    <tr>\n",
       "      <th>4</th>\n",
       "      <td>Philadelphia, Pa.</td>\n",
       "    </tr>\n",
       "    <tr>\n",
       "      <th>5</th>\n",
       "      <td>Phoenix, Ariz.</td>\n",
       "    </tr>\n",
       "    <tr>\n",
       "      <th>6</th>\n",
       "      <td>San Antonio, Tex.</td>\n",
       "    </tr>\n",
       "    <tr>\n",
       "      <th>7</th>\n",
       "      <td>San Diego, Calif.</td>\n",
       "    </tr>\n",
       "    <tr>\n",
       "      <th>8</th>\n",
       "      <td>Dallas, Tex.</td>\n",
       "    </tr>\n",
       "    <tr>\n",
       "      <th>9</th>\n",
       "      <td>San Jose, Calif.</td>\n",
       "    </tr>\n",
       "  </tbody>\n",
       "</table>\n",
       "</div>"
      ],
      "text/plain": [
       "                     0\n",
       "0       New York, N.Y.\n",
       "1  Los Angeles, Calif.\n",
       "2        Chicago, Ill.\n",
       "3        Houston, Tex.\n",
       "4    Philadelphia, Pa.\n",
       "5       Phoenix, Ariz.\n",
       "6    San Antonio, Tex.\n",
       "7    San Diego, Calif.\n",
       "8         Dallas, Tex.\n",
       "9     San Jose, Calif."
      ]
     },
     "execution_count": 34,
     "metadata": {},
     "output_type": "execute_result"
    }
   ],
   "source": [
    "# //tr/td[2]/a for wikipedia\n",
    "\n",
    "cities = Selector(text=HTML).xpath(\"//td[@class='ttcontent'][2]/text()\").extract()\n",
    "df = pd.DataFrame(cities)\n",
    "df"
   ]
  },
  {
   "cell_type": "code",
   "execution_count": 44,
   "metadata": {
    "collapsed": false
   },
   "outputs": [
    {
     "data": {
      "text/plain": [
       "0         New York, N.Y.\n",
       "1    Los Angeles, Calif.\n",
       "2          Chicago, Ill.\n",
       "3          Houston, Tex.\n",
       "4      Philadelphia, Pa.\n",
       "5         Phoenix, Ariz.\n",
       "6      San Antonio, Tex.\n",
       "7      San Diego, Calif.\n",
       "8           Dallas, Tex.\n",
       "9       San Jose, Calif.\n",
       "Name: 0, dtype: object"
      ]
     },
     "execution_count": 44,
     "metadata": {},
     "output_type": "execute_result"
    }
   ],
   "source": [
    "df[0]"
   ]
  },
  {
   "cell_type": "code",
   "execution_count": 107,
   "metadata": {
    "collapsed": false
   },
   "outputs": [
    {
     "name": "stdout",
     "output_type": "stream",
     "text": [
      "<type 'list'>\n"
     ]
    }
   ],
   "source": [
    "def city_only(df):\n",
    "    df_city = []\n",
    "    for x in range(0,len(df[0])):\n",
    "        (x_city, x_State) = df[0][x].split(',') \n",
    "        #print x_city, df[0][x]\n",
    "        df_city.append(x_city)\n",
    "\n",
    "    return df_city\n",
    " \n",
    "cities = city_only(df)\n",
    "print type(cities)"
   ]
  },
  {
   "cell_type": "code",
   "execution_count": 113,
   "metadata": {
    "collapsed": false
   },
   "outputs": [
    {
     "data": {
      "text/plain": [
       "[u'newyork',\n",
       " u'losangeles',\n",
       " u'chicago',\n",
       " u'houston',\n",
       " u'philadelphia',\n",
       " u'phoenix',\n",
       " u'sanantonio',\n",
       " u'sandiego',\n",
       " u'dallas',\n",
       " u'sanjose']"
      ]
     },
     "execution_count": 113,
     "metadata": {},
     "output_type": "execute_result"
    }
   ],
   "source": [
    "# use replace to get rid of spaces, change to lower case of cities\n",
    "cities_simpler_lower = [x.lower().replace(' ','') for x in cities]\n",
    "cities_simpler_lower"
   ]
  },
  {
   "cell_type": "markdown",
   "metadata": {},
   "source": [
    "<img src=\"http://imgur.com/xDpSobf.png\" style=\"float: left; margin: 25px 15px 0px 0px; height: 25px\">\n",
    "\n",
    "## 1.2 Only retain cities with properly formed ASCII\n",
    "\n",
    "Optionally, filter out any cities with impropper ASCII characters.  A smaller list will be easier to look at.  However you may not need to filter these if you spend more time scraping a more concise city list.  This list should help you narrow down the list of regional Craigslist sites."
   ]
  },
  {
   "cell_type": "code",
   "execution_count": 2,
   "metadata": {
    "collapsed": true
   },
   "outputs": [],
   "source": [
    "# ONLY RETAIN PROPERLY FORMED CITIES WITH FILTERING FUNCTION\n"
   ]
  },
  {
   "cell_type": "markdown",
   "metadata": {},
   "source": [
    "<img src=\"http://imgur.com/l5NasQj.png\" style=\"float: left; margin: 25px 15px 0px 0px; height: 25px\">\n",
    "\n",
    "## 2.  Write a function to capture current pricing information via Craigslist in one city.\n",
    "Choose a city from your scraped data, then go to the cooresponding city section on Craigslist, searching for \"rv\" in the auto section.  Write a method that pulls out the prices."
   ]
  },
  {
   "cell_type": "code",
   "execution_count": 136,
   "metadata": {
    "collapsed": false
   },
   "outputs": [],
   "source": [
    "def rv_info(city):\n",
    "    \n",
    "    rv_url1 = \"http://\"+city+\".craigslist.org/search/sss?query=rv\"\n",
    "    print rv_url1\n",
    "    response1 = requests.get(rv_url1)\n",
    "    HTML1 = response1.text  \n",
    "    HTML1[0:150]\n",
    "\n",
    "    rv_prices1 = Selector(text=HTML1).xpath(\"//span[@class='price']/text()\").extract()\n",
    "    df_prices1 = pd.DataFrame(rv_prices1)\n",
    "\n",
    "    return df_prices1"
   ]
  },
  {
   "cell_type": "code",
   "execution_count": 140,
   "metadata": {
    "collapsed": false
   },
   "outputs": [
    {
     "name": "stdout",
     "output_type": "stream",
     "text": [
      "http://sanfrancisco.craigslist.org/search/sss?query=rv\n"
     ]
    },
    {
     "data": {
      "text/html": [
       "<div>\n",
       "<table border=\"1\" class=\"dataframe\">\n",
       "  <thead>\n",
       "    <tr style=\"text-align: right;\">\n",
       "      <th></th>\n",
       "      <th>0</th>\n",
       "    </tr>\n",
       "  </thead>\n",
       "  <tbody>\n",
       "    <tr>\n",
       "      <th>0</th>\n",
       "      <td>$44995</td>\n",
       "    </tr>\n",
       "    <tr>\n",
       "      <th>1</th>\n",
       "      <td>$44995</td>\n",
       "    </tr>\n",
       "    <tr>\n",
       "      <th>2</th>\n",
       "      <td>$17999</td>\n",
       "    </tr>\n",
       "    <tr>\n",
       "      <th>3</th>\n",
       "      <td>$17999</td>\n",
       "    </tr>\n",
       "    <tr>\n",
       "      <th>4</th>\n",
       "      <td>$94995</td>\n",
       "    </tr>\n",
       "  </tbody>\n",
       "</table>\n",
       "</div>"
      ],
      "text/plain": [
       "        0\n",
       "0  $44995\n",
       "1  $44995\n",
       "2  $17999\n",
       "3  $17999\n",
       "4  $94995"
      ]
     },
     "execution_count": 140,
     "metadata": {},
     "output_type": "execute_result"
    }
   ],
   "source": [
    "df = rv_info(\"sanfrancisco\")\n",
    "df.head()"
   ]
  },
  {
   "cell_type": "markdown",
   "metadata": {},
   "source": [
    "<img src=\"http://imgur.com/l5NasQj.png\" style=\"float: left; margin: 25px 15px 0px 0px; height: 25px\">\n",
    "\n",
    "## 2.1 Create a mapping of cities to cooresponding regional Craigslist URLs\n",
    "\n",
    "Major US cities on Craigslist typically have their own cooresponding section (ie: SFBay Area, NYC, Boston, Miami, Seattle, etc).  Later, you will use these to query search results for various metropolitian regions listed on Craigslist.  Between the major metropolitan Craigslist sites, the only thing that will differ is the URL's that correspond to them.\n",
    "\n",
    "The point of the \"mapping\":  Create a data structure that allows you to iterate with both the name of the city from Wikipedia, with the cooresponding variable that that will allow you to construct each craigslist URL for each region.\n",
    "\n",
    "> For San Francsico (the Bay Area metropolitan area), the url for the RV search result is:\n",
    "> http://sfbay.craigslist.org/search/sss?query=rv\n",
    ">\n",
    "> The convention is http://[region].craigslist.org/search/sss?query=rf\n",
    "> Replacing [region] with the cooresponding city name will allow you to quickly iterate through each regional Craigslist site, and scrape the prices from the search results.  Keep this in mind while you build this \"mapping\".\n"
   ]
  },
  {
   "cell_type": "code",
   "execution_count": 212,
   "metadata": {
    "collapsed": false
   },
   "outputs": [],
   "source": [
    "city_map  = {\n",
    "    \"sanfrancisco\":\"sfbayarea\",\n",
    "    \"sfbayarea\":\"sfbayarea\",\n",
    "    \"newyork\": \"newyork\",\n",
    "    \"nyc\": \"newyork\",\n",
    "    \"losangeles\": \"losangeles\",\n",
    "    \"la\":\"losangeles\",\n",
    "    \"chicago\":\"chicago\",\n",
    "    \"metro_chicago\":\"chicago\",\n",
    "    \"houston\":\"houston\",\n",
    "    \"philadelphia\":\"philadelphia\",\n",
    "    \"philly\":\"philadelphia\",\n",
    "    \"phoenix\":\"phoenix\",\n",
    "    \"sanantonio\":\"sanantonio\",\n",
    "    \"sandiego\":\"sandiego\",\n",
    "    \"dallas\":\"dallas\",\n",
    "    \"the_big_d\":\"dallas\",\n",
    "    \"sanjose\":\"sfbayarea\"\n",
    "}"
   ]
  },
  {
   "cell_type": "markdown",
   "metadata": {},
   "source": [
    "<img src=\"http://imgur.com/l5NasQj.png\" style=\"float: left; margin: 25px 15px 0px 0px; height: 25px\">\n",
    "\n",
    "## 3. Define a function to caculate mean and median price per city.\n",
    "\n",
    "Now that you've created a list of cities you want to scrape, adapt your solution for grabbing data in one region site, to grab data for all regional sites that you collected, then calculate the mean and median price of RV results from each city.\n",
    "\n",
    "> Look at the URLs from a few different regions (ie: portland, phoenix, sfbay), and find what they have in common.  Determine the area in the URL string that needs to change the least, and figure out how to replace only that portion of the URL in order to iterate through each city."
   ]
  },
  {
   "cell_type": "code",
   "execution_count": 210,
   "metadata": {
    "collapsed": false
   },
   "outputs": [],
   "source": [
    "def mean_med(rvs):\n",
    "    \n",
    "    df2_clean = [float(x.replace('$','')) for x in rvs[0]]\n",
    "    \n",
    "    print \"mean is:\", sum(df2_clean) /float(len(df2_clean))\n",
    "    \n",
    "    print \"median is:\", np.median(np.array(df2_clean))\n",
    "    "
   ]
  },
  {
   "cell_type": "code",
   "execution_count": 213,
   "metadata": {
    "collapsed": false
   },
   "outputs": [
    {
     "name": "stdout",
     "output_type": "stream",
     "text": [
      "http://houston.craigslist.org/search/sss?query=rv\n",
      "houston\n",
      "mean is: 38804.7142857\n",
      "median is: 26053.0\n",
      "http://chicago.craigslist.org/search/sss?query=rv\n",
      "metro_chicago\n",
      "mean is: 11078.1111111\n",
      "median is: 700.0\n",
      "http://losangeles.craigslist.org/search/sss?query=rv\n",
      "losangeles\n",
      "mean is: 62654.344086\n",
      "median is: 15995.0\n",
      "http://sfbayarea.craigslist.org/search/sss?query=rv\n",
      "sanfrancisco\n",
      "mean is: 25293.5540541\n",
      "median is: 20499.0\n",
      "http://sandiego.craigslist.org/search/sss?query=rv\n",
      "sandiego\n",
      "mean is: 15934.164557\n",
      "median is: 280.0\n",
      "http://phoenix.craigslist.org/search/sss?query=rv\n",
      "phoenix\n",
      "mean is: 30047.923913\n",
      "median is: 26465.0\n",
      "http://sfbayarea.craigslist.org/search/sss?query=rv\n",
      "sfbayarea\n",
      "mean is: 25293.5540541\n",
      "median is: 20499.0\n",
      "http://newyork.craigslist.org/search/sss?query=rv\n",
      "newyork\n",
      "mean is: 13687.0595238\n",
      "median is: 1600.0\n",
      "http://losangeles.craigslist.org/search/sss?query=rv\n",
      "la\n",
      "mean is: 62654.344086\n",
      "median is: 15995.0\n",
      "http://philadelphia.craigslist.org/search/sss?query=rv\n",
      "philadelphia\n",
      "mean is: 20019.1123596\n",
      "median is: 3000.0\n",
      "http://sanantonio.craigslist.org/search/sss?query=rv\n",
      "sanantonio\n",
      "mean is: 37431.0\n",
      "median is: 25489.0\n",
      "http://dallas.craigslist.org/search/sss?query=rv\n",
      "the_big_d\n",
      "mean is: 23038.3\n",
      "median is: 19995.0\n",
      "http://dallas.craigslist.org/search/sss?query=rv\n",
      "dallas\n",
      "mean is: 23038.3\n",
      "median is: 19995.0\n",
      "http://newyork.craigslist.org/search/sss?query=rv\n",
      "nyc\n",
      "mean is: 13543.6823529\n",
      "median is: 1500.0\n",
      "http://philadelphia.craigslist.org/search/sss?query=rv\n",
      "philly\n",
      "mean is: 20019.1123596\n",
      "median is: 3000.0\n",
      "http://chicago.craigslist.org/search/sss?query=rv\n",
      "chicago\n",
      "mean is: 11078.1111111\n",
      "median is: 700.0\n",
      "http://sfbayarea.craigslist.org/search/sss?query=rv\n",
      "sanjose\n",
      "mean is: 25293.5540541\n",
      "median is: 20499.0\n"
     ]
    }
   ],
   "source": [
    "\n",
    "for city  in city_map:\n",
    "    \n",
    "    df3 = rv_info(city_map[city])\n",
    "    print city\n",
    "    mean_med(df3)\n",
    "\n"
   ]
  },
  {
   "cell_type": "markdown",
   "metadata": {},
   "source": [
    "<img src=\"http://imgur.com/l5NasQj.png\" style=\"float: left; margin: 25px 15px 0px 0px; height: 25px\">\n",
    "\n",
    "## 4. Run your scraping process, and save your results to a CSV file."
   ]
  },
  {
   "cell_type": "code",
   "execution_count": null,
   "metadata": {
    "collapsed": false,
    "scrolled": true
   },
   "outputs": [],
   "source": []
  },
  {
   "cell_type": "markdown",
   "metadata": {},
   "source": [
    "<img src=\"http://imgur.com/l5NasQj.png\" style=\"float: left; margin: 25px 15px 0px 0px; height: 25px\">\n",
    "\n",
    "## 5. Do an analysis of the RV market.\n",
    "\n",
    "Go head we'll wait.  Anything notable about the data?"
   ]
  },
  {
   "cell_type": "code",
   "execution_count": null,
   "metadata": {
    "collapsed": true
   },
   "outputs": [],
   "source": []
  },
  {
   "cell_type": "markdown",
   "metadata": {
    "collapsed": true
   },
   "source": [
    "<img src=\"http://imgur.com/l5NasQj.png\" style=\"float: left; margin: 25px 15px 0px 0px; height: 25px\">\n",
    "\n",
    "### 5.1 Does it makes sense to buy RVs in one region and sell them in another?\n",
    "\n",
    "Assuming the cost of shipping or driving from one regional market to another."
   ]
  },
  {
   "cell_type": "code",
   "execution_count": null,
   "metadata": {
    "collapsed": true
   },
   "outputs": [],
   "source": []
  },
  {
   "cell_type": "markdown",
   "metadata": {},
   "source": [
    "<img src=\"http://imgur.com/xDpSobf.png\" style=\"float: left; margin: 25px 15px 0px 0px; height: 25px\">\n",
    "\n",
    "### 5.2 Can you pull out the \"make\" from the markup and include that in your analyis?\n",
    "How reliable is this data and does it make sense?"
   ]
  },
  {
   "cell_type": "code",
   "execution_count": null,
   "metadata": {
    "collapsed": true
   },
   "outputs": [],
   "source": []
  },
  {
   "cell_type": "markdown",
   "metadata": {},
   "source": [
    "<img src=\"http://imgur.com/xDpSobf.png\" style=\"float: left; margin: 25px 15px 0px 0px; height: 25px\">\n",
    "\n",
    "### 5.3 Are there any other variables you could pull out of the markup to help describe your dataset?"
   ]
  },
  {
   "cell_type": "code",
   "execution_count": null,
   "metadata": {
    "collapsed": true
   },
   "outputs": [],
   "source": []
  },
  {
   "cell_type": "markdown",
   "metadata": {},
   "source": [
    "<img src=\"http://imgur.com/xDpSobf.png\" style=\"float: left; margin: 25px 15px 0px 0px; height: 25px\">\n",
    "\n",
    "## 6. Move your project into scrapy (if you haven't used Scrapy yet)\n",
    "\n",
    ">Start a project by using the command `scrapy startproject [projectname]`\n",
    "> - Update your settings.py (review our past example)\n",
    "> - Update your items.py\n",
    "> - Create a spiders file in your `[project_name]/[project_name]/spiders` directory\n",
    "\n",
    "You can update your spider class with the complete list of craigslist \"start urls\" to effectively scrape all of the regions.  Start with one to test.\n",
    "\n",
    "Updating your parse method with the method you chose should require minimal changes.  It will require you to update your parse method to use the response parameter, and an item model (defined in items.py)."
   ]
  },
  {
   "cell_type": "code",
   "execution_count": null,
   "metadata": {
    "collapsed": true
   },
   "outputs": [],
   "source": []
  },
  {
   "cell_type": "markdown",
   "metadata": {},
   "source": [
    "<img src=\"http://imgur.com/GCAf1UX.png\" style=\"float: left; margin: 25px 15px 0px 0px; height: 25px\">\n",
    "\n",
    "## 7.  Chose another area of Craigslist to scrape.\n",
    "\n",
    "**Choose an area having more than a single page of results, then scrape multiple regions, multiple pages of search results and or details pages.**\n",
    "\n",
    "This is the true exercise of being able to understand how to succesffuly plan, develop, and employ a broader scraping strategy.  Even though this seems like a challenging task, a few tweeks of your current code can make this very managable if you've pieced together all the touch points.  If you are still confused as to some of the milestones within this process, this is an excellent opportunity to round out your understanding, or help you build a list of questions to fill in your gaps.\n",
    "\n",
    "_Use Scrapy!  Provide your code in this project directory when you submit this project._"
   ]
  },
  {
   "cell_type": "code",
   "execution_count": null,
   "metadata": {
    "collapsed": true
   },
   "outputs": [],
   "source": []
  }
 ],
 "metadata": {
  "anaconda-cloud": {},
  "kernelspec": {
   "display_name": "Python [dsi]",
   "language": "python",
   "name": "Python [dsi]"
  },
  "language_info": {
   "codemirror_mode": {
    "name": "ipython",
    "version": 2
   },
   "file_extension": ".py",
   "mimetype": "text/x-python",
   "name": "python",
   "nbconvert_exporter": "python",
   "pygments_lexer": "ipython2",
   "version": "2.7.12"
  },
  "widgets": {
   "state": {},
   "version": "1.1.2"
  }
 },
 "nbformat": 4,
 "nbformat_minor": 0
}
